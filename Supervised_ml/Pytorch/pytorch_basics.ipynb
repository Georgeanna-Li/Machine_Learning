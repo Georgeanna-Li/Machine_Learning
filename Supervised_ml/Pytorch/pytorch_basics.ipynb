{
 "cells": [
  {
   "cell_type": "markdown",
   "metadata": {},
   "source": [
    "## PyTorch\n",
    "\n",
    "### Goal of this tutorial\n",
    "- Introduce PyTorch, the tool for scientific computing\n",
    "- Learn the basic PyTorch concepts and modules such as tensors, computational graphs, automatic differentiation, affine transformation, nonlinearity, loss function, optimizer and data loader through self-contained examples\n",
    "- Learn how to train a linear regression model purely in PyTorch\n",
    "\n",
    "###  General\n",
    "- This notebook was last tested on Python 3.9.5, PyTorch 1.2.0 and Matplotlib 3.1.2\n",
    "\n",
    "References:\n",
    "- https://pytorch.org/tutorials/\n",
    "- https://github.com/jcjohnson/pytorch-examples\n",
    "- https://github.com/rguthrie3/DeepLearningForNLPInPytorch\n",
    "- https://github.com/hunkim/PyTorchZeroToAll"
   ]
  },
  {
   "cell_type": "markdown",
   "metadata": {},
   "source": [
    "## Introduction to PyTorch\n",
    "\n",
    "PyTorch is a Python based tool for scientific computing that provides three main features:\n",
    "- An n-dimensional Tensor, which is similar to numpy but can run on GPUs\n",
    "- Easily build big computational graphs for deep learning\n",
    "- Automatic differentiation for computing gradients for neural networks\n",
    "\n",
    "Install PyTorch from: https://pytorch.org/"
   ]
  },
  {
   "cell_type": "code",
   "execution_count": 1,
   "metadata": {},
   "outputs": [],
   "source": [
    "import torch"
   ]
  },
  {
   "cell_type": "markdown",
   "metadata": {},
   "source": [
    "## PyTorch's Tensor\n",
    "\n",
    "Tensor is an n-dimensional array, which is a generalization of a matrix that can be indexed in more than 2 dimensions. Tensor is similar to numpy that most of the operations in numpy object can be performed on a tensor object. However, tensor object benefits from strong GPU acceleration while numpy does not. All computations in deep learning are performed on tensors. Tensors also store optional information such as gradient and bookkeeping for computational graph. \n",
    "\n",
    "\n",
    "###  Tensor Creation\n",
    "Let us start by creating a tensor of size 5x3:"
   ]
  },
  {
   "cell_type": "code",
   "execution_count": 2,
   "metadata": {},
   "outputs": [
    {
     "name": "stdout",
     "output_type": "stream",
     "text": [
      "tensor([[0.0000e+00, 1.0842e-19, 6.4290e+00],\n",
      "        [8.5920e+09, 1.1210e-44, 0.0000e+00],\n",
      "        [0.0000e+00, 0.0000e+00, 0.0000e+00],\n",
      "        [0.0000e+00, 0.0000e+00, 0.0000e+00],\n",
      "        [0.0000e+00, 0.0000e+00, 0.0000e+00]])\n"
     ]
    }
   ],
   "source": [
    "x = torch.empty(5, 3)\n",
    "print(x)"
   ]
  },
  {
   "cell_type": "markdown",
   "metadata": {},
   "source": [
    "> Note: An uninitialized matrix is declared, but does not contain definite known values before it is used. When an uninitialized matrix is created, whatever values were in the allocated memory at the time will appear as the initial values."
   ]
  },
  {
   "cell_type": "markdown",
   "metadata": {},
   "source": [
    "Construct a randomly initialized tensor of size 5x3:"
   ]
  },
  {
   "cell_type": "code",
   "execution_count": 3,
   "metadata": {},
   "outputs": [
    {
     "name": "stdout",
     "output_type": "stream",
     "text": [
      "tensor([[0.3853, 0.9135, 0.0114],\n",
      "        [0.5736, 0.9015, 0.2772],\n",
      "        [0.0751, 0.7107, 0.6922],\n",
      "        [0.4858, 0.1272, 0.3981],\n",
      "        [0.5004, 0.8997, 0.0051]])\n"
     ]
    }
   ],
   "source": [
    "x = torch.rand(5, 3) # a tensor filled with random numbers from a uniform distribution on the interval [0,1)\n",
    "print(x) "
   ]
  },
  {
   "cell_type": "markdown",
   "metadata": {},
   "source": [
    "Construct a tensor filled zeros and of data type (dtype) long:"
   ]
  },
  {
   "cell_type": "code",
   "execution_count": 4,
   "metadata": {},
   "outputs": [
    {
     "name": "stdout",
     "output_type": "stream",
     "text": [
      "tensor([[0, 0, 0],\n",
      "        [0, 0, 0],\n",
      "        [0, 0, 0],\n",
      "        [0, 0, 0],\n",
      "        [0, 0, 0]])\n"
     ]
    }
   ],
   "source": [
    "x = torch.zeros(5, 3, dtype=torch.long)\n",
    "print(x)"
   ]
  },
  {
   "cell_type": "markdown",
   "metadata": {},
   "source": [
    "Construct a tensor directly from data:"
   ]
  },
  {
   "cell_type": "code",
   "execution_count": 5,
   "metadata": {},
   "outputs": [
    {
     "name": "stdout",
     "output_type": "stream",
     "text": [
      "tensor([[ 5.5000,  3.0000],\n",
      "        [ 3.2000, 13.0000],\n",
      "        [ 6.9000, 23.0000]])\n"
     ]
    }
   ],
   "source": [
    "x = torch.tensor([[5.5, 3], [3.2, 13], [6.9, 23]])\n",
    "print(x)"
   ]
  },
  {
   "cell_type": "markdown",
   "metadata": {},
   "source": [
    "Construct a tensor based on existing tensor: (reusing properties of input tensor like dtype by default)"
   ]
  },
  {
   "cell_type": "code",
   "execution_count": 6,
   "metadata": {},
   "outputs": [
    {
     "name": "stdout",
     "output_type": "stream",
     "text": [
      "tensor([[ 1.0358, -1.0693],\n",
      "        [ 0.7013, -1.1730],\n",
      "        [-0.4934,  0.3484]])\n"
     ]
    }
   ],
   "source": [
    "y = torch.randn_like(x) \n",
    "print(y)"
   ]
  },
  {
   "cell_type": "markdown",
   "metadata": {},
   "source": [
    "Get the size of the tensor:"
   ]
  },
  {
   "cell_type": "code",
   "execution_count": 7,
   "metadata": {},
   "outputs": [
    {
     "name": "stdout",
     "output_type": "stream",
     "text": [
      "torch.Size([3, 2])\n",
      "2\n"
     ]
    }
   ],
   "source": [
    "print(y.size())  # you can also use y.shape()\n",
    "print(y.size(1)) # get the number of columns"
   ]
  },
  {
   "cell_type": "markdown",
   "metadata": {},
   "source": [
    "Construct a 3D tensor:"
   ]
  },
  {
   "cell_type": "code",
   "execution_count": 8,
   "metadata": {},
   "outputs": [
    {
     "name": "stdout",
     "output_type": "stream",
     "text": [
      "tensor([[[ 5.5000,  3.0000],\n",
      "         [ 3.2000, 13.0000],\n",
      "         [ 6.9000, 23.0000]],\n",
      "\n",
      "        [[ 2.1000,  3.3000],\n",
      "         [ 1.8000,  2.0000],\n",
      "         [ 5.2000, 20.0000]]])\n"
     ]
    }
   ],
   "source": [
    "z = torch.tensor([ [[5.5, 3], [3.2, 13], [6.9, 23]], [[2.1, 3.3], [1.8, 2], [5.2, 20]] ])\n",
    "print(z)"
   ]
  },
  {
   "cell_type": "markdown",
   "metadata": {},
   "source": [
    "What is a 3D tensor anyway? Think about it like this. If you have a vector, indexing into the vector gives you a scalar. If you have a matrix, indexing into the matrix gives you a vector. If you have a 3D tensor, then indexing into the tensor gives you a matrix!\n",
    "\n",
    "The size of the 3D tensor will be 2x3x2 (in this example, 3D tensor is a collection of two 3x2 matrices). Let's print the size: "
   ]
  },
  {
   "cell_type": "code",
   "execution_count": 9,
   "metadata": {},
   "outputs": [
    {
     "name": "stdout",
     "output_type": "stream",
     "text": [
      "torch.Size([2, 3, 2])\n"
     ]
    }
   ],
   "source": [
    "print(z.size())"
   ]
  },
  {
   "cell_type": "code",
   "execution_count": 10,
   "metadata": {},
   "outputs": [
    {
     "name": "stdout",
     "output_type": "stream",
     "text": [
      "tensor([[ 2.1000,  3.3000],\n",
      "        [ 1.8000,  2.0000],\n",
      "        [ 5.2000, 20.0000]])\n"
     ]
    }
   ],
   "source": [
    "print(z[1]) # accesses the second dimension (matrix) whose size will be 3x2"
   ]
  },
  {
   "cell_type": "code",
   "execution_count": 11,
   "metadata": {},
   "outputs": [
    {
     "name": "stdout",
     "output_type": "stream",
     "text": [
      "tensor([1.8000, 2.0000])\n"
     ]
    }
   ],
   "source": [
    "print(z[1][1]) # accesses the second dimension of the second dimension (vector) whose size will be 1x2"
   ]
  },
  {
   "cell_type": "code",
   "execution_count": 12,
   "metadata": {},
   "outputs": [
    {
     "name": "stdout",
     "output_type": "stream",
     "text": [
      "tensor(2.)\n"
     ]
    }
   ],
   "source": [
    "print(z[1][1][1]) # accesses the second dimension of the second dimension of the second dimension (scalar) whose size will be 1x1"
   ]
  },
  {
   "cell_type": "code",
   "execution_count": 13,
   "metadata": {},
   "outputs": [
    {
     "name": "stdout",
     "output_type": "stream",
     "text": [
      "torch.float32\n"
     ]
    }
   ],
   "source": [
    "print(z.dtype) # prints data type of tensor"
   ]
  },
  {
   "cell_type": "markdown",
   "metadata": {},
   "source": [
    "The default data type of a tensor is Float. If you want an integer tensor, you can do:"
   ]
  },
  {
   "cell_type": "code",
   "execution_count": 14,
   "metadata": {},
   "outputs": [
    {
     "name": "stdout",
     "output_type": "stream",
     "text": [
      "tensor([3, 4], dtype=torch.int32)\n"
     ]
    }
   ],
   "source": [
    "it = torch.tensor([3, 4], dtype=torch.int)\n",
    "print(it)"
   ]
  },
  {
   "cell_type": "markdown",
   "metadata": {},
   "source": [
    "###  Operations on a Tensor\n",
    "\n",
    "There are multiple syntaxes for operations. Let us take a look at the addition operation."
   ]
  },
  {
   "cell_type": "code",
   "execution_count": 15,
   "metadata": {},
   "outputs": [
    {
     "name": "stdout",
     "output_type": "stream",
     "text": [
      "tensor([[0.5082, 0.8421, 0.5452],\n",
      "        [0.2905, 0.9300, 0.6360],\n",
      "        [0.2428, 0.2936, 0.5691],\n",
      "        [0.5926, 0.8449, 0.7541],\n",
      "        [0.8175, 0.3300, 0.8186]])\n",
      "tensor([[0.2355, 0.7728, 0.2963],\n",
      "        [0.1636, 0.8607, 0.3602],\n",
      "        [0.1554, 0.7779, 0.2545],\n",
      "        [0.9693, 0.3151, 0.0433],\n",
      "        [0.4765, 0.1389, 0.1328]])\n"
     ]
    }
   ],
   "source": [
    "# let's create two tensors\n",
    "x = torch.rand(5, 3)\n",
    "y = torch.rand(5, 3)\n",
    "# let's print those two tensors\n",
    "print(x)\n",
    "print(y)"
   ]
  },
  {
   "cell_type": "code",
   "execution_count": 16,
   "metadata": {},
   "outputs": [
    {
     "name": "stdout",
     "output_type": "stream",
     "text": [
      "tensor([[0.7437, 1.6149, 0.8414],\n",
      "        [0.4541, 1.7907, 0.9961],\n",
      "        [0.3982, 1.0715, 0.8235],\n",
      "        [1.5619, 1.1601, 0.7974],\n",
      "        [1.2940, 0.4689, 0.9514]])\n",
      "tensor([[0.7437, 1.6149, 0.8414],\n",
      "        [0.4541, 1.7907, 0.9961],\n",
      "        [0.3982, 1.0715, 0.8235],\n",
      "        [1.5619, 1.1601, 0.7974],\n",
      "        [1.2940, 0.4689, 0.9514]])\n"
     ]
    }
   ],
   "source": [
    "# let's add them in two ways\n",
    "print(x + y) # method 1\n",
    "print(torch.add(x, y)) # method 2"
   ]
  },
  {
   "cell_type": "code",
   "execution_count": 17,
   "metadata": {},
   "outputs": [
    {
     "data": {
      "text/plain": [
       "tensor([[0.7437, 1.6149, 0.8414],\n",
       "        [0.4541, 1.7907, 0.9961],\n",
       "        [0.3982, 1.0715, 0.8235],\n",
       "        [1.5619, 1.1601, 0.7974],\n",
       "        [1.2940, 0.4689, 0.9514]])"
      ]
     },
     "execution_count": 17,
     "metadata": {},
     "output_type": "execute_result"
    }
   ],
   "source": [
    "y.add_(x) # adds x to y (in-place) y := y + x  (method 3) or alternatively we can do y = torch.add(x,y)"
   ]
  },
  {
   "cell_type": "markdown",
   "metadata": {},
   "source": [
    "Any operation that mutates a tensor in-place is post-fixed with an ``_``. For example: ``x.copy_(y)``, ``x.t_()`` (transpose), will change x.\n",
    "\n",
    "We can use standard NumPy-like indexing:"
   ]
  },
  {
   "cell_type": "code",
   "execution_count": 18,
   "metadata": {},
   "outputs": [
    {
     "name": "stdout",
     "output_type": "stream",
     "text": [
      "tensor([[0.5082, 0.8421, 0.5452],\n",
      "        [0.2905, 0.9300, 0.6360],\n",
      "        [0.2428, 0.2936, 0.5691],\n",
      "        [0.5926, 0.8449, 0.7541],\n",
      "        [0.8175, 0.3300, 0.8186]])\n",
      "tensor([0.8421, 0.9300, 0.2936, 0.8449, 0.3300])\n"
     ]
    }
   ],
   "source": [
    "print(x) # prints x whose size is 5x3\n",
    "print(x[:, 1]) # prints the second column of tensor whose size is 1x5"
   ]
  },
  {
   "cell_type": "markdown",
   "metadata": {},
   "source": [
    "Let us resize/reshape tensor:"
   ]
  },
  {
   "cell_type": "code",
   "execution_count": 19,
   "metadata": {},
   "outputs": [
    {
     "name": "stdout",
     "output_type": "stream",
     "text": [
      "torch.Size([5, 3])\n"
     ]
    }
   ],
   "source": [
    "# let's print x's size\n",
    "print(x.size()) #  5x3"
   ]
  },
  {
   "cell_type": "code",
   "execution_count": 20,
   "metadata": {},
   "outputs": [
    {
     "name": "stdout",
     "output_type": "stream",
     "text": [
      "tensor([0.5082, 0.8421, 0.5452, 0.2905, 0.9300, 0.6360, 0.2428, 0.2936, 0.5691,\n",
      "        0.5926, 0.8449, 0.7541, 0.8175, 0.3300, 0.8186])\n",
      "torch.Size([15])\n"
     ]
    }
   ],
   "source": [
    "# let's reshape x to a flat array\n",
    "print(x.view(15)) # print reshaped tensor\n",
    "print(x.view(15).size()) # print size of the reshaped tensor"
   ]
  },
  {
   "cell_type": "markdown",
   "metadata": {},
   "source": [
    "Let us multiply two tensors:"
   ]
  },
  {
   "cell_type": "code",
   "execution_count": 21,
   "metadata": {},
   "outputs": [],
   "source": [
    "# let's create two tensors\n",
    "a = torch.randn(4, 1) \n",
    "b = torch.randn(1, 4)"
   ]
  },
  {
   "cell_type": "code",
   "execution_count": 22,
   "metadata": {},
   "outputs": [
    {
     "data": {
      "text/plain": [
       "tensor([[-0.1594, -0.1630,  0.0502, -0.2275],\n",
       "        [-0.5401, -0.5523,  0.1700, -0.7709],\n",
       "        [ 0.4220,  0.4316, -0.1328,  0.6024],\n",
       "        [ 1.2018,  1.2289, -0.3782,  1.7154]])"
      ]
     },
     "execution_count": 22,
     "metadata": {},
     "output_type": "execute_result"
    }
   ],
   "source": [
    "# let's multiply each other: a x b \n",
    "torch.mul(a, b) # (4 x 1) x (1 x 4) = (4 x 4) "
   ]
  },
  {
   "cell_type": "markdown",
   "metadata": {},
   "source": [
    "Let us compute the mean of a tensor in one particular dimension:"
   ]
  },
  {
   "cell_type": "code",
   "execution_count": 23,
   "metadata": {},
   "outputs": [
    {
     "name": "stdout",
     "output_type": "stream",
     "text": [
      "tensor([[-0.1393, -0.5219,  0.8562, -1.2118,  0.3807],\n",
      "        [ 0.5287, -0.5993, -0.6911, -0.1743,  0.7678],\n",
      "        [-0.6505,  0.1255, -0.1751, -0.0418, -0.5892]])\n"
     ]
    }
   ],
   "source": [
    "# let's create a tensor\n",
    "a = torch.randn(3, 5)\n",
    "print(a)"
   ]
  },
  {
   "cell_type": "code",
   "execution_count": 24,
   "metadata": {},
   "outputs": [
    {
     "name": "stdout",
     "output_type": "stream",
     "text": [
      "tensor([-0.1272, -0.0336, -0.2662])\n"
     ]
    }
   ],
   "source": [
    "# let's perform mean of the tensor over columns\n",
    "print(torch.mean(a, 1)) # reduce over columns (1) results in 1x3"
   ]
  },
  {
   "cell_type": "code",
   "execution_count": 25,
   "metadata": {},
   "outputs": [
    {
     "name": "stdout",
     "output_type": "stream",
     "text": [
      "tensor([-0.0871, -0.3319, -0.0033, -0.4759,  0.1865])\n"
     ]
    }
   ],
   "source": [
    "# let's perform mean of the tensor over rows\n",
    "print(torch.mean(a, 0)) # reduce over rows (0) results in 1x5"
   ]
  },
  {
   "cell_type": "markdown",
   "metadata": {},
   "source": [
    "Let us compute the max of a tensor in one particular dimension:"
   ]
  },
  {
   "cell_type": "code",
   "execution_count": 26,
   "metadata": {},
   "outputs": [
    {
     "name": "stdout",
     "output_type": "stream",
     "text": [
      "tensor([[-1.5251, -1.1056,  0.0034],\n",
      "        [ 0.7470,  1.1403, -1.7690],\n",
      "        [-0.3757, -0.0481,  1.5541],\n",
      "        [-0.0244, -1.0769, -1.5933]])\n"
     ]
    }
   ],
   "source": [
    "# let's create a tensor\n",
    "a = torch.randn(4, 3)\n",
    "print(a)"
   ]
  },
  {
   "cell_type": "code",
   "execution_count": 27,
   "metadata": {},
   "outputs": [
    {
     "name": "stdout",
     "output_type": "stream",
     "text": [
      "tensor([ 0.0034,  1.1403,  1.5541, -0.0244])\n",
      "tensor([2, 1, 2, 0])\n"
     ]
    }
   ],
   "source": [
    "# let's identify maximum in each row\n",
    "values, indices = torch.max(a, 1) \n",
    "print(values) # values is the maximum value of each row of the input tensor. (1x4)\n",
    "print(indices) # indices is the index location of each maximum value found (argmax) (1x4)"
   ]
  },
  {
   "cell_type": "markdown",
   "metadata": {},
   "source": [
    "The list of supported Tensor functions can be found here: https://pytorch.org/docs/stable/tensors.html\n",
    "\n",
    "### NumPy Bridge \n",
    "We can easily convert a Torch tensor to a numpy array and vice versa.\n",
    "\n",
    "Let us convert a Torch Tensor to a NumPy array:"
   ]
  },
  {
   "cell_type": "code",
   "execution_count": 28,
   "metadata": {},
   "outputs": [
    {
     "name": "stdout",
     "output_type": "stream",
     "text": [
      "tensor([1., 1., 1., 1., 1.])\n"
     ]
    }
   ],
   "source": [
    "# let's create a tensor\n",
    "a = torch.ones(5)\n",
    "print(a)"
   ]
  },
  {
   "cell_type": "code",
   "execution_count": 29,
   "metadata": {},
   "outputs": [
    {
     "name": "stdout",
     "output_type": "stream",
     "text": [
      "[1. 1. 1. 1. 1.]\n"
     ]
    }
   ],
   "source": [
    "# let's convert that tensor to numpy\n",
    "b = a.numpy() # converts Tensor to NumPy with a,b pointing to same memory locations\n",
    "print(b)"
   ]
  },
  {
   "cell_type": "code",
   "execution_count": 30,
   "metadata": {},
   "outputs": [
    {
     "name": "stdout",
     "output_type": "stream",
     "text": [
      "tensor([2., 2., 2., 2., 2.])\n",
      "[2. 2. 2. 2. 2.]\n"
     ]
    }
   ],
   "source": [
    "# manipulate 'a' (changes will reflect in 'b')\n",
    "a.add_(1)\n",
    "print(a)\n",
    "print(b)"
   ]
  },
  {
   "cell_type": "markdown",
   "metadata": {},
   "source": [
    "Let us convert a NumPy array to a Torch Tensor:"
   ]
  },
  {
   "cell_type": "code",
   "execution_count": 31,
   "metadata": {},
   "outputs": [
    {
     "name": "stdout",
     "output_type": "stream",
     "text": [
      "[1. 1. 1. 1. 1.]\n"
     ]
    }
   ],
   "source": [
    "# let's create a numpy array\n",
    "import numpy as np\n",
    "a = np.ones(5)\n",
    "print(a)"
   ]
  },
  {
   "cell_type": "code",
   "execution_count": 32,
   "metadata": {},
   "outputs": [
    {
     "name": "stdout",
     "output_type": "stream",
     "text": [
      "tensor([1., 1., 1., 1., 1.], dtype=torch.float64)\n"
     ]
    }
   ],
   "source": [
    "# let's convert to tensor\n",
    "b = torch.from_numpy(a)\n",
    "print(b)"
   ]
  },
  {
   "cell_type": "code",
   "execution_count": 33,
   "metadata": {},
   "outputs": [
    {
     "name": "stdout",
     "output_type": "stream",
     "text": [
      "[2. 2. 2. 2. 2.]\n",
      "tensor([2., 2., 2., 2., 2.], dtype=torch.float64)\n"
     ]
    }
   ],
   "source": [
    "# manipulate 'a' (changes will reflect in 'b')\n",
    "np.add(a, 1, out=a)\n",
    "print(a)\n",
    "print(b)"
   ]
  },
  {
   "cell_type": "markdown",
   "metadata": {},
   "source": [
    "### CUDA Tensors\n",
    "\n",
    "We can use ``.to`` function to move Tensors onto any device. Generally, we move tensors to GPUs to accelerate the computation."
   ]
  },
  {
   "cell_type": "code",
   "execution_count": 34,
   "metadata": {},
   "outputs": [],
   "source": [
    "# let us run this cell only if CUDA is available\n",
    "# We will use ``torch.device`` objects to move tensors in and out of GPU\n",
    "if torch.cuda.is_available():\n",
    "  device = torch.device(\"cuda\")          # a CUDA device object\n",
    "  y = torch.ones_like(x, device=device)  # directly create a tensor on GPU\n",
    "  x = x.to(device)                       # or just use strings ``.to(\"cuda\")``\n",
    "  z = x + y\n",
    "  print(z)\n",
    "  print(z.to(\"cpu\", torch.double))       # ``.to`` can also change dtype together!"
   ]
  },
  {
   "cell_type": "markdown",
   "metadata": {},
   "source": [
    "## Computational Graph and Automatic Differentiation\n",
    "\n",
    "Computation graph is an essential concept for efficient deep learning programming, because it allows us to not explicitly write the back propagation gradients yourselves. A computation graph is simply a specification of how your data is combined to give you the output. Since the graph totally specifies what parameters were involved with which operations, it contains enough information to compute derivatives. \n",
    "\n",
    "The ``autograd`` package provides automatic differentiation for all operations on Tensors. It is a define-by-run framework, which means that your backprop is defined by how your code is run, and that every single iteration can be different.\n",
    "\n",
    "Let us see this in more simple terms with some examples.\n",
    "\n",
    "Besides keeping track of size, data type and other things, Tensors can also keep track of how it was created. If you set its attribute ``.requires_grad`` as ``True``, it starts to track all operations on it.\n",
    "\n",
    "Let us see some example:"
   ]
  },
  {
   "cell_type": "code",
   "execution_count": 35,
   "metadata": {},
   "outputs": [
    {
     "name": "stdout",
     "output_type": "stream",
     "text": [
      "tensor([1., 2., 3.], requires_grad=True)\n",
      "tensor([5., 1., 4.], requires_grad=True)\n"
     ]
    }
   ],
   "source": [
    "# create two tensors\n",
    "a = torch.tensor([1., 2., 3], requires_grad=True) \n",
    "b = torch.tensor([5., 1., 4], requires_grad=True) \n",
    "print(a) # 1x3\n",
    "print(b) # 1x3"
   ]
  },
  {
   "cell_type": "code",
   "execution_count": 36,
   "metadata": {},
   "outputs": [
    {
     "name": "stdout",
     "output_type": "stream",
     "text": [
      "tensor([6., 3., 7.])\n"
     ]
    }
   ],
   "source": [
    "# add those tensors\n",
    "c = a + b # 1x3\n",
    "print(c.data) # 1x3"
   ]
  },
  {
   "cell_type": "code",
   "execution_count": 37,
   "metadata": {},
   "outputs": [
    {
     "name": "stdout",
     "output_type": "stream",
     "text": [
      "<AddBackward0 object at 0x7f9414a68bb0>\n"
     ]
    }
   ],
   "source": [
    "# but c knows something extra.\n",
    "print(c.grad_fn) # c knows that it was a result of addition of two tensors"
   ]
  },
  {
   "cell_type": "code",
   "execution_count": 38,
   "metadata": {},
   "outputs": [
    {
     "name": "stdout",
     "output_type": "stream",
     "text": [
      "tensor(16., grad_fn=<SumBackward0>)\n",
      "<SumBackward0 object at 0x7f9414a685e0>\n"
     ]
    }
   ],
   "source": [
    "# sum all entries in c\n",
    "d = c.sum() # 1x1\n",
    "print(d)\n",
    "print(d.grad_fn) # d knows that it was a sum of all elements in a single tensor."
   ]
  },
  {
   "cell_type": "markdown",
   "metadata": {},
   "source": [
    "``c`` knows that it was a result of addition of two tensors while ``d`` knows that it was a sum of all elements in a single tensor. Thus, a computation graph is simply a specification of how your data is combined to give you the output. \n",
    "\n",
    "Once we define the computational graph, we can call ``.backward()`` and have all the gradients computed automatically. The gradient for a tensor will be accumulated into ``.grad`` attribute."
   ]
  },
  {
   "cell_type": "code",
   "execution_count": 39,
   "metadata": {},
   "outputs": [
    {
     "name": "stdout",
     "output_type": "stream",
     "text": [
      "tensor([1., 1., 1.])\n"
     ]
    }
   ],
   "source": [
    "d.backward()\n",
    "print(a.grad) # 1x3"
   ]
  },
  {
   "cell_type": "markdown",
   "metadata": {},
   "source": [
    "You can trust it that these gradients are correct. PyTorch lets you define arbitrary computation graph that is made up of tensor (``torch.tensor``) and modules (off-the-shelf layers from ``torch.nn`` and custom layers/models). \n",
    "\n",
    "> Important Note: If you run the above block multiple times, the gradient will increment. That is because Pytorch accumulates the gradient into the ``.grad`` property, since for many models this is very convenient."
   ]
  },
  {
   "cell_type": "markdown",
   "metadata": {},
   "source": [
    "## Linearities, Nonlinearities and Loss functions\n",
    "\n",
    "A deep learning model is typically composed of linearities (affine transformation) and nonlinearities in a clever way. The nonlinearities makes the deep learning models powerful. The last node of the computational graph is typically a loss function (or objective function), which measure how far away the model prediction is from the actual target. PyTorch has most of the commonly used linearities, nonlinearities and loss functions already inbuilt into the library.\n",
    "\n",
    "### Linearities\n",
    "Affine transformation is the commonly used linearity, which is a function $f(x)$ where $f(x) = A x + b$\n",
    "for a matrix $A$ and vectors $x, b$. The parameters to be learned here are $A$ and $b$. Often, $b$ is refered to as the bias term.\n",
    "\n",
    "Let us transform a sample data using affine transformation:"
   ]
  },
  {
   "cell_type": "code",
   "execution_count": 40,
   "metadata": {},
   "outputs": [
    {
     "name": "stdout",
     "output_type": "stream",
     "text": [
      "Linear(in_features=5, out_features=3, bias=True)\n"
     ]
    }
   ],
   "source": [
    "# let's define a affine transformation based linearity layer\n",
    "linear_layer = torch.nn.Linear(5, 3) # maps from R^5 to R^3, parameters A, b\n",
    "print(linear_layer)"
   ]
  },
  {
   "cell_type": "markdown",
   "metadata": {},
   "source": [
    "Let us print the parameters: A matrix and b vector"
   ]
  },
  {
   "cell_type": "code",
   "execution_count": 41,
   "metadata": {},
   "outputs": [
    {
     "name": "stdout",
     "output_type": "stream",
     "text": [
      "tensor([[ 0.1548,  0.1210, -0.1464,  0.2710, -0.3003],\n",
      "        [ 0.1808,  0.2175, -0.0991, -0.3113,  0.0724],\n",
      "        [ 0.2064, -0.3519, -0.0462, -0.2309,  0.0977]])\n",
      "tensor([ 0.4291, -0.3054, -0.2676])\n"
     ]
    }
   ],
   "source": [
    "print(linear_layer.weight.data) # prints A  3x5\n",
    "print(linear_layer.bias.data) # prints b  1x3"
   ]
  },
  {
   "cell_type": "markdown",
   "metadata": {},
   "source": [
    "Let us create some data and pass it to the linear layer."
   ]
  },
  {
   "cell_type": "code",
   "execution_count": 42,
   "metadata": {},
   "outputs": [],
   "source": [
    "# let's create data 'x'\n",
    "x = torch.randn(1, 5) # data is 1x5. "
   ]
  },
  {
   "cell_type": "code",
   "execution_count": 43,
   "metadata": {},
   "outputs": [
    {
     "name": "stdout",
     "output_type": "stream",
     "text": [
      "tensor([[-0.0502, -0.3327,  0.8484]], grad_fn=<AddmmBackward0>)\n"
     ]
    }
   ],
   "source": [
    "# let's compute f(x) by passing x to the linear layer\n",
    "transformed_output = linear_layer(x)\n",
    "print(transformed_output)\n",
    "# print(linear_layer(torch.randn(1, 6))) # error: size mismatch, m1: [1 x 6], m2: [5 x 3] "
   ]
  },
  {
   "cell_type": "markdown",
   "metadata": {},
   "source": [
    "Other linear layers can be found here: https://pytorch.org/docs/stable/nn.html#linear-layers\n",
    "\n",
    "### Nonlinearities\n",
    "Nonlinearities lets us build powerful deep learning models. For example, sigmoid nonlinearity squashes the input to be between 0 and 1. Sigmoid nonlinearity is defined by $\\sigma(x) = \\frac{1}{1+\\exp(-x)}$. \n",
    "\n",
    "Let us see an example for using sigmoid nonlinearity on sample input:"
   ]
  },
  {
   "cell_type": "code",
   "execution_count": 44,
   "metadata": {},
   "outputs": [],
   "source": [
    "# let's define sigmoid layer\n",
    "sigmoid_layer = torch.nn.Sigmoid()"
   ]
  },
  {
   "cell_type": "code",
   "execution_count": 45,
   "metadata": {},
   "outputs": [
    {
     "name": "stdout",
     "output_type": "stream",
     "text": [
      "tensor([[-1.6648, -2.1637, -0.6173, -1.0927,  1.5017]])\n"
     ]
    }
   ],
   "source": [
    "# let's define x\n",
    "x = torch.randn(1, 5) # data is 1x5.\n",
    "print(x)"
   ]
  },
  {
   "cell_type": "code",
   "execution_count": 46,
   "metadata": {},
   "outputs": [
    {
     "name": "stdout",
     "output_type": "stream",
     "text": [
      "tensor([[0.1591, 0.1031, 0.3504, 0.2511, 0.8178]])\n"
     ]
    }
   ],
   "source": [
    "# let's pass x to sigmoid layer\n",
    "sigmoid_out = sigmoid_layer(x) # applies sigmoid element-wise results in 1x5 (doesn't change dimension)\n",
    "print(sigmoid_out)"
   ]
  },
  {
   "cell_type": "markdown",
   "metadata": {},
   "source": [
    "Another commonly used nonlinearity is softmax function, which rescales an n-dimensional input Tensor so that the elements of the n-dimensional output Tensor lie in the range $[0,1]$ and sum to 1. \n",
    "\n",
    "The softmax function is defined as, $softmax(x_i) = \\frac{\\exp{(x_i)}}{\\sum_j{\\exp{(x_j)}}}$\n",
    "\n",
    "Let us see an example for using softmax nonlinearity on sample input:"
   ]
  },
  {
   "cell_type": "code",
   "execution_count": 47,
   "metadata": {},
   "outputs": [],
   "source": [
    "# let's create a softmax layer\n",
    "softmax_layer = torch.nn.Softmax(dim=1) # row-wise softmax"
   ]
  },
  {
   "cell_type": "code",
   "execution_count": 48,
   "metadata": {},
   "outputs": [
    {
     "name": "stdout",
     "output_type": "stream",
     "text": [
      "tensor([[ 0.5156, -1.9409, -0.9461,  0.1320, -0.9614]])\n"
     ]
    }
   ],
   "source": [
    "# let's create x\n",
    "x = torch.randn(1, 5) # data is 1x5.\n",
    "print(x)"
   ]
  },
  {
   "cell_type": "code",
   "execution_count": 49,
   "metadata": {},
   "outputs": [],
   "source": [
    "# let's pass x to the softmax_layer\n",
    "softmax_out = softmax_layer(x) "
   ]
  },
  {
   "cell_type": "code",
   "execution_count": 50,
   "metadata": {},
   "outputs": [
    {
     "name": "stdout",
     "output_type": "stream",
     "text": [
      "tensor([[0.4490, 0.0385, 0.1041, 0.3059, 0.1025]])\n"
     ]
    }
   ],
   "source": [
    "# lets print softmax output\n",
    "print(softmax_out) # each entry is between 0 to 1  "
   ]
  },
  {
   "cell_type": "code",
   "execution_count": 51,
   "metadata": {},
   "outputs": [
    {
     "name": "stdout",
     "output_type": "stream",
     "text": [
      "tensor(1.0000)\n"
     ]
    }
   ],
   "source": [
    "# softmax output sums to 1.0\n",
    "print(softmax_out[0].sum()) "
   ]
  },
  {
   "cell_type": "markdown",
   "metadata": {},
   "source": [
    "Other nonlinear layers can be found here: https://pytorch.org/docs/stable/nn.html#non-linear-activations-other\n",
    "\n",
    "### Loss function\n",
    "A loss function takes the (model prediction, target) pair of inputs, and computes a value that estimates how far away the model prediction is from the target.\n",
    "\n",
    "A simple loss is: ``nn.MSELoss`` which computes the mean-squared error between the model prediction ($\\hat{y}_i$) and the target ($y_i$). Mean Squared error can be written as, $(\\hat{y}_i - y_i)^{2}$\n",
    "\n",
    "Let us see an example for using MSELoss on output from Linear+softmax model and (randomly sampled) target (usually target is annotated by human but we create it synthetically in this tutorial for simplicity):"
   ]
  },
  {
   "cell_type": "code",
   "execution_count": 52,
   "metadata": {
    "scrolled": true
   },
   "outputs": [
    {
     "name": "stdout",
     "output_type": "stream",
     "text": [
      "tensor([[-1.1576,  0.2490,  1.0639]])\n"
     ]
    }
   ],
   "source": [
    "# create data (input, target)\n",
    "data_input = torch.randn(1,3) # 1 example, 3 input features\n",
    "data_output = torch.randn(1,3) # 1 example, 3 target label\n",
    "print(data_output) # 1x3"
   ]
  },
  {
   "cell_type": "code",
   "execution_count": 53,
   "metadata": {},
   "outputs": [],
   "source": [
    "# define linear and softmax layer\n",
    "linear_layer = torch.nn.Linear(3, 3)\n",
    "softmax_layer = torch.nn.Softmax(dim=1)"
   ]
  },
  {
   "cell_type": "code",
   "execution_count": 54,
   "metadata": {},
   "outputs": [
    {
     "name": "stdout",
     "output_type": "stream",
     "text": [
      "tensor([[0.4494, 0.2329, 0.3177]], grad_fn=<SoftmaxBackward0>)\n"
     ]
    }
   ],
   "source": [
    "# forward pass the data_input through the model (computational graph)\n",
    "transformed_output = linear_layer(data_input) # maps from R^3 to R^1, parameters A, b i.e. maps 1x3 to 1x3\n",
    "model_output = softmax_layer(transformed_output)\n",
    "print(model_output)"
   ]
  },
  {
   "cell_type": "code",
   "execution_count": 55,
   "metadata": {},
   "outputs": [
    {
     "name": "stdout",
     "output_type": "stream",
     "text": [
      "tensor(1.0465, grad_fn=<MseLossBackward0>)\n"
     ]
    }
   ],
   "source": [
    "# compute the MSELoss\n",
    "criterion = torch.nn.MSELoss()\n",
    "loss = criterion(model_output, data_output) \n",
    "print(loss) # the MSE loss of 1 individual example  "
   ]
  },
  {
   "cell_type": "markdown",
   "metadata": {},
   "source": [
    "Other loss layers can be found here: https://pytorch.org/docs/stable/nn.html#loss-functions\n",
    "\n",
    "## Optimization\n",
    "\n",
    "So far, we know:\n",
    "- how to define an arbitrary computation graph (model) with linearities, nonlinearities\n",
    "- how to add loss function to our model to measure the quality of models' predictions\n",
    "- how to use ``backward`` function to compute the gradients\n",
    "\n",
    "The only remaining piece of your PyTorch model is how to update (or learn) the weights (e.g., parameters $A, b$ of the linear layer). The commonly used optimization algorithm for neural networks is gradient descent (GD), which first randomly initializes the weight and changes the weight based on the update rule: $\\theta^{(t+1)} = \\theta^{(t)} - \\frac{1}{n} \\eta \\nabla_\\theta{L(\\theta)} $, where $\\eta$, $\\theta$ and $L(\\theta)$ corresponds to the learning rate (or step size), the parameters of the model (e.g., $A$ and $b$ put together) and the loss function over the parameters. $\\nabla_\\theta{L(\\theta)}$ correspond to the gradient which is calculated (resides in ``grads`` attribute of the tensor) when you call ``backward`` function. Therefore, the weight at the current step is equivalent to the weight at the previous step subtracted from multiplying the gradient (w.r.t weight in previous step) with the learning rate scaled by the number of examples ($n$) for this update.\n",
    "\n",
    "Let us see an example which updates the weight of our previous Linear+Softmax model with MSELoss:"
   ]
  },
  {
   "cell_type": "code",
   "execution_count": 56,
   "metadata": {},
   "outputs": [
    {
     "name": "stdout",
     "output_type": "stream",
     "text": [
      "tensor([[-0.0661,  0.4130,  0.0059],\n",
      "        [-0.1389,  0.0589,  0.3183],\n",
      "        [ 0.3508,  0.5423,  0.5709]])\n"
     ]
    }
   ],
   "source": [
    "# get a reference to the weights (or parameters)\n",
    "model_weights = linear_layer.weight.data # note other layers in the previous graph do not have parameters\n",
    "print(model_weights) # prints model weights before GD update"
   ]
  },
  {
   "cell_type": "code",
   "execution_count": 57,
   "metadata": {},
   "outputs": [
    {
     "name": "stdout",
     "output_type": "stream",
     "text": [
      "tensor([[-0.2178,  0.1716,  0.4044],\n",
      "        [ 0.0499, -0.0393, -0.0926],\n",
      "        [ 0.1679, -0.1323, -0.3117]])\n"
     ]
    }
   ],
   "source": [
    "# compute the gradients ($\\nabla_\\theta{L(\\theta)}$)\n",
    "# the whole graph is differentiated w.r.t. the loss, \n",
    "# and all Tensors in the graph that has requires_grad=True \n",
    "# will have their .grad Tensor accumulated with the gradient.\n",
    "loss.backward()\n",
    "print(linear_layer.weight.grad) # prints the gradient w.r.t each parameter for the given data input"
   ]
  },
  {
   "cell_type": "code",
   "execution_count": 58,
   "metadata": {},
   "outputs": [
    {
     "name": "stdout",
     "output_type": "stream",
     "text": [
      "tensor([[-0.0443,  0.3959, -0.0345],\n",
      "        [-0.1439,  0.0628,  0.3276],\n",
      "        [ 0.3340,  0.5555,  0.6021]])\n"
     ]
    }
   ],
   "source": [
    "# make the GD update\n",
    "model_weights = model_weights - (1/1.0) * 0.1 * linear_layer.weight.grad # 0.1 is the learning rate, 1.0 is the no. of examples for this update\n",
    "print(model_weights) # prints model weights after GD update which is 3x3"
   ]
  },
  {
   "cell_type": "markdown",
   "metadata": {},
   "source": [
    "Generally, a GD update using only 1 training example is termed as stochastic gradient descent (SGD). If GD update uses multiple training examples (our update code actually uses 1 training example), then the optimization algorithm is termed as mini-batch gradient descent. A mini-batch gradient descent algorithm typically runs for several passes (or epochs) over your training data and at each pass, it grabs a mini-batch of training examples to perform the update. The size of the mini-batch and the learning rate are hyperparameters to be selected based on the performance of our model on the examples held out from the training data (or validation set).\n",
    "\n",
    "An overview of GD optimization algorithms can be found here: https://ruder.io/optimizing-gradient-descent/index.html\n",
    "\n",
    "Though we have few more concepts to be learned such as ``torch.optim``, ``torch.utils.data.DataLoader`` and defining a model class by inheriting ``nn.Module`` to make us efficient in deep learning programming, let us build a linear regression model and train it using synthetic data using all the concepts so far first."
   ]
  },
  {
   "cell_type": "markdown",
   "metadata": {},
   "source": [
    "## Linear Regression Model - Full Pipeline\n",
    "\n",
    "### Problem\n",
    "In this section, we will focus on implementing the full pipeline for the linear regression model. Essentially, we will execute the following tasks:\n",
    "- generate synthetic data for linear regression with 1000 training examples each having 1 feature\n",
    "- define a linear regression model based on the computational graph\n",
    "- plot the decision surface (based on random weights) before training\n",
    "- train the linear regression model using mini-batch GD with a batch size of 5 and learning rate of 0.01 for 5 epochs\n",
    "- report the MSE loss on the training examples after each epoch of training\n",
    "- plot the decision surface (based on trained weights) after training\n"
   ]
  },
  {
   "cell_type": "code",
   "execution_count": 59,
   "metadata": {},
   "outputs": [],
   "source": [
    "# some useful imports\n",
    "import random\n",
    "import matplotlib.pyplot as plt\n",
    "import torch.nn as nn\n",
    "import math\n",
    "\n",
    "# set the seed (allows reproducibility of the results)\n",
    "manual_seed = 123\n",
    "random.seed(manual_seed)\n",
    "np.random.seed(manual_seed) # allows us to reproduce results when using random generation on the numpy\n",
    "torch.manual_seed(manual_seed) # allows us to reproduce results when using random generation on the cpu\n",
    "device = torch.device(\"cuda\" if torch.cuda.is_available() else \"cpu\")\n",
    "n_gpu = torch.cuda.device_count()\n",
    "if n_gpu > 0:\n",
    "  torch.cuda.manual_seed(manual_seed) # allows us to reproduce results when using random generation on the gpu\n",
    "\n",
    "# hyperparameters\n",
    "MAX_EPOCHS = 5 # maximum number of training epochs\n",
    "LEARNING_RATE = 0.1 # learning rate for the optimization algorithm\n",
    "BATCH_SIZE = 5 # size of the mini-batch for gradient descent\n",
    "NUM_EXAMPLES = 1000 # total number of training examples"
   ]
  },
  {
   "cell_type": "markdown",
   "metadata": {},
   "source": [
    "### Preparing synthetic data\n"
   ]
  },
  {
   "cell_type": "code",
   "execution_count": 60,
   "metadata": {},
   "outputs": [],
   "source": [
    "# prepare synthetic training examples, 1000 of them each having 1 feature\n",
    "data_input = torch.randn(NUM_EXAMPLES, 1, requires_grad=False) # input features\n",
    "data_output = torch.randn(NUM_EXAMPLES, 1, requires_grad=False) # targets/labels\n",
    "for xi in range(NUM_EXAMPLES):\n",
    "  # make output some arbitrary function of x\n",
    "  data_output[xi] = data_input[xi].item()*2 + random.random() "
   ]
  },
  {
   "cell_type": "markdown",
   "metadata": {},
   "source": [
    "### Define linear regression model\n"
   ]
  },
  {
   "cell_type": "code",
   "execution_count": 61,
   "metadata": {},
   "outputs": [],
   "source": [
    "model = nn.Linear(1, 1) # takes an example with 1 feature and maps to 1 dimensional output\n",
    "criterion = nn.MSELoss()"
   ]
  },
  {
   "cell_type": "markdown",
   "metadata": {},
   "source": [
    "### Plot the decision surface before training\n"
   ]
  },
  {
   "cell_type": "code",
   "execution_count": 62,
   "metadata": {},
   "outputs": [
    {
     "data": {
      "image/png": "[encoded data removed]",
      "text/plain": [
       "<Figure size 432x288 with 1 Axes>"
      ]
     },
     "metadata": {
      "needs_background": "light"
     },
     "output_type": "display_data"
    }
   ],
   "source": [
    "# synthetic data\n",
    "plt.plot(data_input.numpy(), data_output.numpy(), 'ro', label='Original data') \n",
    "# model predictions on synthetic data\n",
    "plt.plot(data_input.numpy(), model(data_input).detach().numpy(), label='Fitted line') # \"detach()\" returns a tensor `detached’ from the current graph. \n",
    "plt.legend()\n",
    "plt.title(\"Decision surface before training\")\n",
    "plt.show()"
   ]
  },
  {
   "cell_type": "markdown",
   "metadata": {},
   "source": [
    "The fitted line (based on random weights) is a poor fit to the underlying data.\n",
    "\n",
    "### Training procedure\n"
   ]
  },
  {
   "cell_type": "markdown",
   "metadata": {},
   "source": [
    "The skeleton of the training procedure is:"
   ]
  },
  {
   "cell_type": "code",
   "execution_count": 63,
   "metadata": {},
   "outputs": [
    {
     "data": {
      "text/plain": [
       "'\\nfor epoch in 1 to MAX_EPOCHS:\\n   for batch in batches(data): \\n      1. forward propagation - pass the batch through the model\\n      2. backward propagation - compute the gradients w.r.t each model parameter and update the model\\n'"
      ]
     },
     "execution_count": 63,
     "metadata": {},
     "output_type": "execute_result"
    }
   ],
   "source": [
    "'''\n",
    "for epoch in 1 to MAX_EPOCHS:\n",
    "   for batch in batches(data): \n",
    "      1. forward propagation - pass the batch through the model\n",
    "      2. backward propagation - compute the gradients w.r.t each model parameter and update the model\n",
    "'''"
   ]
  },
  {
   "cell_type": "markdown",
   "metadata": {},
   "source": [
    "The full training procedure is:"
   ]
  },
  {
   "cell_type": "code",
   "execution_count": 64,
   "metadata": {},
   "outputs": [
    {
     "name": "stdout",
     "output_type": "stream",
     "text": [
      "Epoch [1/5], Loss: 0.2773\n",
      "Epoch [2/5], Loss: 0.0830\n",
      "Epoch [3/5], Loss: 0.0835\n",
      "Epoch [4/5], Loss: 0.0833\n",
      "Epoch [5/5], Loss: 0.0836\n"
     ]
    }
   ],
   "source": [
    "# placeholders for current batch\n",
    "batch_input = torch.randn(BATCH_SIZE, 1, requires_grad=False)\n",
    "batch_output = torch.randn(BATCH_SIZE, 1, requires_grad=False)\n",
    "num_batches = NUM_EXAMPLES // BATCH_SIZE # number of batches per epoch\n",
    "\n",
    "# kick-start the training\n",
    "for epoch in range(MAX_EPOCHS):\n",
    "  # create a random indices from 1 to NUM_EXAMPLES\n",
    "  rand_indices = np.random.permutation(NUM_EXAMPLES)\n",
    "  total_loss = 0.0\n",
    "  for batch in range(num_batches):\n",
    "    # load the current batch\n",
    "    for bi in range(BATCH_SIZE):\n",
    "      cur_index = rand_indices[batch*BATCH_SIZE + bi]\n",
    "      batch_input[bi] = data_input[cur_index]\n",
    "      batch_output[bi] = data_output[cur_index]\n",
    "    \n",
    "    # forward propagation\n",
    "    # pass the data through the model\n",
    "    model_outputs = model(batch_input)\n",
    "    # compute the loss\n",
    "    cur_loss = criterion(model_outputs, batch_output)\n",
    "    total_loss += cur_loss.item()\n",
    "    \n",
    "    # backward propagation (compute the gradients and update the model)\n",
    "    # compute the gradients\n",
    "    cur_loss.backward()\n",
    "    # update the weights\n",
    "    model.weight.data = model.weight.data - (1.0/BATCH_SIZE) * LEARNING_RATE * model.weight.grad\n",
    "    model.bias.data = model.bias.data - (1.0/BATCH_SIZE) * LEARNING_RATE * model.bias.grad\n",
    "    # clear the buffer\n",
    "    model.weight.grad.zero_()\n",
    "    model.bias.grad.zero_()\n",
    "  # print the loss for every epoch\n",
    "  print('Epoch [{}/{}], Loss: {:.4f}'.format(epoch+1, MAX_EPOCHS, total_loss/num_batches))\n",
    "    \n"
   ]
  },
  {
   "cell_type": "markdown",
   "metadata": {},
   "source": [
    "### Plot the decision surface after training\n"
   ]
  },
  {
   "cell_type": "code",
   "execution_count": 65,
   "metadata": {},
   "outputs": [
    {
     "data": {
      "image/png": "[encoded data removed]",
      "text/plain": [
       "<Figure size 432x288 with 1 Axes>"
      ]
     },
     "metadata": {
      "needs_background": "light"
     },
     "output_type": "display_data"
    }
   ],
   "source": [
    "plt.plot(data_input.numpy(), data_output.numpy(), 'ro', label='Original data') # synthetic data\n",
    "plt.plot(data_input.numpy(), model(data_input).detach().numpy(), label='Fitted line') # model predictions on synthetic data\n",
    "plt.legend()\n",
    "plt.title(\"Decision surface after training\")\n",
    "plt.show()"
   ]
  },
  {
   "cell_type": "markdown",
   "metadata": {},
   "source": [
    "The fitted line (based on learned weights) seems to be a better fit to the underlying data.\n",
    "\n",
    "Now that we have built our first PyTorch model and the training pipeline, we can look into modules in PyTorch which can help us write efficient deep learning code.\n",
    "\n",
    "## Miscellaneous PyTorch modules\n",
    "\n",
    "### DataLoader\n",
    "PyTorch's DataLoader ``torch.utils.data.DataLoader`` brings in several desirable advantages:\n",
    "- automatic batching (e.g., we managed the batches explicitly in our linear regression code which can be avoided)\n",
    "- multi-process data loading\n",
    "- customizing data loading order\n",
    "- automatic memory pinning and so on.\n",
    "\n",
    "Let us implement a simple dataloader for our linear regression problem:"
   ]
  },
  {
   "cell_type": "code",
   "execution_count": 68,
   "metadata": {},
   "outputs": [
    {
     "name": "stdout",
     "output_type": "stream",
     "text": [
      "torch.Size([5, 1]) torch.Size([5, 1])\n",
      "200\n"
     ]
    }
   ],
   "source": [
    "from torch.utils.data import Dataset, DataLoader\n",
    "\n",
    "# create a new class inheriting torch.utils.data.Dataset\n",
    "class LRDataset(Dataset):\n",
    "  \"\"\" LR Synthetic dataset.\"\"\"\n",
    "  # prepare synthetic training examples, 1000 of them each having 1 feature\n",
    "  def __init__(self, n):\n",
    "    self.n = n\n",
    "    self.data_input = torch.randn(n, 1, requires_grad=False)\n",
    "    self.data_output = torch.randn(n, 1, requires_grad=False)\n",
    "    for xi in range(n):\n",
    "      # make output some arbitrary function of x\n",
    "      self.data_output[xi] = self.data_input[xi].item()*2 + random.random() \n",
    "  \n",
    "  # return input and output of a single example\n",
    "  def __getitem__(self, index):\n",
    "    return self.data_input[index], self.data_output[index]\n",
    "  \n",
    "  # return the total number of examples\n",
    "  def __len__(self):\n",
    "    return self.n\n",
    "\n",
    "# create the dataloader object\n",
    "dataset = LRDataset(NUM_EXAMPLES)\n",
    "train_loader = DataLoader(dataset=dataset, batch_size=BATCH_SIZE, shuffle=True, num_workers=0) \n",
    "# num_workers refers to no. of subprocesses to use\n",
    "# for more details, look at https://pytorch.org/docs/stable/data.html#\n",
    "\n",
    "# iterate over the dataset for one epoch\n",
    "num_batches = 0\n",
    "for i, data in enumerate(train_loader, 0):\n",
    "  input, output = data\n",
    "  if i == 0:\n",
    "    print(input.size(), output.size())\n",
    "  num_batches += 1\n",
    "print(num_batches) # prints the number of batches per epoch\n",
    "    "
   ]
  },
  {
   "cell_type": "markdown",
   "metadata": {},
   "source": [
    "### Defining a custom model class\n",
    "\n",
    "Wrapping the specifics of a model to a class will help us in extending our model swiftly. This is especially useful if our custom model has a lot of layers. We can define a custom model class by inheriting ``torch.nn.Module`` to wrap all the layers in our model as well as the forward propagation logic. \n",
    "\n",
    "Let us implement a custom model for our linear regression problem:"
   ]
  },
  {
   "cell_type": "code",
   "execution_count": 69,
   "metadata": {},
   "outputs": [
    {
     "name": "stdout",
     "output_type": "stream",
     "text": [
      "torch.Size([100, 1]) torch.Size([100, 1])\n"
     ]
    }
   ],
   "source": [
    "# create a custom model class inheriting torch.nn.Module\n",
    "class LRmodel(nn.Module):\n",
    "  \n",
    "  def __init__(self):\n",
    "    # In the constructor we define the layers for our model\n",
    "    super(LRmodel, self).__init__()\n",
    "    self.linear_layer = nn.Linear(1, 1)\n",
    "  \n",
    "  def forward(self, x):\n",
    "    # In the forward function we define the forward propagation logic\n",
    "    out = self.linear_layer(x)\n",
    "    return out\n",
    "\n",
    "# instantiate an object from the model\n",
    "model = LRmodel()\n",
    "\n",
    "# create sample input\n",
    "input = torch.randn(100, 1)\n",
    "\n",
    "# pass the data through the model\n",
    "out = model(input)\n",
    "\n",
    "# print the size of the input and output\n",
    "print(input.size(), out.size())"
   ]
  },
  {
   "cell_type": "markdown",
   "metadata": {},
   "source": [
    "### PyTorch's optim package\n",
    "\n",
    "``torch.optim`` is a PyTorch package implementing various optimization algorithms like SGD, Rmsprop and Adam. \n",
    "\n",
    "Let us implement the mini-batch GD algorithm using optim:"
   ]
  },
  {
   "cell_type": "code",
   "execution_count": 70,
   "metadata": {},
   "outputs": [
    {
     "name": "stdout",
     "output_type": "stream",
     "text": [
      "tensor([[-0.4590]])\n",
      "tensor([0.7652])\n",
      "tensor([[-0.3154]])\n",
      "tensor([0.5772])\n"
     ]
    }
   ],
   "source": [
    "# create an instance of SGD with required hyperparameters\n",
    "optimizer = torch.optim.SGD(model.parameters(), lr=LEARNING_RATE)\n",
    "criterion = nn.MSELoss()\n",
    "\n",
    "# print weights before update\n",
    "for param in model.parameters():\n",
    "  print(param.data)\n",
    "\n",
    "# create sample input and output\n",
    "input = torch.randn(100, 1)\n",
    "output = torch.randn(100, 1)\n",
    "\n",
    "# forward pass\n",
    "prediction = model(input)\n",
    "loss = criterion(prediction, output)\n",
    "# backward pass\n",
    "optimizer.zero_grad() # clears the gradient buffer\n",
    "loss.backward() # performs the backward pass\n",
    "optimizer.step() # update the weights\n",
    "\n",
    "# print weights before update\n",
    "for param in model.parameters():\n",
    "  print(param.data)"
   ]
  },
  {
   "cell_type": "markdown",
   "metadata": {},
   "source": [
    "Other available optimization algorithms are here: https://pytorch.org/docs/stable/optim.html\n",
    "\n",
    "## Adding dataloader, custom model and optim to our linear regression code\n",
    "\n",
    "In this section we will refine our linear regression code with the previously discussed modules, specifically DataLoader, custom model and optim.\n",
    "\n",
    "The self-contained full code is as below:"
   ]
  },
  {
   "cell_type": "code",
   "execution_count": 72,
   "metadata": {},
   "outputs": [
    {
     "data": {
      "image/png": "[encoded data removed]",
      "text/plain": [
       "<Figure size 432x288 with 1 Axes>"
      ]
     },
     "metadata": {
      "needs_background": "light"
     },
     "output_type": "display_data"
    },
    {
     "name": "stdout",
     "output_type": "stream",
     "text": [
      "Epoch [1/5], Loss: 0.1291\n",
      "Epoch [2/5], Loss: 0.0847\n",
      "Epoch [3/5], Loss: 0.0870\n",
      "Epoch [4/5], Loss: 0.0863\n",
      "Epoch [5/5], Loss: 0.0867\n"
     ]
    },
    {
     "data": {
      "image/png": "[encoded data removed]",
      "text/plain": [
       "<Figure size 432x288 with 1 Axes>"
      ]
     },
     "metadata": {
      "needs_background": "light"
     },
     "output_type": "display_data"
    }
   ],
   "source": [
    "# all the necessary imports\n",
    "import random\n",
    "import matplotlib.pyplot as plt\n",
    "import math\n",
    "import torch\n",
    "from torch.utils.data import Dataset, DataLoader\n",
    "import torch.nn as nn\n",
    "from torch import optim\n",
    "import numpy as np\n",
    "\n",
    "# set the seed\n",
    "manual_seed = 123\n",
    "random.seed(manual_seed)\n",
    "np.random.seed(manual_seed)\n",
    "torch.manual_seed(manual_seed)\n",
    "device = torch.device(\"cuda\" if torch.cuda.is_available() else \"cpu\")\n",
    "n_gpu = torch.cuda.device_count()\n",
    "if n_gpu > 0:\n",
    "  torch.cuda.manual_seed(manual_seed)\n",
    "\n",
    "\"\"\"\n",
    "create a new class inheriting torch.utils.data.Dataset\n",
    "\"\"\"\n",
    "class LRDataset(Dataset):\n",
    "  \"\"\" LR Synthetic dataset.\"\"\"\n",
    "  # prepare synthetic training examples, 1000 of them each having 1 feature\n",
    "  def __init__(self, n):\n",
    "    self.n = n\n",
    "    self.data_input = torch.randn(n, 1, requires_grad=False, device=device)\n",
    "    self.data_output = torch.randn(n, 1, requires_grad=False, device=device)\n",
    "    for xi in range(n):\n",
    "      # make output some arbitrary function of x\n",
    "      self.data_output[xi] = self.data_input[xi].item()*2 + random.random() \n",
    "  \n",
    "  # return input and output of a single example\n",
    "  def __getitem__(self, index):\n",
    "    return self.data_input[index], self.data_output[index]\n",
    "  \n",
    "  # return the total number of examples\n",
    "  def __len__(self):\n",
    "    return self.n\n",
    "\n",
    "\"\"\"\n",
    "create a custom model class inheriting torch.nn.Module\n",
    "\"\"\"\n",
    "class LRmodel(nn.Module):\n",
    "  \n",
    "  def __init__(self):\n",
    "    # In the constructor we define the layers for our model\n",
    "    super(LRmodel, self).__init__()\n",
    "    self.linear_layer = nn.Linear(1, 1)\n",
    "  \n",
    "  def forward(self, x):\n",
    "    # In the forward function we define the forward propagation logic\n",
    "    out = self.linear_layer(x)\n",
    "    return out\n",
    "\n",
    "# hyperparameters\n",
    "MAX_EPOCHS = 5\n",
    "LEARNING_RATE = 0.1\n",
    "BATCH_SIZE = 5\n",
    "NUM_EXAMPLES = 1000\n",
    "\n",
    "# create the dataloader instance\n",
    "dataset = LRDataset(NUM_EXAMPLES)\n",
    "train_loader = DataLoader(dataset=dataset, batch_size=BATCH_SIZE, shuffle=True, num_workers=0) \n",
    "\n",
    "# define the model\n",
    "model = LRmodel()\n",
    "model.to(device)\n",
    "criterion = nn.MSELoss()\n",
    "\n",
    "# create an instance of SGD with required hyperparameters\n",
    "optimizer = torch.optim.SGD(model.parameters(), lr=LEARNING_RATE)\n",
    "\n",
    "# print the decision surface before training\n",
    "plt.plot(dataset.data_input.numpy(), dataset.data_output.numpy(), 'ro', label='Original data') # synthetic data\n",
    "plt.plot(dataset.data_input.numpy(), model(dataset.data_input).detach().numpy(), label='Fitted line') # model predictions on synthetic data\n",
    "plt.legend()\n",
    "plt.title(\"Decision surface before training\")\n",
    "plt.show()\n",
    "\n",
    "# start the training\n",
    "num_batches = NUM_EXAMPLES // BATCH_SIZE # number of batches per epoch\n",
    "for epoch in range(MAX_EPOCHS):\n",
    "  total_loss = 0.0\n",
    "  # iterate throught the data loader\n",
    "  for batch in train_loader:\n",
    "    # load the current batch\n",
    "    batch_input, batch_output = batch\n",
    "    \n",
    "    # forward propagation\n",
    "    # pass the data through the model\n",
    "    model_outputs = model(batch_input)\n",
    "    # compute the loss\n",
    "    cur_loss = criterion(model_outputs, batch_output)\n",
    "    total_loss += cur_loss.item()\n",
    "    \n",
    "    # backward propagation (compute the gradients and update the model)\n",
    "    # clear the buffer\n",
    "    optimizer.zero_grad()\n",
    "    # compute the gradients\n",
    "    cur_loss.backward()\n",
    "    # update the weights\n",
    "    optimizer.step()\n",
    "    \n",
    "  # print the loss for every epoch\n",
    "  print('Epoch [{}/{}], Loss: {:.4f}'.format(epoch+1, MAX_EPOCHS, total_loss/num_batches))\n",
    "\n",
    "# print the decision surface after training\n",
    "plt.plot(dataset.data_input.numpy(), dataset.data_output.numpy(), 'ro', label='Original data') # synthetic data\n",
    "plt.plot(dataset.data_input.numpy(), model(dataset.data_input).detach().numpy(), label='Fitted line') # model predictions on synthetic data\n",
    "plt.legend()\n",
    "plt.title(\"Decision surface after training\")\n",
    "plt.show()"
   ]
  },
  {
   "cell_type": "markdown",
   "metadata": {},
   "source": [
    "That's it!"
   ]
  },
  {
   "cell_type": "code",
   "execution_count": null,
   "metadata": {},
   "outputs": [],
   "source": []
  }
 ],
 "metadata": {
  "interpreter": {
   "hash": "3d597f4c481aa0f25dceb95d2a0067e73c0966dcbd003d741d821a7208527ecf"
  },
  "kernelspec": {
   "display_name": "Python (ctrl_transformers)",
   "language": "python",
   "name": "python3"
  },
  "language_info": {
   "codemirror_mode": {
    "name": "ipython",
    "version": 3
   },
   "file_extension": ".py",
   "mimetype": "text/x-python",
   "name": "python",
   "nbconvert_exporter": "python",
   "pygments_lexer": "ipython3",
   "version": "3.9.5"
  }
 },
 "nbformat": 4,
 "nbformat_minor": 2
}
