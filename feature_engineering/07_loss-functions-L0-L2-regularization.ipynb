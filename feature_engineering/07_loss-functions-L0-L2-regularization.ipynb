{
 "cells": [
  {
   "cell_type": "markdown",
   "metadata": {
    "slideshow": {
     "slide_type": "-"
    }
   },
   "source": [
    "# 7: Loss functions, L0 and L2 Regularization"
   ]
  },
  {
   "cell_type": "markdown",
   "metadata": {
    "slideshow": {
     "slide_type": "skip"
    }
   },
   "source": [
    "## Imports"
   ]
  },
  {
   "cell_type": "code",
   "execution_count": 2,
   "metadata": {
    "slideshow": {
     "slide_type": "skip"
    }
   },
   "outputs": [],
   "source": [
    "import os\n",
    "import sys\n",
    "\n",
    "sys.path.append(\"code/.\")\n",
    "import ipywidgets as widgets\n",
    "\n",
    "%matplotlib inline\n",
    "import matplotlib.pyplot as plt\n",
    "import mglearn\n",
    "import numpy as np\n",
    "import numpy.linalg as npla\n",
    "import numpy.random as npr\n",
    "import pandas as pd\n",
    "from IPython.display import display\n",
    "from ipywidgets import interact, interactive\n",
    "from plotting_functions import *\n",
    "from sklearn import datasets\n",
    "from sklearn.dummy import DummyClassifier, DummyRegressor\n",
    "from sklearn.impute import SimpleImputer\n",
    "from sklearn.linear_model import LinearRegression, LogisticRegression, Ridge, RidgeCV\n",
    "from sklearn.model_selection import cross_val_score, cross_validate, train_test_split\n",
    "from sklearn.preprocessing import PolynomialFeatures, StandardScaler\n",
    "\n",
    "%matplotlib inline\n",
    "\n",
    "pd.set_option(\"display.max_colwidth\", 200)"
   ]
  },
  {
   "cell_type": "markdown",
   "metadata": {
    "slideshow": {
     "slide_type": "skip"
    }
   },
   "source": [
    "### Outline\n",
    "\n",
    "- Explain the intuition behind 1/0, exponential, hinge and logistic loss. \n",
    "- Explain the difference between sigmoid and logistic loss. \n",
    "- Explain the general idea of complexity penalties.\n",
    "- Relate feature selection to the idea of complexity penalty. \n",
    "- Explain the general idea of L0 and L2 regularization.\n",
    "- Use L2 regularization (Ridge) using `sklearn`. \n",
    "- Compare L0- and L2-regularization.\n",
    "- Explain the relation between the size of regression weights, overfitting, and complexity hyperparameters. \n",
    "- Explain the effect of training data size and effect of regularization.   "
   ]
  },
  {
   "cell_type": "markdown",
   "metadata": {
    "slideshow": {
     "slide_type": "slide"
    }
   },
   "source": [
    "## Loss functions"
   ]
  },
  {
   "cell_type": "markdown",
   "metadata": {
    "slideshow": {
     "slide_type": "slide"
    }
   },
   "source": [
    "In supervised machine learning, a mapping function is a function which relates `X` to `y`. How do we learn this function? \n",
    "We can start to think of (a lot of) ML as a 3-step process:\n",
    "\n",
    "1. Choose your model \n",
    "2. Choose your loss function\n",
    "3. Choose your optimization algorithm\n",
    "\n",
    "<center>\n",
    "<img src=\"img/supervised-ML-fit-process.png\" width=\"700\">\n",
    "</center>    "
   ]
  },
  {
   "cell_type": "markdown",
   "metadata": {
    "slideshow": {
     "slide_type": "slide"
    }
   },
   "source": [
    "### Choosing your model\n",
    "\n",
    "- What kind of mapping function do you want to learn?\n",
    "- Suppose we decide to go with a linear model. Then the possible mapping functions to choose from are only going to be linear functions. \n",
    "    - Example: $\\hat{y}=5x_1+ 2x_2 - x_3$ or $\\hat{y}=10x_1+2x_2$"
   ]
  },
  {
   "cell_type": "markdown",
   "metadata": {
    "slideshow": {
     "slide_type": "slide"
    }
   },
   "source": [
    "### Choosing your loss function\n",
    "- We define a criteria to quantify how bad the model's prediction is in comparison to the truth. This is called a **loss function** usually denoted as: $\\mathcal{l}(y, \\hat{y})$.\n",
    "- Examples:\n",
    "    - Binary classification: $\\mathcal{l}(y, \\hat{y}) = \\begin{cases} 0 \\text{ if } y = \\hat{y} \\\\ 1, \\text{otherwise}\\end{cases}$\n",
    "    - Regression: $\\mathcal{l}(y, \\hat{y}) = (y-\\hat{y})^2$\n",
    "- Quantifies unhappiness of the fit across the training data. \n",
    "- Captures what is important to learn. "
   ]
  },
  {
   "cell_type": "markdown",
   "metadata": {
    "slideshow": {
     "slide_type": "slide"
    }
   },
   "source": [
    "- Using our loss function and our training data, we can examine which model function is better\n",
    "    - Example: Which linear function is better for the given problem: $\\hat{y}=5x_1+ 2x_2 - x_3$ or $\\hat{y}=10x_1+2x_2$? "
   ]
  },
  {
   "cell_type": "markdown",
   "metadata": {
    "slideshow": {
     "slide_type": "slide"
    }
   },
   "source": [
    "### Choosing your optimization algorithm \n",
    "- Our goal is finding the optimal parameters so that the model's predictions are  least bad compared to the truth.\n",
    "- The optimization algorithm computationally finds the minimum of the loss function."
   ]
  },
  {
   "cell_type": "markdown",
   "metadata": {
    "slideshow": {
     "slide_type": "slide"
    }
   },
   "source": [
    "## Loss functions for linear models"
   ]
  },
  {
   "cell_type": "markdown",
   "metadata": {
    "slideshow": {
     "slide_type": "-"
    }
   },
   "source": [
    "### Goal\n",
    "\n",
    "- Learn parameters $w$ and $b$ which make predictions for each training example as close as possible to the true $y$. \n",
    "- We need two things: \n",
    "    - **Loss function**: A metric to measure how much a prediction differs from the true $y$. \n",
    "    - **Optimization algorithm**: for iteratively updating the weights so as to minimize the loss function.  "
   ]
  },
  {
   "cell_type": "markdown",
   "metadata": {
    "slideshow": {
     "slide_type": "slide"
    }
   },
   "source": [
    "### Least squares loss function\n",
    "\n",
    "- We are familiar with least squares loss function used in linear regression. \n",
    "- We want to find parameters $w$ such that the predictions on the training data are as accurate as possible according to the squared error. \n",
    "\n",
    "$$f(w)=\\sum_{i=1}^n (w^Tx_i-y_i)^2$$\n",
    "\n",
    "- It's a function of $w$.\n",
    "- We define loss of a single example as squared difference between prediction and true target.\n",
    "- The total loss is summation of losses over all training examples.  "
   ]
  },
  {
   "cell_type": "markdown",
   "metadata": {
    "slideshow": {
     "slide_type": "slide"
    }
   },
   "source": [
    "- In squared error loss penalizes really heavily for big errors compared to the absolute loss. \n",
    "- If you have a data point with a big error, the loss function is going to focus a lot on it as the penalty is very high for this this data point. \n",
    "- There is another loss function for regression absolute loss which takes the absolute difference between predicted value and the true value. \n",
    "- Adds robustness. "
   ]
  },
  {
   "cell_type": "code",
   "execution_count": 3,
   "metadata": {
    "slideshow": {
     "slide_type": "slide"
    }
   },
   "outputs": [],
   "source": [
    "data = {\"y_true\": [1, 4, 8, 64], \"y_pred\": [0, 0, 0, 0]}\n",
    "\n",
    "data[\"mean squared loss\"] = [\n",
    "    (data[\"y_true\"][i] - data[\"y_pred\"][i]) ** 2 for i in range(4)\n",
    "]\n",
    "data[\"mean absolute loss\"] = [(data[\"y_true\"][i] - data[\"y_pred\"][i]) for i in range(4)]"
   ]
  },
  {
   "cell_type": "code",
   "execution_count": 4,
   "metadata": {},
   "outputs": [
    {
     "data": {
      "text/html": [
       "<div>\n",
       "<style scoped>\n",
       "    .dataframe tbody tr th:only-of-type {\n",
       "        vertical-align: middle;\n",
       "    }\n",
       "\n",
       "    .dataframe tbody tr th {\n",
       "        vertical-align: top;\n",
       "    }\n",
       "\n",
       "    .dataframe thead th {\n",
       "        text-align: right;\n",
       "    }\n",
       "</style>\n",
       "<table border=\"1\" class=\"dataframe\">\n",
       "  <thead>\n",
       "    <tr style=\"text-align: right;\">\n",
       "      <th></th>\n",
       "      <th>y_true</th>\n",
       "      <th>y_pred</th>\n",
       "      <th>mean squared loss</th>\n",
       "      <th>mean absolute loss</th>\n",
       "    </tr>\n",
       "  </thead>\n",
       "  <tbody>\n",
       "    <tr>\n",
       "      <th>0</th>\n",
       "      <td>1</td>\n",
       "      <td>0</td>\n",
       "      <td>1</td>\n",
       "      <td>1</td>\n",
       "    </tr>\n",
       "    <tr>\n",
       "      <th>1</th>\n",
       "      <td>4</td>\n",
       "      <td>0</td>\n",
       "      <td>16</td>\n",
       "      <td>4</td>\n",
       "    </tr>\n",
       "    <tr>\n",
       "      <th>2</th>\n",
       "      <td>8</td>\n",
       "      <td>0</td>\n",
       "      <td>64</td>\n",
       "      <td>8</td>\n",
       "    </tr>\n",
       "    <tr>\n",
       "      <th>3</th>\n",
       "      <td>64</td>\n",
       "      <td>0</td>\n",
       "      <td>4096</td>\n",
       "      <td>64</td>\n",
       "    </tr>\n",
       "  </tbody>\n",
       "</table>\n",
       "</div>"
      ],
      "text/plain": [
       "   y_true  y_pred  mean squared loss  mean absolute loss\n",
       "0       1       0                  1                   1\n",
       "1       4       0                 16                   4\n",
       "2       8       0                 64                   8\n",
       "3      64       0               4096                  64"
      ]
     },
     "execution_count": 4,
     "metadata": {},
     "output_type": "execute_result"
    }
   ],
   "source": [
    "pd.DataFrame(data)"
   ]
  },
  {
   "cell_type": "markdown",
   "metadata": {
    "slideshow": {
     "slide_type": "slide"
    }
   },
   "source": [
    "### Can you use least squares for binary classification? \n",
    "\n",
    "- Let's assume binary classification with two classes: +1 and -1.\n",
    "- So $y_i$ values are just +1 or -1. \n",
    "- The raw model output $w^Tx_i$ can be any number. \n",
    "- Does it make sense to use this loss function for binary classification?\n",
    "\n",
    "$$f(w)=\\sum_{i=1}^n (w^Tx_i-y_i)^2$$"
   ]
  },
  {
   "cell_type": "markdown",
   "metadata": {
    "slideshow": {
     "slide_type": "slide"
    }
   },
   "source": [
    "### Why not least squares loss for classification?\n",
    "\n",
    "$$f(w)=\\sum_{i=1}^n (w^Tx_i-y_i)^2$$\n",
    "\n",
    "- Example: \n",
    "    - Suppose $w^Tx_i$ (prediction) is 101 and $y_i$ is $+1$. \n",
    "    - The model is behaving correctly, because $101$ is positive and so it will predict $+1$.\n",
    "    - But according to this loss function, you have a bad prediction because the loss is huge: $(101 - 1)^2 = 10000$. \n",
    "- The squared error doesn't make sense here.    \n",
    "    - It does not make sense to compare raw model outputs which can be any number. "
   ]
  },
  {
   "cell_type": "markdown",
   "metadata": {},
   "source": [
    "> Notes: the MSE function is non-convex for binary classification. In simple terms, if a binary classification model is trained with MSE Cost function, it is not guaranteed to minimize the Cost function. This is because MSE function expects real-valued inputs in range(-∞, ∞), while binary classification models output probabilities in range(0,1) through the sigmoid/logistic function. \n",
    "\n",
    "[Reference](https://towardsdatascience.com/why-using-mean-squared-error-mse-cost-function-for-binary-classification-is-a-bad-idea-933089e90df7)"
   ]
  },
  {
   "cell_type": "markdown",
   "metadata": {
    "slideshow": {
     "slide_type": "slide"
    }
   },
   "source": [
    "### What do we want?\n",
    "\n",
    "- Need a loss that encourages \n",
    "    - $w^Tx_i$ to be positive when $y_i$ is $+1$ \n",
    "    - $w^Tx_i$ to be negative when $y_i$ is $-1$   "
   ]
  },
  {
   "cell_type": "markdown",
   "metadata": {
    "slideshow": {
     "slide_type": "slide"
    }
   },
   "source": [
    "### Key idea \n",
    "\n",
    "- **Multiply $y_iw^Tx_i$**. \n",
    "- We always want this quantity to be positive because\n",
    "- If $y_i$ and $w^Tx_i$ have the _same sign_, the product will be positive.\n",
    "    - $w^Tx_i$ is positive and $y_i$ is positive 🙂\n",
    "    - $w^Tx_i$ is negative and $y_i$ is negative 🙂\n",
    "- If they have _oppositve signs_, the product will be negative.\n",
    "    - $w^Tx_i$ is positive and $y_i$ is negative 😔 \n",
    "    - $w^Tx_i$ is negative and $y_i$ is positive 😔"
   ]
  },
  {
   "cell_type": "markdown",
   "metadata": {
    "slideshow": {
     "slide_type": "slide"
    }
   },
   "source": [
    "- We'll see this type of plots. \n",
    "- Shows loss for one example.  "
   ]
  },
  {
   "cell_type": "code",
   "execution_count": 54,
   "metadata": {
    "slideshow": {
     "slide_type": "-"
    }
   },
   "outputs": [
    {
     "data": {
      "image/png": "[encoded data removed]",
      "text/plain": [
       "<Figure size 432x288 with 1 Axes>"
      ]
     },
     "metadata": {
      "needs_background": "light"
     },
     "output_type": "display_data"
    }
   ],
   "source": [
    "plot_loss_diagram()"
   ]
  },
  {
   "cell_type": "markdown",
   "metadata": {
    "slideshow": {
     "slide_type": "slide"
    }
   },
   "source": [
    "### 0/1 loss\n",
    "\n",
    "- Binary state of happiness.\n",
    "- We are happy (loss=0) when the $y_iw^Tx_i \\geq 0$ \n",
    "$$y_iw^Tx_i \\geq 0, f_i(w) = 0$$\n",
    "- We are unhappy (loss=1) when $y_iw^Tx_i < 0$ \n",
    "$$y_iw^Tx_i < 0, f_i(w) = 1$$"
   ]
  },
  {
   "cell_type": "code",
   "execution_count": 5,
   "metadata": {},
   "outputs": [
    {
     "data": {
      "image/png": "[encoded data removed]",
      "text/plain": [
       "<Figure size 432x288 with 1 Axes>"
      ]
     },
     "metadata": {
      "needs_background": "light"
     },
     "output_type": "display_data"
    }
   ],
   "source": [
    "grid = np.linspace(-2, 2, 1000)\n",
    "plot_loss_diagram()\n",
    "plt.plot(grid, grid < 0, color=\"black\", linewidth=3, label=\"0-1\")\n",
    "plt.legend(loc=\"best\", fontsize=12);"
   ]
  },
  {
   "cell_type": "markdown",
   "metadata": {
    "slideshow": {
     "slide_type": "slide"
    }
   },
   "source": [
    "### Preferences\n",
    "\n",
    "- In 0/1 loss we are giving the same penalty to the examples where we are only slightly incorrect vs very incorrect. \n",
    "- It might be nice to have some preferences: <br>\n",
    "    - <span style=\"color:green\">**correct and confident**</span> (positive value with big magnitude of $y_iw^Tx_i$) <br> **>** <span style=\"color:cyan\"> **correct and hesitant** </span>  (positive value with small magnitude of $y_iw^Tx_i$) <br> **>** <span style=\"color:orange\">**incorrect and hesitant**</span> (negative value with small magnitude of $y_iw^Tx_i$) <br> **>**  <span style=\"color:red\">**incorrect and confident**</span> (negative value with big magnitude of $y_iw^Tx_i$) "
   ]
  },
  {
   "cell_type": "markdown",
   "metadata": {
    "slideshow": {
     "slide_type": "slide"
    }
   },
   "source": [
    "### Exponential loss\n",
    "\n",
    "- Punish the wrong predictions exponentially. \n",
    "$$\\exp(-y_iw^Tx_i)$$ "
   ]
  },
  {
   "cell_type": "code",
   "execution_count": 6,
   "metadata": {
    "slideshow": {
     "slide_type": "-"
    }
   },
   "outputs": [
    {
     "data": {
      "image/png": "[encoded data removed]",
      "text/plain": [
       "<Figure size 432x288 with 1 Axes>"
      ]
     },
     "metadata": {
      "needs_background": "light"
     },
     "output_type": "display_data"
    }
   ],
   "source": [
    "plot_loss_diagram()\n",
    "plt.plot(grid, grid < 0, color=\"black\", linewidth=3, label=\"0-1\")\n",
    "plt.plot(grid, np.exp(-grid), color=\"blue\", linewidth=3, label=\"exponential\")\n",
    "plt.legend(loc=\"best\", fontsize=12);"
   ]
  },
  {
   "cell_type": "markdown",
   "metadata": {
    "slideshow": {
     "slide_type": "slide"
    }
   },
   "source": [
    "### Intuition \n",
    "\n",
    "- The function gets smaller as $y_iw^Tx_i$ gets larger, so it encourages correct classification. \n",
    "- So if we minimize this loss, which means if we move down and to the right, it is encouraging positive values and hence correct predictions. "
   ]
  },
  {
   "cell_type": "markdown",
   "metadata": {
    "slideshow": {
     "slide_type": "slide"
    }
   },
   "source": [
    "### Hinge Loss \n",
    "\n",
    "- Confident and correct examples are not penalized \n",
    "- Grows linearly for negative values in a linear fashion. \n",
    "\n",
    "$$max(0, 1 - y_iw^Tx_i)$$ "
   ]
  },
  {
   "cell_type": "code",
   "execution_count": 7,
   "metadata": {
    "slideshow": {
     "slide_type": "-"
    }
   },
   "outputs": [
    {
     "data": {
      "image/png": "[encoded data removed]",
      "text/plain": [
       "<Figure size 432x288 with 1 Axes>"
      ]
     },
     "metadata": {
      "needs_background": "light"
     },
     "output_type": "display_data"
    }
   ],
   "source": [
    "plot_loss_diagram()\n",
    "plt.plot(grid, grid < 0, color=\"black\", linewidth=3, label=\"0-1\")\n",
    "plt.plot(grid, np.exp(-grid), color=\"blue\", linewidth=3, label=\"exponential\")\n",
    "plt.plot(grid, np.maximum(0, 1 - grid), color=\"orange\", linewidth=3, label=\"hinge\")\n",
    "plt.legend(loc=\"best\", fontsize=13);"
   ]
  },
  {
   "cell_type": "markdown",
   "metadata": {
    "slideshow": {
     "slide_type": "slide"
    }
   },
   "source": [
    "- When you use Hinge loss with L2 regularization, it's called a linear support vector machine.  \n",
    "    $$f(w) = \\sum_{i=1}^n max\\{0,1-y_iw^Tx_i\\} + \\frac{\\lambda}{2} \\lVert w\\rVert_2^2$$\n",
    "- For more mathematical details on these topics see the following slide decks. \n",
    "    - [Linear classifiers](https://www.cs.ubc.ca/~schmidtm/Courses/340-F19/L20.pdf)\n",
    "    - [More on linear classifiers](https://www.cs.ubc.ca/~schmidtm/Courses/340-F19/L19.pdf)"
   ]
  },
  {
   "cell_type": "markdown",
   "metadata": {
    "slideshow": {
     "slide_type": "slide"
    }
   },
   "source": [
    "### Logistic loss (logloss)\n",
    "\n",
    "- Used in logistic regression\n",
    "- Grows linearly for negative values which makes it less sensitive to outliers. \n",
    "\n",
    "  $$\\log\\left(1+\\exp(-y_iw^Tx_i)\\right)$$"
   ]
  },
  {
   "cell_type": "code",
   "execution_count": 8,
   "metadata": {
    "slideshow": {
     "slide_type": "slide"
    }
   },
   "outputs": [
    {
     "data": {
      "image/png": "[encoded data removed]",
      "text/plain": [
       "<Figure size 432x288 with 1 Axes>"
      ]
     },
     "metadata": {
      "needs_background": "light"
     },
     "output_type": "display_data"
    }
   ],
   "source": [
    "plot_loss_diagram()\n",
    "plt.plot(grid, grid < 0, color=\"black\", linewidth=3, label=\"0-1\")\n",
    "plt.plot(grid, np.exp(-grid), color=\"blue\", linewidth=3, label=\"exponential\")\n",
    "plt.plot(grid, np.log(1 + np.exp(-grid)), color=\"green\", linewidth=3, label=\"logistic\")\n",
    "plt.plot(grid, np.maximum(0, 1 - grid), color=\"orange\", linewidth=3, label=\"hinge\")\n",
    "plt.legend(loc=\"best\", fontsize=13);"
   ]
  },
  {
   "cell_type": "markdown",
   "metadata": {
    "slideshow": {
     "slide_type": "slide"
    }
   },
   "source": [
    "### Sigmoid vs. logistic loss\n",
    "\n",
    "- A common source of confusion: \n",
    "    - Sigmoid: $\\frac{1}{(1+\\exp(-z))}$\n",
    "    - logistic loss: $\\log(1+\\exp(-z))$\n",
    "- They look very similar and both are used in logistic regression.\n",
    "- They have very different purposes. "
   ]
  },
  {
   "cell_type": "code",
   "execution_count": 9,
   "metadata": {
    "slideshow": {
     "slide_type": "slide"
    }
   },
   "outputs": [
    {
     "data": {
      "image/png": "[encoded data removed]",
      "text/plain": [
       "<Figure size 432x288 with 1 Axes>"
      ]
     },
     "metadata": {
      "needs_background": "light"
     },
     "output_type": "display_data"
    }
   ],
   "source": [
    "sigmoid = lambda x: 1 / (1 + np.exp(-x))\n",
    "raw_model_output = np.linspace(-8, 8, 1000)\n",
    "plt.plot(raw_model_output, sigmoid(raw_model_output))\n",
    "plt.plot([0, 0], [0, 0.5], \"--k\")\n",
    "plt.plot([-8, 0], [0.5, 0.5], \"--k\")\n",
    "plt.xlabel(\"raw model output, $w^Tx$\")\n",
    "plt.ylabel(\"predicted probability\")\n",
    "plt.title(\"the sigmoid function\");"
   ]
  },
  {
   "cell_type": "markdown",
   "metadata": {
    "slideshow": {
     "slide_type": "slide"
    }
   },
   "source": [
    "### Sigmoid vs. logistic loss\n",
    "\n",
    "- Sigmoid function: $$\\frac{1}{(1+\\exp(-z))}$$\n",
    "    - Maps $w^Tx_i$ to a number in $[0,1]$, to be interpreted as a probability. \n",
    "    - This is important in `predict_proba`. \n",
    "\n",
    "- Logistic loss: $\\log(1+\\exp(-z))$ \n",
    "    - Maps $y_iw^Tx_i$ to a positive number, which is the loss contribution from one training example. \n",
    "    - This is important in `fit`."
   ]
  },
  {
   "cell_type": "markdown",
   "metadata": {
    "slideshow": {
     "slide_type": "slide"
    }
   },
   "source": [
    "### Another source of confusion \n",
    "\n",
    "- You might see this alternative formulation for logistic loss. \n",
    "- For example see [here](https://developers.google.com/machine-learning/crash-course/logistic-regression/model-training) or [here](https://ml-cheatsheet.readthedocs.io/en/latest/loss_functions.html).\n",
    "\n",
    "\n",
    "$$f(w) = \\sum_{x,y \\in D} -y log(\\hat{y}) - (1-y)log(1-\\hat{y})$$\n",
    "\n",
    "- Although this looks very different than the loss function we saw before, they produce the same loss. \n",
    "- This is also referred to as cross-entropy loss. \n",
    "- Logistic loss = cross-entropy loss "
   ]
  },
  {
   "cell_type": "markdown",
   "metadata": {
    "slideshow": {
     "slide_type": "slide"
    }
   },
   "source": [
    "### The key difference between them\n",
    "\n",
    "- This formulation assumes the classes to be 0 and 1. \n",
    "$$f(w) = \\sum_{x,y \\in D} -y log(\\hat{y}) - (1-y)log(1-\\hat{y})$$\n",
    "   \n",
    "- Our previous formulation assumes classes to be -1 and +1. \n",
    "  $$f(w)=\\sum_{i=1}^n\\log\\left(1+\\exp(-y_iw^Tx_i)\\right)$$    "
   ]
  },
  {
   "cell_type": "markdown",
   "metadata": {
    "slideshow": {
     "slide_type": "slide"
    }
   },
   "source": [
    "### Which loss function should I use?\n",
    "\n",
    "- This part is more of an art than science. You should consider the following questions:\n",
    "- What kind of penalty I want to put on the examples which are far away from the truth?\n",
    "- Many other loss functions available out there. In fact, ML researchers come up with their own loss functions based on their needs."
   ]
  },
  {
   "cell_type": "markdown",
   "metadata": {
    "slideshow": {
     "slide_type": "skip"
    }
   },
   "source": [
    "<br><br><br><br>"
   ]
  },
  {
   "cell_type": "markdown",
   "metadata": {
    "slideshow": {
     "slide_type": "slide"
    }
   },
   "source": [
    "## Regularization: Motivation and notation"
   ]
  },
  {
   "cell_type": "markdown",
   "metadata": {
    "slideshow": {
     "slide_type": "slide"
    }
   },
   "source": [
    "### Complex models and the fundamental tradeoff\n",
    "\n",
    "- We’ve said that complex models tend to overfit more.\n",
    "- Recall: polynomial degree and train vs. validation scores. "
   ]
  },
  {
   "cell_type": "markdown",
   "metadata": {
    "slideshow": {
     "slide_type": "slide"
    }
   },
   "source": [
    "Let's generate some synthetic data"
   ]
  },
  {
   "cell_type": "code",
   "execution_count": 10,
   "metadata": {
    "slideshow": {
     "slide_type": "-"
    }
   },
   "outputs": [
    {
     "data": {
      "image/png": "[encoded data removed]",
      "text/plain": [
       "<Figure size 432x288 with 1 Axes>"
      ]
     },
     "metadata": {
      "needs_background": "light"
     },
     "output_type": "display_data"
    }
   ],
   "source": [
    "n = 20\n",
    "np.random.seed(4)\n",
    "X_train = np.linspace(-3, 3, n)\n",
    "y_train = X_train ** 3 + npr.randn(n) * 3\n",
    "\n",
    "n = 20\n",
    "X_valid = np.linspace(-3, 3, n)\n",
    "y_valid = X_valid ** 3 + npr.randn(n) * 3\n",
    "\n",
    "# transforming the data to include another axis\n",
    "X_train = X_train[:, np.newaxis]\n",
    "y_train = y_train[:, np.newaxis]\n",
    "\n",
    "X_valid = X_valid[:, np.newaxis]\n",
    "y_valid = y_valid[:, np.newaxis]\n",
    "\n",
    "# plt.scatter(X_train, y_train, color=\"blue\")\n",
    "mglearn.discrete_scatter(X_train, y_train, s=8);"
   ]
  },
  {
   "cell_type": "markdown",
   "metadata": {
    "slideshow": {
     "slide_type": "slide"
    }
   },
   "source": [
    "Let's fit polynomials of different degrees on the synthetic data. "
   ]
  },
  {
   "cell_type": "code",
   "execution_count": 11,
   "metadata": {
    "slideshow": {
     "slide_type": "-"
    }
   },
   "outputs": [
    {
     "data": {
      "image/png": "[encoded data removed]",
      "text/plain": [
       "<Figure size 432x288 with 1 Axes>"
      ]
     },
     "metadata": {
      "needs_background": "light"
     },
     "output_type": "display_data"
    }
   ],
   "source": [
    "def f(degree=1):\n",
    "    plot_poly_deg(X_train, y_train, X_valid, y_valid, degree=degree, valid=True)\n",
    "\n",
    "\n",
    "interactive(\n",
    "    f,\n",
    "    degree=widgets.IntSlider(min=1, max=20, step=1, value=1),\n",
    ")"
   ]
  },
  {
   "cell_type": "markdown",
   "metadata": {},
   "source": [
    "- The training score goes up as we increase the degree of the polynomial, and is highest for $p = 19$.\n",
    "- The validation score first goes up and then down. "
   ]
  },
  {
   "cell_type": "markdown",
   "metadata": {
    "slideshow": {
     "slide_type": "slide"
    }
   },
   "source": [
    "- The validation score is highest for $p = 3$, and it goes down as we increase the degree after that; we start overfitting after $p=3$.   "
   ]
  },
  {
   "cell_type": "code",
   "execution_count": 12,
   "metadata": {
    "slideshow": {
     "slide_type": "-"
    }
   },
   "outputs": [
    {
     "data": {
      "image/png": "[encoded data removed]",
      "text/plain": [
       "<Figure size 1152x1008 with 9 Axes>"
      ]
     },
     "metadata": {
      "needs_background": "light"
     },
     "output_type": "display_data"
    }
   ],
   "source": [
    "plot_train_valid_poly_deg(X_train, y_train, X_valid, y_valid)"
   ]
  },
  {
   "cell_type": "markdown",
   "metadata": {
    "slideshow": {
     "slide_type": "slide"
    }
   },
   "source": [
    "- So there is a tradeoff between complexity of models and the validation score. \n",
    "- But what if we need complex models? \n",
    "- In supervised ML we try to find the mapping between $X$ and $y$, and usually the \"true\" mapping from $X$ to $y$ is complex.\n",
    "    - Might need high-degree polynomial.\n",
    "    - Might need to use many features, and don't know \"relevant\" ones.    "
   ]
  },
  {
   "cell_type": "markdown",
   "metadata": {
    "slideshow": {
     "slide_type": "slide"
    }
   },
   "source": [
    "### Controlling model complexity\n",
    "\n",
    "A few methods to control complexity: \n",
    "- Reduce the number of features (feature selection)\n",
    "- Model averaging: average over multiple models to decrease variance (e.g., random forests). \n",
    "        \n",
    "<center>\n",
    "<img src=\"img/random-forest-train-valid.png\" width=\"600\" height=\"800\">\n",
    "</center>    \n",
    "\n",
    "- **Regularization: add a penalty on the complexity of the model**"
   ]
  },
  {
   "cell_type": "markdown",
   "metadata": {
    "slideshow": {
     "slide_type": "slide"
    }
   },
   "source": [
    "\n",
    "### Terminology and notation\n",
    "\n",
    "#### Reminder: L0, L1, and L2 norms\n",
    "\n",
    "Given a vector $w$, \n",
    "\n",
    "- L0 norm $\\lVert w \\rVert \\rightarrow$ the number of non-zero elements in $w$  \n",
    "- L1 norm $\\lVert w \\rVert_1 = \\lvert w_1 \\rvert + \\lvert w_2 \\rvert + \\dots + \\lvert w_n \\rvert$ \n",
    "- L2 norm $\\lVert w \\rVert_2 = (w_1^2 + w_2^2 + \\dots + w_n^2)^{1/2}$ \n",
    "- Square of the L2 norm $\\lVert w \\rVert_2^2 = (w_1^2 + w_2^2 + \\dots + w_n^2)$ "
   ]
  },
  {
   "cell_type": "code",
   "execution_count": 13,
   "metadata": {
    "slideshow": {
     "slide_type": "slide"
    }
   },
   "outputs": [
    {
     "name": "stdout",
     "output_type": "stream",
     "text": [
      "The l0 norm of [ 0 -2  4] is: 2.000\n",
      "The l1 norm of [ 0 -2  4] is: 6.000\n",
      "The l2 norm of [ 0 -2  4] is: 4.472\n"
     ]
    }
   ],
   "source": [
    "from numpy import array\n",
    "from numpy.linalg import norm\n",
    "\n",
    "w = array([0, -2, 4])\n",
    "\n",
    "l0 = norm(w, 0)  # number of non-zero values\n",
    "l1 = norm(w, 1)  # sum of absolute values\n",
    "l2 = norm(w, 2)  # square root of sum of the squared values\n",
    "print(\"The l0 norm of %s is: %0.3f\" % (w, l0))\n",
    "print(\"The l1 norm of %s is: %0.3f\" % (w, l1))\n",
    "print(\"The l2 norm of %s is: %0.3f\" % (w, l2))"
   ]
  },
  {
   "cell_type": "code",
   "execution_count": 14,
   "metadata": {
    "slideshow": {
     "slide_type": "slide"
    }
   },
   "outputs": [
    {
     "name": "stdout",
     "output_type": "stream",
     "text": [
      "The l0 norm of [ 0 -2  3  0] is: 2.000\n",
      "The l1 norm of [ 0 -2  3  0] is: 5.000\n",
      "The l2 norm of [ 0 -2  3  0] is: 3.606\n"
     ]
    }
   ],
   "source": [
    "# norms of a vector\n",
    "from numpy import array\n",
    "from numpy.linalg import norm\n",
    "\n",
    "w = array([0, -2, 3, 0])\n",
    "# l0 norm is the number of non-zero values in a vector\n",
    "print(\"The l0 norm of %s is: %0.3f\" % (w, norm(w, 0)))\n",
    "\n",
    "# l1 norm is the sum of the absolute values in a vector.\n",
    "print(\"The l1 norm of %s is: %0.3f\" % (w, norm(w, 1)))\n",
    "\n",
    "# l2 norm is square root of the sum of the squared values in a vector.\n",
    "print(\"The l2 norm of %s is: %0.3f\" % (w, norm(w, 2)))"
   ]
  },
  {
   "cell_type": "markdown",
   "metadata": {
    "slideshow": {
     "slide_type": "slide"
    }
   },
   "source": [
    "- We can write least squares using this notation.\n",
    "- It's the square of the L2 norm of the difference between predicted y's and true y's.  \n",
    "\n",
    "$$ f(w) = \\frac{1}{2}\\sum_{i=1}^{n}{(w^Tx_i - y_i)^2}$$\n",
    "\n",
    "$$ f(w) = \\frac{1}{2}\\lVert{Xw -y}\\rVert_2^2$$"
   ]
  },
  {
   "cell_type": "markdown",
   "metadata": {
    "slideshow": {
     "slide_type": "skip"
    }
   },
   "source": [
    "### Vectorization\n",
    "\n",
    "- We can organize all the training examples into a matrix $Z$ with one row per training example. \n",
    "- Then compute the predictions for the whole dataset succinctly as $Zw$ for the whole dataset: \n",
    "- We take each row of $Z$ and dot-product it with $w$. So the result is a vector of all our predictions.\n",
    "\n",
    "$$Zw = \\begin{bmatrix}w^Tz_0 \\\\ w^Tz_1 \\\\ \\vdots \\\\ w^Tz_n\\end{bmatrix} = \\begin{bmatrix}z_0w \\\\ z_1w \\\\ \\vdots \\\\ z_nw\\end{bmatrix} = \\begin{bmatrix} \\hat{y_1} \\\\ \\hat{y_2} \\\\ \\vdots \\\\ \\hat{y_n}\\end{bmatrix} $$\n",
    "\n"
   ]
  },
  {
   "cell_type": "markdown",
   "metadata": {
    "slideshow": {
     "slide_type": "slide"
    }
   },
   "source": [
    "- Sometimes, we refer to the transformed data (e.g., after applying polynomial transformations) as $Z$ (instead of $X$) and the weights associated with the transformed features as $v$ (instead of $w$). \n",
    "- So the least square loss function after applying polynomial transformations can be written as:  \n",
    "\n",
    "$$f(w) = \\frac{1}{2}\\lVert{Zv -y}\\rVert_2^2$$"
   ]
  },
  {
   "cell_type": "markdown",
   "metadata": {
    "slideshow": {
     "slide_type": "skip"
    }
   },
   "source": [
    "<br><br><br><br>"
   ]
  },
  {
   "cell_type": "markdown",
   "metadata": {
    "slideshow": {
     "slide_type": "slide"
    }
   },
   "source": [
    "## Complexity penalties and L0 regularization "
   ]
  },
  {
   "cell_type": "markdown",
   "metadata": {
    "slideshow": {
     "slide_type": "slide"
    }
   },
   "source": [
    "### Model selection: complexity penalty \n",
    "\n",
    "- We want to fit the data and have a simple model. \n",
    "- So far we have been doing model selection using cross validation. \n",
    "- Another way to select a model is by penalizing complex models.  "
   ]
  },
  {
   "cell_type": "code",
   "execution_count": 31,
   "metadata": {
    "slideshow": {
     "slide_type": "slide"
    }
   },
   "outputs": [
    {
     "data": {
      "text/plain": [
       "4.814326590118406"
      ]
     },
     "execution_count": 31,
     "metadata": {},
     "output_type": "execute_result"
    },
    {
     "data": {
      "image/png": "[encoded data removed]",
      "text/plain": [
       "<Figure size 432x288 with 1 Axes>"
      ]
     },
     "metadata": {
      "needs_background": "light"
     },
     "output_type": "display_data"
    }
   ],
   "source": [
    "from sklearn.metrics import mean_squared_error\n",
    "\n",
    "pt = PolynomialFeatures(degree=3)\n",
    "X_train_3 = pt.fit_transform(X_train) \n",
    "lr_degree3 = LinearRegression().fit(X_train_3, y_train)\n",
    "plot_poly_deg(X_train, y_train, X_valid, y_valid, degree=3, valid=True)\n",
    "mean_squared_error(y_train, lr_degree3.predict(X_train_3))"
   ]
  },
  {
   "cell_type": "code",
   "execution_count": 30,
   "metadata": {
    "slideshow": {
     "slide_type": "-"
    }
   },
   "outputs": [
    {
     "data": {
      "text/plain": [
       "4.7741942412511085"
      ]
     },
     "execution_count": 30,
     "metadata": {},
     "output_type": "execute_result"
    },
    {
     "data": {
      "image/png": "[encoded data removed]",
      "text/plain": [
       "<Figure size 432x288 with 1 Axes>"
      ]
     },
     "metadata": {
      "needs_background": "light"
     },
     "output_type": "display_data"
    }
   ],
   "source": [
    "pt = PolynomialFeatures(degree=4)\n",
    "X_train_4 = pt.fit_transform(X_train) \n",
    "lr_degree4 = LinearRegression().fit(X_train_4, y_train)\n",
    "plot_poly_deg(X_train, y_train, X_valid, y_valid, degree=4, valid=True)\n",
    "mean_squared_error(y_train, lr_degree4.predict(X_train_4))"
   ]
  },
  {
   "cell_type": "markdown",
   "metadata": {
    "slideshow": {
     "slide_type": "slide"
    }
   },
   "source": [
    "### Complexity penalty\n",
    "\n",
    "- Here we measure complexity in terms of the number of degrees of freedom or parameters in the model\n",
    "- In case of polynomial features, minimize the training error + the degree of \n",
    "polynomial. \n",
    "- Therefore, we state the problem as: find $p$ that minimizes \n",
    "\n",
    "$$ score(p) = \\frac{1}{2}\\lVert{Z_pv -y}\\rVert^2 + p$$\n",
    "\n",
    "- where\n",
    "    - $p \\rightarrow$ degree of polynomial in polynomial transformations\n",
    "    - $Z_p \\rightarrow$ transformed polynomial features\n",
    "    - $v \\rightarrow$ weights associated with $Z_p$"
   ]
  },
  {
   "cell_type": "markdown",
   "metadata": {
    "slideshow": {
     "slide_type": "-"
    }
   },
   "source": [
    "- If we use $p=3$, use loss + 3 as the total loss. \n",
    "- If we use $p=4$, use loss + 4 as the total loss. \n",
    "- If two $p$ have similar losses, this prefers smaller $p$."
   ]
  },
  {
   "cell_type": "markdown",
   "metadata": {
    "slideshow": {
     "slide_type": "slide"
    }
   },
   "source": [
    "### Optimizing this score\n",
    "\n",
    "$$ score(p) = \\frac{1}{2}\\lVert{Z_pv -y}\\rVert^2 + p$$\n",
    "\n",
    "- Form $Z_0$, solve for $v$ compute $ score(0) = \\frac{1}{2}\\lVert{Z_0v -y}\\rVert^2 + 0$\n",
    "- Form $Z_1$, solve for $v$ compute $ score(1) = \\frac{1}{2}\\lVert{Z_1v -y}\\rVert^2 + 1$\n",
    "- Form $Z_2$, solve for $v$ compute $ score(2) = \\frac{1}{2}\\lVert{Z_2v -y}\\rVert^2 + 2$\n",
    "- Form $Z_3$, solve for $v$ compute $ score(3) = \\frac{1}{2}\\lVert{Z_3v -y}\\rVert^2 + 3$\n",
    "\n",
    "Choose the degree with the lowest score. \n",
    "- We need to decrease the training error by at least 1 to increase degree by 1. "
   ]
  },
  {
   "cell_type": "markdown",
   "metadata": {
    "slideshow": {
     "slide_type": "skip"
    }
   },
   "source": [
    "### Model selection\n",
    "\n",
    "There are many scores usually with the form: \n",
    "$$ score(p) = \\frac{1}{2}\\lVert{Z_pv -y}\\rVert^2 + \\lambda k$$\n",
    "\n",
    "$k \\rightarrow \\text{estimated parameters/degrees of freedom}$\n",
    "\n",
    "$\\lambda \\rightarrow \\text{penalization factor}$\n",
    "\n",
    "- Pick the model with lowest score.\n",
    "- The way we choose $\\lambda$ gives us different statistical measures for model selection. \n",
    "- For example\n",
    "    - AIC sets $\\lambda = 1$ and penalizes the model complexity by the degree of freedom\n",
    "    - BIC sets $\\lambda = log(N)$, where $N$ is the number of examples. \n",
    "    - MSE does not penalize the model\n",
    "    - Classification error does not penalize the model \n",
    "\n",
    "More on these measures [here](https://web.stanford.edu/~hastie/ElemStatLearn/printings/ESLII_print12.pdf). "
   ]
  },
  {
   "cell_type": "markdown",
   "metadata": {
    "slideshow": {
     "slide_type": "slide"
    }
   },
   "source": [
    "###  Remember the search and score methods for feature selection \n",
    "\n",
    "- Define a **scoring function** $f(S)$ that measures the quality of the set of features $S$. \n",
    "- Now **search** for the set of features $S$ with the best score.\n",
    "\n",
    "- Example: Suppose you have three features: $A, B, C$\n",
    "    - Compute **score** for $S = \\{\\}$\n",
    "    - Compute **score** for $S = \\{A\\}$\n",
    "    - Compute **score** for $S= \\{B\\}$\n",
    "    - Compute **score** for $S = \\{C\\}$\n",
    "    - Compute **score** for $S = \\{A,B\\}$    \n",
    "    - Compute **score** for $S = \\{A,C\\}$\n",
    "    - Compute **score** for $S = \\{B,C\\}$\n",
    "    - Compute **score** for $S = \\{A,B,C\\}$    \n",
    "- Return $S$ with the best score.  "
   ]
  },
  {
   "cell_type": "markdown",
   "metadata": {
    "slideshow": {
     "slide_type": "slide"
    }
   },
   "source": [
    "### Scoring using complexity penalties\n",
    "\n",
    "- Find $S$ and $W_s$ minimizing the squared error + the number of selected features \n",
    "\n",
    "$$ score(S) = \\frac{1}{2}\\lVert{X_{S}w_S -y}\\rVert_2^2 + size(S) $$\n",
    "\n",
    "\n",
    "- $X_{S}$ is features $S$ of examples $X$. \n",
    "- Example\n",
    "    - Suppose $S_1 = \\{f_1, f_2, f_4\\}$ $S_2 = \\{f_1, f_2, f_4, f_5\\}$ have similar error, it prefers $S_1$.\n",
    "    - It prefers removing $f_5$ instead of keeping it with a small weight.\n",
    "- Instead of $size(S)$, we usually write \"$L0$ norm\"."
   ]
  },
  {
   "cell_type": "markdown",
   "metadata": {
    "slideshow": {
     "slide_type": "slide"
    }
   },
   "source": [
    "### $L0$ \"norm\"  and the number of features used\n",
    "\n",
    "- In linear models, setting $w_j = 0$ is the same as removing the feature.\n",
    "- Example: $$\\hat{y_i} = w_1x_1 + w_2x_2 + w_3x_3 + w_4x_4$$\n",
    "- $L0$ \"norm\" is the number of non-zero values.  \n",
    "- If $w = \\begin{bmatrix}0.8 \\\\ 0.0 \\\\ 0.03 \\\\0.1\\end{bmatrix}$, $\\lVert w\\rVert_0 = 3$ and if $w = \\begin{bmatrix}0.0 \\\\ 0.0 \\\\ 0.22 \\\\0.0\\end{bmatrix}$, $\\lVert w\\rVert_0 = 1$\n"
   ]
  },
  {
   "cell_type": "markdown",
   "metadata": {
    "slideshow": {
     "slide_type": "slide"
    }
   },
   "source": [
    "### Example \n",
    "\n",
    "Imagine the following two weight vectors which give the same error. \n",
    "\n",
    "$$w^1 = \\begin{bmatrix}100 \\\\0\\end{bmatrix}  w^2 = \\begin{bmatrix}99.98 \\\\0.03\\end{bmatrix}$$  \n",
    "\n",
    "- Which one would be chosen by L0 regularization? \n",
    "    - $\\lVert w^1\\rVert_0 = 1$ and $\\lVert w^2\\rVert_0 = 2$. So it will pick $w^1$"
   ]
  },
  {
   "cell_type": "markdown",
   "metadata": {
    "slideshow": {
     "slide_type": "slide"
    }
   },
   "source": [
    "### Scoring using $L0$ \"norm\" \n",
    "\n",
    "- Most common \"scores\" have the form.\n",
    "\n",
    "$$f(w) = \\frac{1}{2}\\lVert{Xw -y}\\rVert^2_2 + \\lambda \\lVert w\\rVert_0$$\n",
    "\n",
    "- $\\lVert{Xw -y}\\rVert^2_2 \\rightarrow$ square of the L2 norm $Xw -y$\n",
    "- $\\lambda \\rightarrow$ penalty parameter\n",
    "- $\\lVert w\\rVert_0 \\rightarrow$  L0 norm of $w$      \n",
    "    - The number of non-zero values in $w$.                "
   ]
  },
  {
   "cell_type": "markdown",
   "metadata": {
    "slideshow": {
     "slide_type": "slide"
    }
   },
   "source": [
    "- To increase the degrees of freedom by one, need to decrease the error by $\\lambda$. \n",
    "- Prefer smaller degrees of freedom if errors are similar. \n",
    "- Can't optimize because the function is discontinuous in $\\lVert w\\rVert_0$\n",
    "    - Search over possible models "
   ]
  },
  {
   "cell_type": "markdown",
   "metadata": {
    "slideshow": {
     "slide_type": "-"
    }
   },
   "source": [
    "### Notes\n",
    "1. In the equation below smaller $\\lVert w\\rVert_0$ means we discard most of the features. \n",
    "$$ f(w) = \\frac{1}{2}\\lVert{Xw -y}\\rVert^2 + \\lambda \\lVert w\\rVert_0$$\n",
    "2. In the above equation, larger $\\lambda$ means aggressive feature pruning. "
   ]
  },
  {
   "cell_type": "markdown",
   "metadata": {
    "slideshow": {
     "slide_type": "skip"
    }
   },
   "source": [
    "<br><br><br><br>"
   ]
  },
  {
   "cell_type": "markdown",
   "metadata": {
    "slideshow": {
     "slide_type": "slide"
    }
   },
   "source": [
    "## L2 regularization "
   ]
  },
  {
   "cell_type": "markdown",
   "metadata": {
    "slideshow": {
     "slide_type": "slide"
    }
   },
   "source": [
    "### Idea of regularization: Pick the line/hyperplane with smaller slope \n",
    "\n",
    "- Keep all the features but reduce the magnitude of coefficients/weights.\n",
    "- Assuming red and green models have the same training score and if you are forced to choose one of them, which one would you pick?\n",
    "    - **Pick green because its slope is smaller.**\n",
    "\n",
    "<center>\n",
    "<img src='img/green_or_red.png' width=\"600\" height=\"600\" />\n",
    "</center>    \n",
    "\n"
   ]
  },
  {
   "cell_type": "markdown",
   "metadata": {
    "slideshow": {
     "slide_type": "slide"
    }
   },
   "source": [
    "### Why pick the line/hyperplane with smaller slope? \n",
    "<br>\n",
    "<center>\n",
    "<img src='img/green_or_red.png' width=\"500\" height=\"500\" />\n",
    "</center>    \n",
    "\n",
    "- This can be proved mathematically. \n",
    "- Small change in $x_i$ has a smaller change in prediction $y_i$\n",
    "- Green line's predictions are less sensitive to the training data. \n",
    "- Since green $w$ is less sensitive to training data, validation error might be lower. \n",
    "\n",
    "L2 regularization helps us with making $w$ less sensitive to the data."
   ]
  },
  {
   "cell_type": "markdown",
   "metadata": {
    "slideshow": {
     "slide_type": "slide"
    }
   },
   "source": [
    "- Standard regularization strategy is L2 regularization\n",
    "    - We incorporate L2 penalty in the loss function $f(w)$: \n",
    "$$f(w) = \\frac{1}{2}\\sum_i^n(w^TX_i - y_i)^2 + \\frac{\\lambda}{2}\\sum_j^d w_j^2 \\text{ or }$$ \n",
    "$$f(w) = \\frac{1}{2}\\lVert Xw - y\\rVert_2^2 + \\frac{\\lambda}{2} \\lVert w\\rVert_2^2$$\n",
    "\n",
    "- $\\lVert Xw - y\\rVert_2^2 \\rightarrow$ square of the $L2$ norm of $Xw -y$\n",
    "- $\\lambda \\rightarrow$ regularization strength    \n",
    "- $\\lVert w\\rVert_2^2 \\rightarrow$  square of the L2 norm of $w$      \n",
    "    - sum of the squared weight values.              "
   ]
  },
  {
   "cell_type": "markdown",
   "metadata": {
    "slideshow": {
     "slide_type": "slide"
    }
   },
   "source": [
    "### L2 regularization \n",
    "\n",
    "$$f(w) = \\frac{1}{2}\\lVert Xw - y\\rVert_2^2 + \\frac{\\lambda}{2} \\lVert w\\rVert_2^2$$\n",
    "\n",
    "- Objective balances getting low error vs. having small slopes $w_j$\n",
    "- In terms of fundamental trade-off:\n",
    "    - You can increase the training error. \n",
    "    - Nearly-always reduces overfitting and the validation error.    "
   ]
  },
  {
   "cell_type": "markdown",
   "metadata": {
    "slideshow": {
     "slide_type": "slide"
    }
   },
   "source": [
    "### L2 regularization demo\n",
    "\n",
    "- Imagine your training set only contains the $y$-values, and they are shown above.\n",
    "- How can you predict a new $y$?\n",
    "- Reasonable idea: predict the mean value."
   ]
  },
  {
   "cell_type": "code",
   "execution_count": 41,
   "metadata": {
    "slideshow": {
     "slide_type": "slide"
    }
   },
   "outputs": [
    {
     "data": {
      "image/png": "[encoded data removed]",
      "text/plain": [
       "<Figure size 432x288 with 1 Axes>"
      ]
     },
     "metadata": {
      "needs_background": "light"
     },
     "output_type": "display_data"
    }
   ],
   "source": [
    "N = 100\n",
    "y = npr.randn(N, 1)\n",
    "plt.hist(y);"
   ]
  },
  {
   "cell_type": "code",
   "execution_count": 42,
   "metadata": {},
   "outputs": [
    {
     "data": {
      "text/plain": [
       "0.2567679229578858"
      ]
     },
     "execution_count": 42,
     "metadata": {},
     "output_type": "execute_result"
    }
   ],
   "source": [
    "class MeanPredictor:\n",
    "    def fit(self, y):\n",
    "        self.mean = np.mean(y)\n",
    "\n",
    "    def predict(self):\n",
    "        return self.mean\n",
    "\n",
    "\n",
    "mp = MeanPredictor()\n",
    "mp.fit(y)\n",
    "mp.predict()"
   ]
  },
  {
   "cell_type": "markdown",
   "metadata": {
    "slideshow": {
     "slide_type": "slide"
    }
   },
   "source": [
    "Now imagine we have one feature $x$."
   ]
  },
  {
   "cell_type": "code",
   "execution_count": 43,
   "metadata": {
    "slideshow": {
     "slide_type": "-"
    }
   },
   "outputs": [
    {
     "data": {
      "image/png": "[encoded data removed]",
      "text/plain": [
       "<Figure size 432x288 with 1 Axes>"
      ]
     },
     "metadata": {
      "needs_background": "light"
     },
     "output_type": "display_data"
    }
   ],
   "source": [
    "x = y / 2 + npr.randn(N, 1) / 3\n",
    "mglearn.discrete_scatter(x, y, s=8, labels=[\"training data\"])\n",
    "mean = np.mean(y)\n",
    "plt.plot((min(x), max(x)), (mean, mean), linewidth=3, c=\"red\", label=\"mean of y-values\")\n",
    "plt.legend();"
   ]
  },
  {
   "cell_type": "markdown",
   "metadata": {
    "slideshow": {
     "slide_type": "slide"
    }
   },
   "source": [
    "Ok, but, why not use this feature? Let's do linear regression."
   ]
  },
  {
   "cell_type": "code",
   "execution_count": 44,
   "metadata": {},
   "outputs": [
    {
     "data": {
      "image/png": "[encoded data removed]",
      "text/plain": [
       "<Figure size 432x288 with 1 Axes>"
      ]
     },
     "metadata": {
      "needs_background": "light"
     },
     "output_type": "display_data"
    }
   ],
   "source": [
    "mglearn.discrete_scatter(x, y, s=8, labels=[\"training data\"])\n",
    "w = np.sum(x * y) / np.sum(x * x)\n",
    "plt.plot(x, w * x, linewidth=3, c=\"red\", label=\"least squares fit\")\n",
    "plt.legend();"
   ]
  },
  {
   "cell_type": "markdown",
   "metadata": {
    "slideshow": {
     "slide_type": "slide"
    }
   },
   "source": [
    "- But what if we don't trust this feature that much?\n",
    "- Let's take a compromise between our prior model (mean value) and our new model.\n",
    "- We can achieve this by penalizing large values of $w$.\n",
    "- The loss becomes\n",
    "\n",
    "$$f(w) = \\frac{1}{2}\\lVert Xw - y\\rVert_2^2 + {\\lambda} \\lVert w\\rVert_2^2$$"
   ]
  },
  {
   "cell_type": "code",
   "execution_count": 45,
   "metadata": {
    "slideshow": {
     "slide_type": "-"
    }
   },
   "outputs": [
    {
     "data": {
      "image/png": "[encoded data removed]",
      "text/plain": [
       "<Figure size 432x288 with 1 Axes>"
      ]
     },
     "metadata": {
      "needs_background": "light"
     },
     "output_type": "display_data"
    }
   ],
   "source": [
    "mglearn.discrete_scatter(x, y, s=8, labels=[\"training data\"])\n",
    "w = np.sum(x * y) / (np.sum(x * x) + 100)\n",
    "plt.plot(x, w * x, linewidth=3, c=\"red\", label=\"least squares + penalty fit\")\n",
    "plt.legend();"
   ]
  },
  {
   "cell_type": "markdown",
   "metadata": {
    "slideshow": {
     "slide_type": "slide"
    }
   },
   "source": [
    "### Regularization demo\n",
    "\n",
    "- Let's generate some synthetic data with N = 20 points. "
   ]
  },
  {
   "cell_type": "code",
   "execution_count": 46,
   "metadata": {},
   "outputs": [
    {
     "data": {
      "image/png": "[encoded data removed]",
      "text/plain": [
       "<Figure size 432x288 with 1 Axes>"
      ]
     },
     "metadata": {
      "needs_background": "light"
     },
     "output_type": "display_data"
    }
   ],
   "source": [
    "np.random.seed(4)\n",
    "N = 20\n",
    "X = np.linspace(-1, 1, N) + npr.randn(N) * 0.01\n",
    "X = X[:, None]\n",
    "y = npr.randn(N, 1) + X * 5\n",
    "\n",
    "mglearn.discrete_scatter(X, y, s=6, labels=[\"training data\"]);"
   ]
  },
  {
   "cell_type": "markdown",
   "metadata": {
    "slideshow": {
     "slide_type": "slide"
    }
   },
   "source": [
    "Let's fit with degree $N-1$ polynomial"
   ]
  },
  {
   "cell_type": "code",
   "execution_count": 47,
   "metadata": {
    "slideshow": {
     "slide_type": "-"
    }
   },
   "outputs": [
    {
     "data": {
      "image/png": "[encoded data removed]",
      "text/plain": [
       "<Figure size 432x288 with 1 Axes>"
      ]
     },
     "metadata": {
      "needs_background": "light"
     },
     "output_type": "display_data"
    }
   ],
   "source": [
    "pf = PolynomialFeatures(19)\n",
    "Z = pf.fit_transform(X)\n",
    "\n",
    "lr = LinearRegression()\n",
    "lr.fit(Z,y)\n",
    "w = lr.coef_.flatten()\n",
    "grid = np.linspace(min(X), max(X), 1000)\n",
    "grid_poly = pf.fit_transform(grid)\n",
    "\n",
    "mglearn.discrete_scatter(X, y, s=6, labels=[\"training data\"])\n",
    "plt.plot(grid, grid_poly @ w, c=\"red\");"
   ]
  },
  {
   "cell_type": "markdown",
   "metadata": {
    "slideshow": {
     "slide_type": "slide"
    }
   },
   "source": [
    "- Problem: this results are crazy (overfitting). \n",
    "- Bigger values of weights means the model is very sensitive to the training data. "
   ]
  },
  {
   "cell_type": "code",
   "execution_count": 48,
   "metadata": {
    "slideshow": {
     "slide_type": "-"
    }
   },
   "outputs": [
    {
     "data": {
      "text/html": [
       "<div>\n",
       "<style scoped>\n",
       "    .dataframe tbody tr th:only-of-type {\n",
       "        vertical-align: middle;\n",
       "    }\n",
       "\n",
       "    .dataframe tbody tr th {\n",
       "        vertical-align: top;\n",
       "    }\n",
       "\n",
       "    .dataframe thead th {\n",
       "        text-align: right;\n",
       "    }\n",
       "</style>\n",
       "<table border=\"1\" class=\"dataframe\">\n",
       "  <thead>\n",
       "    <tr style=\"text-align: right;\">\n",
       "      <th></th>\n",
       "      <th>weights</th>\n",
       "    </tr>\n",
       "  </thead>\n",
       "  <tbody>\n",
       "    <tr>\n",
       "      <th>x0^15</th>\n",
       "      <td>-5.150150e+07</td>\n",
       "    </tr>\n",
       "    <tr>\n",
       "      <th>x0^16</th>\n",
       "      <td>-5.316861e+06</td>\n",
       "    </tr>\n",
       "    <tr>\n",
       "      <th>x0^17</th>\n",
       "      <td>3.466582e+07</td>\n",
       "    </tr>\n",
       "    <tr>\n",
       "      <th>x0^18</th>\n",
       "      <td>1.482311e+06</td>\n",
       "    </tr>\n",
       "    <tr>\n",
       "      <th>x0^19</th>\n",
       "      <td>-9.517721e+06</td>\n",
       "    </tr>\n",
       "  </tbody>\n",
       "</table>\n",
       "</div>"
      ],
      "text/plain": [
       "            weights\n",
       "x0^15 -5.150150e+07\n",
       "x0^16 -5.316861e+06\n",
       "x0^17  3.466582e+07\n",
       "x0^18  1.482311e+06\n",
       "x0^19 -9.517721e+06"
      ]
     },
     "execution_count": 48,
     "metadata": {},
     "output_type": "execute_result"
    }
   ],
   "source": [
    "pd.DataFrame(w, index=pf.get_feature_names_out(), columns=[\"weights\"]).tail()"
   ]
  },
  {
   "cell_type": "code",
   "execution_count": 22,
   "metadata": {},
   "outputs": [
    {
     "name": "stdout",
     "output_type": "stream",
     "text": [
      "51501499.25985041\n"
     ]
    }
   ],
   "source": [
    "print(max(abs(w)))"
   ]
  },
  {
   "cell_type": "markdown",
   "metadata": {
    "slideshow": {
     "slide_type": "slide"
    }
   },
   "source": [
    "### Solution 1: Use a lower degree polynomial"
   ]
  },
  {
   "cell_type": "code",
   "execution_count": 51,
   "metadata": {},
   "outputs": [
    {
     "data": {
      "image/png": "[encoded data removed]",
      "text/plain": [
       "<Figure size 432x288 with 1 Axes>"
      ]
     },
     "metadata": {
      "needs_background": "light"
     },
     "output_type": "display_data"
    }
   ],
   "source": [
    "pf = PolynomialFeatures(2)\n",
    "Z = pf.fit_transform(X)\n",
    "lr = LinearRegression()\n",
    "lr.fit(Z,y)\n",
    "w = lr.coef_.flatten()\n",
    "grid_poly = pf.fit_transform(grid)\n",
    "mglearn.discrete_scatter(X, y, s=6, labels=[\"training data\"])\n",
    "plt.plot(grid, grid_poly @ w, c=\"red\");"
   ]
  },
  {
   "cell_type": "markdown",
   "metadata": {},
   "source": [
    "- The lower degree polynomial looks good.\n",
    "- But if the true relationship really was complicated? Then if we restricted the degree of the polynomial, we'd miss out on it.\n"
   ]
  },
  {
   "cell_type": "markdown",
   "metadata": {
    "slideshow": {
     "slide_type": "slide"
    }
   },
   "source": [
    "### Solution 2: Use regularization "
   ]
  },
  {
   "cell_type": "markdown",
   "metadata": {},
   "source": [
    "- The idea of regularization is to \"regularize\" weights so that they are small and so less sensitive to the data. "
   ]
  },
  {
   "cell_type": "code",
   "execution_count": 52,
   "metadata": {
    "slideshow": {
     "slide_type": "-"
    }
   },
   "outputs": [
    {
     "data": {
      "image/png": "[encoded data removed]",
      "text/plain": [
       "<Figure size 432x288 with 1 Axes>"
      ]
     },
     "metadata": {
      "needs_background": "light"
     },
     "output_type": "display_data"
    }
   ],
   "source": [
    "pf = PolynomialFeatures(19)\n",
    "Z = pf.fit_transform(X)\n",
    "\n",
    "r = Ridge() # Regularized linear regression \n",
    "r.fit(Z, y)\n",
    "w = r.coef_.flatten()\n",
    "mglearn.discrete_scatter(X, y, s=6, labels=[\"training data\"])\n",
    "grid_poly = pf.fit_transform(grid)\n",
    "plt.plot(grid, grid_poly @ w);"
   ]
  },
  {
   "cell_type": "code",
   "execution_count": 53,
   "metadata": {
    "slideshow": {
     "slide_type": "slide"
    }
   },
   "outputs": [
    {
     "data": {
      "text/html": [
       "<div>\n",
       "<style scoped>\n",
       "    .dataframe tbody tr th:only-of-type {\n",
       "        vertical-align: middle;\n",
       "    }\n",
       "\n",
       "    .dataframe tbody tr th {\n",
       "        vertical-align: top;\n",
       "    }\n",
       "\n",
       "    .dataframe thead th {\n",
       "        text-align: right;\n",
       "    }\n",
       "</style>\n",
       "<table border=\"1\" class=\"dataframe\">\n",
       "  <thead>\n",
       "    <tr style=\"text-align: right;\">\n",
       "      <th></th>\n",
       "      <th>weights</th>\n",
       "    </tr>\n",
       "  </thead>\n",
       "  <tbody>\n",
       "    <tr>\n",
       "      <th>1</th>\n",
       "      <td>0.000000</td>\n",
       "    </tr>\n",
       "    <tr>\n",
       "      <th>x0</th>\n",
       "      <td>3.136081</td>\n",
       "    </tr>\n",
       "    <tr>\n",
       "      <th>x0^2</th>\n",
       "      <td>0.489320</td>\n",
       "    </tr>\n",
       "    <tr>\n",
       "      <th>x0^3</th>\n",
       "      <td>1.620915</td>\n",
       "    </tr>\n",
       "    <tr>\n",
       "      <th>x0^4</th>\n",
       "      <td>0.085908</td>\n",
       "    </tr>\n",
       "    <tr>\n",
       "      <th>x0^5</th>\n",
       "      <td>0.774190</td>\n",
       "    </tr>\n",
       "    <tr>\n",
       "      <th>x0^6</th>\n",
       "      <td>-0.088113</td>\n",
       "    </tr>\n",
       "    <tr>\n",
       "      <th>x0^7</th>\n",
       "      <td>0.336446</td>\n",
       "    </tr>\n",
       "    <tr>\n",
       "      <th>x0^8</th>\n",
       "      <td>-0.138795</td>\n",
       "    </tr>\n",
       "    <tr>\n",
       "      <th>x0^9</th>\n",
       "      <td>0.122758</td>\n",
       "    </tr>\n",
       "    <tr>\n",
       "      <th>x0^10</th>\n",
       "      <td>-0.138613</td>\n",
       "    </tr>\n",
       "    <tr>\n",
       "      <th>x0^11</th>\n",
       "      <td>0.022783</td>\n",
       "    </tr>\n",
       "    <tr>\n",
       "      <th>x0^12</th>\n",
       "      <td>-0.120299</td>\n",
       "    </tr>\n",
       "    <tr>\n",
       "      <th>x0^13</th>\n",
       "      <td>-0.020775</td>\n",
       "    </tr>\n",
       "    <tr>\n",
       "      <th>x0^14</th>\n",
       "      <td>-0.097141</td>\n",
       "    </tr>\n",
       "    <tr>\n",
       "      <th>x0^15</th>\n",
       "      <td>-0.036610</td>\n",
       "    </tr>\n",
       "    <tr>\n",
       "      <th>x0^16</th>\n",
       "      <td>-0.074296</td>\n",
       "    </tr>\n",
       "    <tr>\n",
       "      <th>x0^17</th>\n",
       "      <td>-0.039060</td>\n",
       "    </tr>\n",
       "    <tr>\n",
       "      <th>x0^18</th>\n",
       "      <td>-0.053628</td>\n",
       "    </tr>\n",
       "    <tr>\n",
       "      <th>x0^19</th>\n",
       "      <td>-0.035335</td>\n",
       "    </tr>\n",
       "  </tbody>\n",
       "</table>\n",
       "</div>"
      ],
      "text/plain": [
       "        weights\n",
       "1      0.000000\n",
       "x0     3.136081\n",
       "x0^2   0.489320\n",
       "x0^3   1.620915\n",
       "x0^4   0.085908\n",
       "x0^5   0.774190\n",
       "x0^6  -0.088113\n",
       "x0^7   0.336446\n",
       "x0^8  -0.138795\n",
       "x0^9   0.122758\n",
       "x0^10 -0.138613\n",
       "x0^11  0.022783\n",
       "x0^12 -0.120299\n",
       "x0^13 -0.020775\n",
       "x0^14 -0.097141\n",
       "x0^15 -0.036610\n",
       "x0^16 -0.074296\n",
       "x0^17 -0.039060\n",
       "x0^18 -0.053628\n",
       "x0^19 -0.035335"
      ]
     },
     "execution_count": 53,
     "metadata": {},
     "output_type": "execute_result"
    }
   ],
   "source": [
    "pd.DataFrame(w, index=pf.get_feature_names_out(), columns=[\"weights\"])"
   ]
  },
  {
   "cell_type": "code",
   "execution_count": 26,
   "metadata": {
    "tags": []
   },
   "outputs": [
    {
     "name": "stdout",
     "output_type": "stream",
     "text": [
      "3.1360810773236714\n"
     ]
    }
   ],
   "source": [
    "print(max(abs(w)))"
   ]
  },
  {
   "cell_type": "markdown",
   "metadata": {},
   "source": [
    "- Regularization helped! Even though we used a degree $N-1$ polynomial, we didn't end up with a crazy model.\n",
    "- We are keeping all the complex features but assigning small weights to higher degree polynomial. \n",
    "- We can add regularization to many models, not just least squares with a polynomial basis."
   ]
  },
  {
   "cell_type": "markdown",
   "metadata": {
    "slideshow": {
     "slide_type": "slide"
    }
   },
   "source": [
    "### Again, why are small weights better? \n",
    "- Suppose $x_1$ and $x_2$ are nearby each other. \n",
    "- We might expect that they have similar $\\hat{y}$. \n",
    "- If we change feature1 value by a small amount $\\epsilon$ in $x_2$, leaving everything else the same, we might think that the prediction would be the same.\n",
    "- But if we have bigger weights small change in $x_2$ has a large effect on the prediction. "
   ]
  },
  {
   "cell_type": "code",
   "execution_count": 27,
   "metadata": {
    "slideshow": {
     "slide_type": "-"
    }
   },
   "outputs": [
    {
     "name": "stdout",
     "output_type": "stream",
     "text": [
      "x_1 prediction:  104.32\n",
      "x_2 prediction:  84.32\n"
     ]
    }
   ],
   "source": [
    "x_1 = np.array([1, 1, 0, 1, 1, 0])\n",
    "x_2 = np.array([0.8, 1, 0, 1, 1, 0])\n",
    "weights = np.array([100, 0.1, 1, 0.22, 4, 3])\n",
    "\n",
    "print(\"x_1 prediction: \", x_1.dot(weights))\n",
    "print(\"x_2 prediction: \", x_2.dot(weights))"
   ]
  },
  {
   "cell_type": "markdown",
   "metadata": {
    "slideshow": {
     "slide_type": "slide"
    }
   },
   "source": [
    "### Why are small weights better? \n",
    "- In linear models, the rate of change of the prediction function is proportional to the individual weights. \n",
    "- So if we want the function to change slowly, we want to ensure that the weights stay small.\n",
    "- The idea is to avoid putting all our energy into one features, which might give us over-confident predictions and lead to overfitting. "
   ]
  },
  {
   "cell_type": "markdown",
   "metadata": {
    "slideshow": {
     "slide_type": "slide"
    }
   },
   "source": [
    "### Have we seen this before? "
   ]
  },
  {
   "cell_type": "markdown",
   "metadata": {
    "slideshow": {
     "slide_type": "-"
    }
   },
   "source": [
    "- [Ridge](https://scikit-learn.org/stable/modules/generated/sklearn.linear_model.Ridge.html): Linear Regression with L2 regularization \n",
    "\n",
    "> class sklearn.linear_model.Ridge(alpha=1.0, fit_intercept=True, normalize=False, copy_X=True, max_iter=None, tol=0.001, solver='auto', random_state=None)\n",
    "\n",
    "> Linear least squares with l2 regularization. Minimizes the objective function: $$||y - Xw||^2_2 + alpha * ||w||^2_2$$\n",
    "This model solves a regression model where the loss function is the linear least squares function and regularization is given by the l2-norm. Also known as Ridge Regression or Tikhonov regularization.\n",
    "\n",
    "- Uses the hyperparameter $\\alpha$ for regularization strength instead of $\\lambda$; larger value of $\\alpha$ means more regularization.\n",
    "$$f(w) = \\lVert Xw - y\\rVert_2^2 + \\alpha \\lVert w\\rVert_2^2$$\n",
    " "
   ]
  },
  {
   "cell_type": "markdown",
   "metadata": {
    "slideshow": {
     "slide_type": "skip"
    }
   },
   "source": [
    "- [LogisticRegression](https://scikit-learn.org/stable/modules/generated/sklearn.linear_model.LogisticRegression.html): Linear Regression with L2 regularization \n",
    "\n",
    "> class sklearn.linear_model.LogisticRegression(penalty='l2', *, dual=False, tol=0.0001, C=1.0, fit_intercept=True, intercept_scaling=1, class_weight=None, random_state=None, solver='lbfgs', max_iter=100, multi_class='auto', verbose=0, warm_start=False, n_jobs=None, l1_ratio=None)\n",
    "\n",
    "- `C`: default=1.0\n",
    "Inverse of regularization strength; must be a positive float. Like in support vector machines, smaller values specify stronger regularization. "
   ]
  },
  {
   "cell_type": "markdown",
   "metadata": {
    "slideshow": {
     "slide_type": "slide"
    }
   },
   "source": [
    "### How does `alpha` affect the weights?  "
   ]
  },
  {
   "cell_type": "code",
   "execution_count": 35,
   "metadata": {},
   "outputs": [],
   "source": [
    "from sklearn.datasets import fetch_california_housing, load_diabetes\n",
    "from sklearn.preprocessing import MinMaxScaler, PolynomialFeatures\n",
    "\n",
    "housing = fetch_california_housing(as_frame=True)\n",
    "X = housing[\"data\"]\n",
    "X = MinMaxScaler().fit_transform(housing.data)\n",
    "pf = PolynomialFeatures(degree=2, include_bias=False)\n",
    "X = pf.fit_transform(X)\n",
    "y = housing[\"target\"]"
   ]
  },
  {
   "cell_type": "code",
   "execution_count": 36,
   "metadata": {},
   "outputs": [
    {
     "data": {
      "text/plain": [
       "(20640, 44)"
      ]
     },
     "execution_count": 36,
     "metadata": {},
     "output_type": "execute_result"
    }
   ],
   "source": [
    "X.shape"
   ]
  },
  {
   "cell_type": "code",
   "execution_count": 37,
   "metadata": {
    "slideshow": {
     "slide_type": "-"
    }
   },
   "outputs": [],
   "source": [
    "X_train, X_test, y_train, y_test = train_test_split(X, y, random_state=0)\n",
    "lr = LinearRegression().fit(X_train, y_train)"
   ]
  },
  {
   "cell_type": "code",
   "execution_count": 38,
   "metadata": {},
   "outputs": [
    {
     "name": "stdout",
     "output_type": "stream",
     "text": [
      "Training set score: 0.69\n",
      "Test set score: -0.73\n"
     ]
    }
   ],
   "source": [
    "print(\"Training set score: {:.2f}\".format(lr.score(X_train, y_train)))\n",
    "print(\"Test set score: {:.2f}\".format(lr.score(X_test, y_test)))"
   ]
  },
  {
   "cell_type": "code",
   "execution_count": 39,
   "metadata": {
    "slideshow": {
     "slide_type": "slide"
    }
   },
   "outputs": [
    {
     "name": "stdout",
     "output_type": "stream",
     "text": [
      "Training set score: 0.63\n",
      "Test set score: 0.61\n"
     ]
    }
   ],
   "source": [
    "from sklearn.linear_model import Ridge\n",
    "\n",
    "ridge = Ridge().fit(X_train, y_train) # default: alpha = 1\n",
    "print(\"Training set score: {:.2f}\".format(ridge.score(X_train, y_train)))\n",
    "print(\"Test set score: {:.2f}\".format(ridge.score(X_test, y_test)))"
   ]
  },
  {
   "cell_type": "code",
   "execution_count": 40,
   "metadata": {},
   "outputs": [
    {
     "name": "stdout",
     "output_type": "stream",
     "text": [
      "Training set score: 0.66\n",
      "Test set score: 0.50\n"
     ]
    }
   ],
   "source": [
    "ridge01 = Ridge(alpha=0.01).fit(X_train, y_train) # smaller alpha = 1\n",
    "print(\"Training set score: {:.2f}\".format(ridge01.score(X_train, y_train)))\n",
    "print(\"Test set score: {:.2f}\".format(ridge01.score(X_test, y_test)))"
   ]
  },
  {
   "cell_type": "code",
   "execution_count": 41,
   "metadata": {},
   "outputs": [
    {
     "name": "stdout",
     "output_type": "stream",
     "text": [
      "Training set score: 0.61\n",
      "Test set score: 0.59\n"
     ]
    }
   ],
   "source": [
    "ridge10 = Ridge(alpha=10).fit(X_train, y_train) # bigger alpha = 10\n",
    "print(\"Training set score: {:.2f}\".format(ridge10.score(X_train, y_train)))\n",
    "print(\"Test set score: {:.2f}\".format(ridge10.score(X_test, y_test)))"
   ]
  },
  {
   "cell_type": "code",
   "execution_count": 42,
   "metadata": {},
   "outputs": [
    {
     "name": "stdout",
     "output_type": "stream",
     "text": [
      "Training set score: 0.57\n",
      "Test set score: 0.55\n"
     ]
    }
   ],
   "source": [
    "ridge100 = Ridge(alpha=100).fit(X_train, y_train) # even bigger alpha = 100\n",
    "print(\"Training set score: {:.2f}\".format(ridge100.score(X_train, y_train)))\n",
    "print(\"Test set score: {:.2f}\".format(ridge100.score(X_test, y_test)))"
   ]
  },
  {
   "cell_type": "code",
   "execution_count": 52,
   "metadata": {
    "slideshow": {
     "slide_type": "slide"
    }
   },
   "outputs": [
    {
     "data": {
      "image/png": "[encoded data removed]",
      "text/plain": [
       "<Figure size 720x576 with 1 Axes>"
      ]
     },
     "metadata": {
      "needs_background": "light"
     },
     "output_type": "display_data"
    }
   ],
   "source": [
    "plt.figure(figsize=(10, 8))\n",
    "plt.plot(ridge100.coef_, \"^\", markersize=12, label=\"Ridge alpha=100\")\n",
    "plt.plot(ridge01.coef_, \"^\", markersize=12, label=\"Ridge alpha=0.01\")\n",
    "plt.plot(lr.coef_, \"o\", markersize=12, label=\"LinearRegression\")\n",
    "plt.xlabel(\"Coefficient index\")\n",
    "plt.ylabel(\"Coefficient magnitude\")\n",
    "plt.hlines(0, 0, len(lr.coef_))\n",
    "plt.ylim(-25, 25)\n",
    "plt.legend();"
   ]
  },
  {
   "cell_type": "code",
   "execution_count": 53,
   "metadata": {
    "slideshow": {
     "slide_type": "slide"
    }
   },
   "outputs": [
    {
     "data": {
      "image/png": "[encoded data removed]",
      "text/plain": [
       "<Figure size 720x576 with 1 Axes>"
      ]
     },
     "metadata": {
      "needs_background": "light"
     },
     "output_type": "display_data"
    }
   ],
   "source": [
    "plt.figure(figsize=(10, 8))\n",
    "plt.plot(ridge.coef_, \"s\", markersize=12, label=\"Ridge alpha=1\")\n",
    "plt.plot(ridge10.coef_, \"^\", markersize=12, label=\"Ridge alpha=10\")\n",
    "plt.plot(ridge01.coef_, \"v\", markersize=12, label=\"Ridge alpha=0.1\")\n",
    "plt.plot(lr.coef_, \"o\", markersize=12, label=\"LinearRegression\")\n",
    "plt.xlabel(\"Coefficient index\")\n",
    "plt.ylabel(\"Coefficient magnitude\")\n",
    "plt.hlines(0, 0, len(lr.coef_))\n",
    "plt.ylim(-30, 30)\n",
    "plt.legend();"
   ]
  },
  {
   "cell_type": "markdown",
   "metadata": {
    "slideshow": {
     "slide_type": "slide"
    }
   },
   "source": [
    "- We also observe the fundamental tradeoff. \n",
    "- As we increase `alpha` the weights become smaller and smaller. \n",
    "- We see that the rounded values of some weights are close to zero. "
   ]
  },
  {
   "cell_type": "markdown",
   "metadata": {},
   "source": [
    "## Summary\n",
    "\n",
    "- Loss functions\n",
    "    - 0/1 loss\n",
    "    - Exponential loss\n",
    "    - Hinge loss\n",
    "    - Logistic loss\n",
    "- Adding complexity penalties in the loss function\n",
    "    - L0 penalty \n",
    "    - L2 regularization \n",
    "- Coming up\n",
    "    - More on L2 regularization\n",
    "    - L1 regularization "
   ]
  },
  {
   "cell_type": "markdown",
   "metadata": {
    "slideshow": {
     "slide_type": "skip"
    }
   },
   "source": [
    "<br><br><br><br>"
   ]
  },
  {
   "cell_type": "markdown",
   "metadata": {
    "slideshow": {
     "slide_type": "skip"
    }
   },
   "source": [
    "### Notes on L2-regularization\n",
    "\n",
    "1. Introducing L2 regularization to the model means making it less sensitive to changes in $X$.\n",
    "2. Introducing L2 regularization to the model can results in worse performance on the training set. \n",
    "3. Imagine that you fit `Ridge` twice with different values of $\\alpha$, $\\alpha = 0$ and $\\alpha=10$. You are given the weights learned from two different models below. Without knowing which weights came from which model, you can guess that $w^1$ probably corresponds to $\\alpha = 0$ and $w^2$ probably corresponds to $\\alpha = 10$.(the weights of $w^2$ is more punished)\n",
    "$$w^1 = \\begin{bmatrix} 32.43\\\\23.14\\\\16.4\\end{bmatrix} \\text{ and }w^2 = \\begin{bmatrix} 2.03\\\\1.2\\\\0.4\\end{bmatrix}$$ "
   ]
  },
  {
   "cell_type": "code",
   "execution_count": null,
   "metadata": {},
   "outputs": [],
   "source": []
  }
 ],
 "metadata": {
  "celltoolbar": "Slideshow",
  "kernelspec": {
   "display_name": "Python 3",
   "language": "python",
   "name": "python3"
  },
  "language_info": {
   "codemirror_mode": {
    "name": "ipython",
    "version": 3
   },
   "file_extension": ".py",
   "mimetype": "text/x-python",
   "name": "python",
   "nbconvert_exporter": "python",
   "pygments_lexer": "ipython3",
   "version": "3.9.5"
  }
 },
 "nbformat": 4,
 "nbformat_minor": 4
}
