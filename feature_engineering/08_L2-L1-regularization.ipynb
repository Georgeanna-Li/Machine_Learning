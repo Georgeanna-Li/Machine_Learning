{
 "cells": [
  {
   "cell_type": "markdown",
   "metadata": {
    "slideshow": {
     "slide_type": "-"
    }
   },
   "source": [
    "# 8: L2- and L1-Regularization"
   ]
  },
  {
   "cell_type": "markdown",
   "metadata": {
    "slideshow": {
     "slide_type": "slide"
    }
   },
   "source": [
    "## Imports"
   ]
  },
  {
   "cell_type": "code",
   "execution_count": 1,
   "metadata": {
    "slideshow": {
     "slide_type": "skip"
    }
   },
   "outputs": [],
   "source": [
    "import os\n",
    "import sys\n",
    "\n",
    "sys.path.append(\"code/.\")\n",
    "import ipywidgets as widgets\n",
    "\n",
    "%matplotlib inline\n",
    "import matplotlib.pyplot as plt\n",
    "import mglearn\n",
    "import numpy as np\n",
    "import numpy.linalg as npla\n",
    "import numpy.random as npr\n",
    "import pandas as pd\n",
    "from IPython.display import display\n",
    "from ipywidgets import interact, interactive\n",
    "from plotting_functions import *\n",
    "from sklearn import datasets\n",
    "from sklearn.dummy import DummyClassifier, DummyRegressor\n",
    "from sklearn.impute import SimpleImputer\n",
    "from sklearn.linear_model import LinearRegression, LogisticRegression, Ridge, RidgeCV\n",
    "from sklearn.model_selection import cross_val_score, cross_validate, train_test_split\n",
    "from sklearn.preprocessing import PolynomialFeatures, StandardScaler\n",
    "\n",
    "%matplotlib inline\n",
    "\n",
    "pd.set_option(\"display.max_colwidth\", 200)"
   ]
  },
  {
   "cell_type": "markdown",
   "metadata": {
    "slideshow": {
     "slide_type": "skip"
    }
   },
   "source": [
    "### Outlines\n",
    "\n",
    "- Explain the general idea of L2 regularization.\n",
    "- Explain the relation between the size of regression weights and overfitting. \n",
    "- Explain the general idea of L1-regularization.\n",
    "- Learn to be skeptical about interpretation of the coefficients. \n",
    "- Use L1-regularization (Lasso) using `sklearn`. \n",
    "- Discuss sparsity in L1-regularization. \n",
    "- Compare L0-, L1-, and L2-regularization.\n",
    "- Use L1 regularization for feature selection. \n",
    "- Explain the importance of scaling when using L1- and L2-regularization\n",
    "- Briefly explain how L1 and L2 regularization behave in the presence of collinear features.   "
   ]
  },
  {
   "cell_type": "markdown",
   "metadata": {
    "slideshow": {
     "slide_type": "slide"
    }
   },
   "source": [
    "## Recap"
   ]
  },
  {
   "cell_type": "markdown",
   "metadata": {},
   "source": [
    "- Regularization is a technique for controlling model complexity. \n",
    "- The idea is to add a penalty term in the loss function. \n",
    "- Regularization tends to **increase training error**.\n",
    "- Regularization tends to **decrease validation error**. "
   ]
  },
  {
   "cell_type": "markdown",
   "metadata": {
    "slideshow": {
     "slide_type": "slide"
    }
   },
   "source": [
    "### L2-regularization\n",
    "\n",
    "- Standard regularization strategy is L2-regularization. \n",
    "\n",
    "$$f(w) = \\frac{1}{2}\\lVert Xw - y\\rVert_2^2 + \\frac{\\lambda}{2} \\lVert w\\rVert_2^2$$\n",
    "\n",
    "- Regularization parameter $\\lambda$ controls the strength of regularization. \n",
    "    - bigger $\\lambda$ $\\rightarrow$ more regularization $\\rightarrow$ lower weights"
   ]
  },
  {
   "cell_type": "code",
   "execution_count": 2,
   "metadata": {
    "slideshow": {
     "slide_type": "slide"
    }
   },
   "outputs": [
    {
     "data": {
      "image/png": "[encoded data removed]",
      "text/plain": [
       "<Figure size 432x288 with 1 Axes>"
      ]
     },
     "metadata": {
      "needs_background": "light"
     },
     "output_type": "display_data"
    }
   ],
   "source": [
    "n = 20\n",
    "np.random.seed(4)\n",
    "X_train = np.linspace(-3, 3, n)\n",
    "y_train = X_train ** 3 + npr.randn(n) * 3\n",
    "\n",
    "X_valid = np.linspace(-3, 3, n)\n",
    "y_valid = X_valid ** 3 + npr.randn(n) * 3\n",
    "\n",
    "# transforming the data to include another axis\n",
    "X_train = X_train[:, np.newaxis]\n",
    "y_train = y_train[:, np.newaxis]\n",
    "\n",
    "X_valid = X_valid[:, np.newaxis]\n",
    "y_valid = y_valid[:, np.newaxis]\n",
    "\n",
    "# plt.scatter(X_train, y_train, color=\"blue\")\n",
    "mglearn.discrete_scatter(X_train, y_train, s=8);"
   ]
  },
  {
   "cell_type": "markdown",
   "metadata": {
    "slideshow": {
     "slide_type": "slide"
    }
   },
   "source": [
    "Let's fit linear regression with a polynomial of degree 18 on this data. "
   ]
  },
  {
   "cell_type": "code",
   "execution_count": 3,
   "metadata": {
    "slideshow": {
     "slide_type": "-"
    }
   },
   "outputs": [
    {
     "data": {
      "image/png": "[encoded data removed]",
      "text/plain": [
       "<Figure size 432x288 with 1 Axes>"
      ]
     },
     "metadata": {
      "needs_background": "light"
     },
     "output_type": "display_data"
    }
   ],
   "source": [
    "degree = 18\n",
    "mglearn.discrete_scatter(X_train, y_train, s=8)\n",
    "pipe_poly_lr = make_pipeline(PolynomialFeatures(degree=degree), LinearRegression())\n",
    "pipe_poly_lr.fit(X_train, y_train)\n",
    "plt.plot(X_train, pipe_poly_lr.predict(X_train), color=\"green\", linewidth=3);"
   ]
  },
  {
   "cell_type": "code",
   "execution_count": 4,
   "metadata": {
    "slideshow": {
     "slide_type": "slide"
    }
   },
   "outputs": [],
   "source": [
    "w_lr = pipe_poly_lr.named_steps[\"linearregression\"].coef_.flatten()\n",
    "feature_names = pipe_poly_lr.named_steps[\"polynomialfeatures\"].get_feature_names_out()"
   ]
  },
  {
   "cell_type": "code",
   "execution_count": 5,
   "metadata": {},
   "outputs": [
    {
     "data": {
      "text/html": [
       "<div>\n",
       "<style scoped>\n",
       "    .dataframe tbody tr th:only-of-type {\n",
       "        vertical-align: middle;\n",
       "    }\n",
       "\n",
       "    .dataframe tbody tr th {\n",
       "        vertical-align: top;\n",
       "    }\n",
       "\n",
       "    .dataframe thead th {\n",
       "        text-align: right;\n",
       "    }\n",
       "</style>\n",
       "<table border=\"1\" class=\"dataframe\">\n",
       "  <thead>\n",
       "    <tr style=\"text-align: right;\">\n",
       "      <th></th>\n",
       "      <th>lr_weights</th>\n",
       "    </tr>\n",
       "  </thead>\n",
       "  <tbody>\n",
       "    <tr>\n",
       "      <th>1</th>\n",
       "      <td>0.000000</td>\n",
       "    </tr>\n",
       "    <tr>\n",
       "      <th>x0</th>\n",
       "      <td>10.446187</td>\n",
       "    </tr>\n",
       "    <tr>\n",
       "      <th>x0^2</th>\n",
       "      <td>6.186111</td>\n",
       "    </tr>\n",
       "    <tr>\n",
       "      <th>x0^3</th>\n",
       "      <td>-66.790372</td>\n",
       "    </tr>\n",
       "    <tr>\n",
       "      <th>x0^4</th>\n",
       "      <td>0.048736</td>\n",
       "    </tr>\n",
       "    <tr>\n",
       "      <th>x0^5</th>\n",
       "      <td>135.929795</td>\n",
       "    </tr>\n",
       "    <tr>\n",
       "      <th>x0^6</th>\n",
       "      <td>-7.181033</td>\n",
       "    </tr>\n",
       "    <tr>\n",
       "      <th>x0^7</th>\n",
       "      <td>-122.474687</td>\n",
       "    </tr>\n",
       "    <tr>\n",
       "      <th>x0^8</th>\n",
       "      <td>1.265846</td>\n",
       "    </tr>\n",
       "    <tr>\n",
       "      <th>x0^9</th>\n",
       "      <td>58.272401</td>\n",
       "    </tr>\n",
       "    <tr>\n",
       "      <th>x0^10</th>\n",
       "      <td>2.360638</td>\n",
       "    </tr>\n",
       "    <tr>\n",
       "      <th>x0^11</th>\n",
       "      <td>-15.575747</td>\n",
       "    </tr>\n",
       "    <tr>\n",
       "      <th>x0^12</th>\n",
       "      <td>-1.284319</td>\n",
       "    </tr>\n",
       "    <tr>\n",
       "      <th>x0^13</th>\n",
       "      <td>2.337541</td>\n",
       "    </tr>\n",
       "    <tr>\n",
       "      <th>x0^14</th>\n",
       "      <td>0.266427</td>\n",
       "    </tr>\n",
       "    <tr>\n",
       "      <th>x0^15</th>\n",
       "      <td>-0.182976</td>\n",
       "    </tr>\n",
       "    <tr>\n",
       "      <th>x0^16</th>\n",
       "      <td>-0.025066</td>\n",
       "    </tr>\n",
       "    <tr>\n",
       "      <th>x0^17</th>\n",
       "      <td>0.005789</td>\n",
       "    </tr>\n",
       "    <tr>\n",
       "      <th>x0^18</th>\n",
       "      <td>0.000890</td>\n",
       "    </tr>\n",
       "  </tbody>\n",
       "</table>\n",
       "</div>"
      ],
      "text/plain": [
       "       lr_weights\n",
       "1        0.000000\n",
       "x0      10.446187\n",
       "x0^2     6.186111\n",
       "x0^3   -66.790372\n",
       "x0^4     0.048736\n",
       "x0^5   135.929795\n",
       "x0^6    -7.181033\n",
       "x0^7  -122.474687\n",
       "x0^8     1.265846\n",
       "x0^9    58.272401\n",
       "x0^10    2.360638\n",
       "x0^11  -15.575747\n",
       "x0^12   -1.284319\n",
       "x0^13    2.337541\n",
       "x0^14    0.266427\n",
       "x0^15   -0.182976\n",
       "x0^16   -0.025066\n",
       "x0^17    0.005789\n",
       "x0^18    0.000890"
      ]
     },
     "execution_count": 5,
     "metadata": {},
     "output_type": "execute_result"
    }
   ],
   "source": [
    "df = pd.DataFrame(w_lr, index=feature_names, columns=[\"lr_weights\"])\n",
    "df"
   ]
  },
  {
   "cell_type": "markdown",
   "metadata": {},
   "source": [
    "- Some weights in this degree 18 polynomial are big. \n",
    "- If we regularize the weights, the this polynomial of degree 18 will be less sensitive to the data. "
   ]
  },
  {
   "cell_type": "markdown",
   "metadata": {
    "slideshow": {
     "slide_type": "slide"
    }
   },
   "source": [
    "Let's fit `Ridge` with a polynomial of degree 18 on this data. "
   ]
  },
  {
   "cell_type": "code",
   "execution_count": 6,
   "metadata": {
    "slideshow": {
     "slide_type": "-"
    }
   },
   "outputs": [
    {
     "data": {
      "image/png": "[encoded data removed]",
      "text/plain": [
       "<Figure size 432x288 with 1 Axes>"
      ]
     },
     "metadata": {
      "needs_background": "light"
     },
     "output_type": "display_data"
    }
   ],
   "source": [
    "degree = 18\n",
    "mglearn.discrete_scatter(X_train, y_train, s=8)\n",
    "pipe_poly_r = make_pipeline(PolynomialFeatures(degree=degree), Ridge(alpha=100))\n",
    "pipe_poly_r.fit(X_train, y_train)\n",
    "plt.plot(X_train, pipe_poly_r.predict(X_train), color=\"green\", linewidth=3);"
   ]
  },
  {
   "cell_type": "code",
   "execution_count": 7,
   "metadata": {
    "slideshow": {
     "slide_type": "slide"
    }
   },
   "outputs": [
    {
     "data": {
      "text/html": [
       "<div>\n",
       "<style scoped>\n",
       "    .dataframe tbody tr th:only-of-type {\n",
       "        vertical-align: middle;\n",
       "    }\n",
       "\n",
       "    .dataframe tbody tr th {\n",
       "        vertical-align: top;\n",
       "    }\n",
       "\n",
       "    .dataframe thead th {\n",
       "        text-align: right;\n",
       "    }\n",
       "</style>\n",
       "<table border=\"1\" class=\"dataframe\">\n",
       "  <thead>\n",
       "    <tr style=\"text-align: right;\">\n",
       "      <th></th>\n",
       "      <th>lr_weights</th>\n",
       "      <th>ridge_weights</th>\n",
       "    </tr>\n",
       "  </thead>\n",
       "  <tbody>\n",
       "    <tr>\n",
       "      <th>1</th>\n",
       "      <td>0.000000</td>\n",
       "      <td>0.000000</td>\n",
       "    </tr>\n",
       "    <tr>\n",
       "      <th>x0</th>\n",
       "      <td>10.446187</td>\n",
       "      <td>0.076271</td>\n",
       "    </tr>\n",
       "    <tr>\n",
       "      <th>x0^2</th>\n",
       "      <td>6.186111</td>\n",
       "      <td>-0.032400</td>\n",
       "    </tr>\n",
       "    <tr>\n",
       "      <th>x0^3</th>\n",
       "      <td>-66.790372</td>\n",
       "      <td>0.112943</td>\n",
       "    </tr>\n",
       "    <tr>\n",
       "      <th>x0^4</th>\n",
       "      <td>0.048736</td>\n",
       "      <td>-0.066220</td>\n",
       "    </tr>\n",
       "    <tr>\n",
       "      <th>x0^5</th>\n",
       "      <td>135.929795</td>\n",
       "      <td>0.170757</td>\n",
       "    </tr>\n",
       "    <tr>\n",
       "      <th>x0^6</th>\n",
       "      <td>-7.181033</td>\n",
       "      <td>-0.081811</td>\n",
       "    </tr>\n",
       "    <tr>\n",
       "      <th>x0^7</th>\n",
       "      <td>-122.474687</td>\n",
       "      <td>0.210630</td>\n",
       "    </tr>\n",
       "    <tr>\n",
       "      <th>x0^8</th>\n",
       "      <td>1.265846</td>\n",
       "      <td>-0.055938</td>\n",
       "    </tr>\n",
       "    <tr>\n",
       "      <th>x0^9</th>\n",
       "      <td>58.272401</td>\n",
       "      <td>0.123522</td>\n",
       "    </tr>\n",
       "    <tr>\n",
       "      <th>x0^10</th>\n",
       "      <td>2.360638</td>\n",
       "      <td>0.008739</td>\n",
       "    </tr>\n",
       "    <tr>\n",
       "      <th>x0^11</th>\n",
       "      <td>-15.575747</td>\n",
       "      <td>-0.150939</td>\n",
       "    </tr>\n",
       "    <tr>\n",
       "      <th>x0^12</th>\n",
       "      <td>-1.284319</td>\n",
       "      <td>0.021571</td>\n",
       "    </tr>\n",
       "    <tr>\n",
       "      <th>x0^13</th>\n",
       "      <td>2.337541</td>\n",
       "      <td>0.043733</td>\n",
       "    </tr>\n",
       "    <tr>\n",
       "      <th>x0^14</th>\n",
       "      <td>0.266427</td>\n",
       "      <td>-0.007975</td>\n",
       "    </tr>\n",
       "    <tr>\n",
       "      <th>x0^15</th>\n",
       "      <td>-0.182976</td>\n",
       "      <td>-0.005076</td>\n",
       "    </tr>\n",
       "    <tr>\n",
       "      <th>x0^16</th>\n",
       "      <td>-0.025066</td>\n",
       "      <td>0.000998</td>\n",
       "    </tr>\n",
       "    <tr>\n",
       "      <th>x0^17</th>\n",
       "      <td>0.005789</td>\n",
       "      <td>0.000209</td>\n",
       "    </tr>\n",
       "    <tr>\n",
       "      <th>x0^18</th>\n",
       "      <td>0.000890</td>\n",
       "      <td>-0.000042</td>\n",
       "    </tr>\n",
       "  </tbody>\n",
       "</table>\n",
       "</div>"
      ],
      "text/plain": [
       "       lr_weights  ridge_weights\n",
       "1        0.000000       0.000000\n",
       "x0      10.446187       0.076271\n",
       "x0^2     6.186111      -0.032400\n",
       "x0^3   -66.790372       0.112943\n",
       "x0^4     0.048736      -0.066220\n",
       "x0^5   135.929795       0.170757\n",
       "x0^6    -7.181033      -0.081811\n",
       "x0^7  -122.474687       0.210630\n",
       "x0^8     1.265846      -0.055938\n",
       "x0^9    58.272401       0.123522\n",
       "x0^10    2.360638       0.008739\n",
       "x0^11  -15.575747      -0.150939\n",
       "x0^12   -1.284319       0.021571\n",
       "x0^13    2.337541       0.043733\n",
       "x0^14    0.266427      -0.007975\n",
       "x0^15   -0.182976      -0.005076\n",
       "x0^16   -0.025066       0.000998\n",
       "x0^17    0.005789       0.000209\n",
       "x0^18    0.000890      -0.000042"
      ]
     },
     "execution_count": 7,
     "metadata": {},
     "output_type": "execute_result"
    }
   ],
   "source": [
    "df[\"ridge_weights\"] = pipe_poly_r.named_steps[\"ridge\"].coef_.flatten()\n",
    "df"
   ]
  },
  {
   "cell_type": "code",
   "execution_count": 8,
   "metadata": {
    "slideshow": {
     "slide_type": "slide"
    }
   },
   "outputs": [
    {
     "data": {
      "text/html": [
       "<div>\n",
       "<style scoped>\n",
       "    .dataframe tbody tr th:only-of-type {\n",
       "        vertical-align: middle;\n",
       "    }\n",
       "\n",
       "    .dataframe tbody tr th {\n",
       "        vertical-align: top;\n",
       "    }\n",
       "\n",
       "    .dataframe thead th {\n",
       "        text-align: right;\n",
       "    }\n",
       "</style>\n",
       "<table border=\"1\" class=\"dataframe\">\n",
       "  <thead>\n",
       "    <tr style=\"text-align: right;\">\n",
       "      <th></th>\n",
       "      <th>lr_weights</th>\n",
       "      <th>ridge_weights</th>\n",
       "    </tr>\n",
       "  </thead>\n",
       "  <tbody>\n",
       "    <tr>\n",
       "      <th>x0^5</th>\n",
       "      <td>135.929795</td>\n",
       "      <td>0.170757</td>\n",
       "    </tr>\n",
       "    <tr>\n",
       "      <th>x0^6</th>\n",
       "      <td>-7.181033</td>\n",
       "      <td>-0.081811</td>\n",
       "    </tr>\n",
       "    <tr>\n",
       "      <th>x0^7</th>\n",
       "      <td>-122.474687</td>\n",
       "      <td>0.210630</td>\n",
       "    </tr>\n",
       "  </tbody>\n",
       "</table>\n",
       "</div>"
      ],
      "text/plain": [
       "      lr_weights  ridge_weights\n",
       "x0^5  135.929795       0.170757\n",
       "x0^6   -7.181033      -0.081811\n",
       "x0^7 -122.474687       0.210630"
      ]
     },
     "execution_count": 8,
     "metadata": {},
     "output_type": "execute_result"
    }
   ],
   "source": [
    "df.iloc[5:8, :]"
   ]
  },
  {
   "cell_type": "markdown",
   "metadata": {},
   "source": [
    "- Example:\n",
    "    $$\\hat{y_i} = 135 \\times x0^5 - 122 \\times x0^7 + ...$$ vs. \n",
    "    \n",
    "    $$\\hat{y_i} = 0.17 \\times x0^5 + 0.21 \\times x0^7 + ...$$\n",
    "    \n",
    "- Seems like the signs of the coefficients are also changing with regularization... Illustrates that the interpretations of coefficients of linear models should always be taken with a grain of salt."
   ]
  },
  {
   "cell_type": "markdown",
   "metadata": {
    "slideshow": {
     "slide_type": "skip"
    }
   },
   "source": [
    "<br><br><br><br>"
   ]
  },
  {
   "cell_type": "markdown",
   "metadata": {
    "slideshow": {
     "slide_type": "slide"
    }
   },
   "source": [
    "## More on L2 regularization"
   ]
  },
  {
   "cell_type": "markdown",
   "metadata": {
    "slideshow": {
     "slide_type": "slide"
    }
   },
   "source": [
    "- With regularization you find the balance between low training error vs. small weights. "
   ]
  },
  {
   "cell_type": "markdown",
   "metadata": {
    "slideshow": {
     "slide_type": "slide"
    }
   },
   "source": [
    "### L2-Regularization \"Shrinking\" Example\n",
    "\n",
    "\n",
    "<img src='img/l2_shrinking_example.png' width=\"900\" height=\"700\" />\n",
    "\n",
    "[Source](https://www.cs.ubc.ca/~schmidtm/Courses/340-F19/L17.pdf)\n",
    "\n",
    "- We get least squares with $\\lambda = 0$.\n",
    "- $\\lVert Xw - y\\rVert^2$ increases with $\\lambda$, and $\\lVert w\\rVert^2$ decreases with λ.\n",
    "    - Though individual $w_j$ can increase or decrease with lambda because we use the L2-norm, the large ones decrease the most."
   ]
  },
  {
   "cell_type": "markdown",
   "metadata": {
    "slideshow": {
     "slide_type": "slide"
    }
   },
   "source": [
    "### Let's bring back `sklearn's` California housing dataset"
   ]
  },
  {
   "cell_type": "code",
   "execution_count": 9,
   "metadata": {},
   "outputs": [],
   "source": [
    "from sklearn.datasets import fetch_california_housing\n",
    "from sklearn.preprocessing import MinMaxScaler, PolynomialFeatures\n",
    "\n",
    "housing = fetch_california_housing(as_frame=True)\n",
    "X = housing[\"data\"]\n",
    "X = MinMaxScaler().fit_transform(housing.data)\n",
    "pf = PolynomialFeatures(degree=2, include_bias=False)\n",
    "X = pf.fit_transform(X)\n",
    "y = housing[\"target\"]"
   ]
  },
  {
   "cell_type": "code",
   "execution_count": 10,
   "metadata": {},
   "outputs": [
    {
     "data": {
      "text/plain": [
       "(20640, 44)"
      ]
     },
     "execution_count": 10,
     "metadata": {},
     "output_type": "execute_result"
    }
   ],
   "source": [
    "X.shape"
   ]
  },
  {
   "cell_type": "code",
   "execution_count": 11,
   "metadata": {
    "slideshow": {
     "slide_type": "-"
    }
   },
   "outputs": [],
   "source": [
    "X_train, X_test, y_train, y_test = train_test_split(X, y, random_state=0)"
   ]
  },
  {
   "cell_type": "markdown",
   "metadata": {
    "slideshow": {
     "slide_type": "slide"
    }
   },
   "source": [
    "### The weights become smaller but never become zero"
   ]
  },
  {
   "cell_type": "markdown",
   "metadata": {},
   "source": [
    "- Strong regularization means the results are not too sensitive to the training data. \n",
    "- We are keeping the complexity of the model but making it less sensitive to the feature values! \n",
    "- As `alpha` goes up, we increase the regularization strength. \n",
    "- The weights become smaller and smaller. "
   ]
  },
  {
   "cell_type": "code",
   "execution_count": 15,
   "metadata": {
    "slideshow": {
     "slide_type": "slide"
    }
   },
   "outputs": [],
   "source": [
    "ridge01 = Ridge(alpha=0.01).fit(X_train, y_train)\n",
    "ridge1 = Ridge().fit(X_train, y_train)\n",
    "ridge10 = Ridge(alpha=10).fit(X_train, y_train)\n",
    "ridge100 = Ridge(alpha=100).fit(X_train, y_train)\n",
    "ridge1000 = Ridge(alpha=1000).fit(X_train, y_train)"
   ]
  },
  {
   "cell_type": "code",
   "execution_count": 16,
   "metadata": {},
   "outputs": [
    {
     "data": {
      "image/png": "[encoded data removed]",
      "text/plain": [
       "<Figure size 720x576 with 1 Axes>"
      ]
     },
     "metadata": {
      "needs_background": "light"
     },
     "output_type": "display_data"
    }
   ],
   "source": [
    "plt.figure(figsize=(10, 8))\n",
    "plt.plot(ridge01.coef_, \"^\", markersize=10, label=\"Ridge alpha=0.01\")\n",
    "plt.plot(ridge1.coef_, \"^\", markersize=10, label=\"Ridge alpha=1\")\n",
    "plt.plot(ridge10.coef_, \"^\", markersize=10, label=\"Ridge alpha=10\")\n",
    "plt.plot(ridge100.coef_, \"^\", markersize=10, label=\"Ridge alpha=100\")\n",
    "plt.plot(ridge1000.coef_, \"^\", markersize=10, label=\"Ridge alpha=1000\")\n",
    "plt.xlabel(\"Coefficient index\")\n",
    "plt.ylabel(\"Coefficient magnitude\")\n",
    "plt.hlines(0, 0, len(lr.coef_))\n",
    "plt.ylim(-25, 25)\n",
    "plt.legend();"
   ]
  },
  {
   "cell_type": "markdown",
   "metadata": {
    "slideshow": {
     "slide_type": "slide"
    }
   },
   "source": [
    "Let's try a very large `alpha` value, which is likely to make weights very small. "
   ]
  },
  {
   "cell_type": "code",
   "execution_count": 13,
   "metadata": {
    "slideshow": {
     "slide_type": "-"
    }
   },
   "outputs": [
    {
     "name": "stdout",
     "output_type": "stream",
     "text": [
      "Total number of features 44\n",
      "Number of non-zero weights:  44\n"
     ]
    }
   ],
   "source": [
    "lr = LinearRegression().fit(X_train, y_train)\n",
    "ridge10000 = Ridge(alpha=10000).fit(X_train, y_train)\n",
    "print(\"Total number of features\", X_train.shape[1])\n",
    "print(\"Number of non-zero weights: \", np.sum(ridge10000.coef_ != 0))"
   ]
  },
  {
   "cell_type": "markdown",
   "metadata": {},
   "source": [
    "All features have non-zero weights. "
   ]
  },
  {
   "cell_type": "code",
   "execution_count": 14,
   "metadata": {
    "slideshow": {
     "slide_type": "slide"
    }
   },
   "outputs": [
    {
     "data": {
      "image/png": "[encoded data removed]",
      "text/plain": [
       "<Figure size 720x576 with 1 Axes>"
      ]
     },
     "metadata": {
      "needs_background": "light"
     },
     "output_type": "display_data"
    }
   ],
   "source": [
    "plt.figure(figsize=(10, 8))\n",
    "plt.plot(ridge10000.coef_, \"^\", markersize=10, label=\"Ridge alpha=10000\")\n",
    "plt.plot(lr.coef_, \"^\", markersize=10, label=\"Linear Regression\")\n",
    "plt.xlabel(\"Coefficient index\")\n",
    "plt.ylabel(\"Coefficient magnitude\")\n",
    "plt.hlines(0, 0, len(lr.coef_))\n",
    "plt.ylim(-25, 25)\n",
    "plt.legend();"
   ]
  },
  {
   "cell_type": "markdown",
   "metadata": {},
   "source": [
    "The coefficients are very close to zero but not exactly zero. That said, they won't have much impact on prediction. "
   ]
  },
  {
   "cell_type": "markdown",
   "metadata": {
    "slideshow": {
     "slide_type": "slide"
    }
   },
   "source": [
    "### Regularization path\n",
    "\n",
    "- Weights shrink and converge to zero as $\\lambda$ grows but they do not become exactly 0. \n",
    "- The reason for this is the shape and smoothness of the function when we add L2-regularization. \n",
    "\n",
    "![](img/sparsity_regularization.png)\n",
    "<!-- <img src='img/sparsity_regularization.png' width=\"1000\" height=\"1000\" /> -->\n",
    "\n",
    "For more details refer to [CPSC 340 notes](https://www.cs.ubc.ca/~schmidtm/Courses/340-F19/L18.pdf). "
   ]
  },
  {
   "cell_type": "markdown",
   "metadata": {
    "slideshow": {
     "slide_type": "slide"
    }
   },
   "source": [
    "### Regularization path\n",
    "\n",
    "- Imagine that $w_j = 0.000001$. The penalty for this $w_j$ is $0.000000000001$, i.e., a very tiny number. So there is less \"incentive\" in terms of decreasing the loss to set it to zero. The incentive (slope) is smaller and smaller as we approach 0 and therefore the coefficients do not become exactly 0. The slope (derivative) is going to go to zero smoothly, which provides us the incentive to move to zero during optimization. \n",
    "\n",
    "![](img/regularization_path.png)\n",
    "<!-- <img src='img/regularization_path.png' width=\"700\" height=\"700\" /> -->"
   ]
  },
  {
   "cell_type": "markdown",
   "metadata": {
    "slideshow": {
     "slide_type": "slide"
    }
   },
   "source": [
    "### Regularization learning curves"
   ]
  },
  {
   "cell_type": "code",
   "execution_count": 17,
   "metadata": {},
   "outputs": [
    {
     "data": {
      "image/png": "[encoded data removed]",
      "text/plain": [
       "<Figure size 432x288 with 1 Axes>"
      ]
     },
     "metadata": {
      "needs_background": "light"
     },
     "output_type": "display_data"
    }
   ],
   "source": [
    "plot_learning_curve(Ridge(alpha=0.01), X_train, y_train)\n",
    "plot_learning_curve(Ridge(alpha=1.0), X_train, y_train)\n",
    "plt.legend();"
   ]
  },
  {
   "cell_type": "markdown",
   "metadata": {
    "slideshow": {
     "slide_type": "-"
    }
   },
   "source": [
    "- As one would expect, the training score is higher than the test score for all dataset sizes\n",
    "- Training score of `Ridge` with `alpha=0.01` > Training score of `Ridge` with `alpha=1` (more regularization)\n",
    "- However, the test score of `Ridge` with `alpha=1` > Test score of `Ridge` with `alpha=0.01` **for smaller training sizes.**\n",
    "- As more and more data becomes available to the model, both models improve. Ridge with less regularization catches up with ridge with more regularization and actually performs better. "
   ]
  },
  {
   "cell_type": "markdown",
   "metadata": {},
   "source": [
    "> Takeaway: Regularization is extremely useful when the dataset is small. It prevents the model from overfitting and gives it a more robust result on the test set."
   ]
  },
  {
   "cell_type": "markdown",
   "metadata": {
    "slideshow": {
     "slide_type": "skip"
    }
   },
   "source": [
    "### How to pick $\\lambda$? \n",
    "\n",
    "- Theory: as $n$ grows $\\lambda$ should be in the range $O(1)$ to $\\sqrt{n}$.\n",
    "- Practice: optimize validation set or cross-validation error.\n",
    "    - Almost always decreases the test error."
   ]
  },
  {
   "cell_type": "markdown",
   "metadata": {
    "slideshow": {
     "slide_type": "skip"
    }
   },
   "source": [
    "### Should we regularize the y-intercept?\n",
    "\n",
    "- No! \n",
    "    - Why encourage it to be closer to zero? (It could be anywhere.)\n",
    "    - You should be allowed to shift function up/down globally.\n",
    "- Yes! \n",
    "    - Useful for optimization; It makes the solution unique and it easier to compute $w$    \n",
    "- Compromise: regularize by a smaller amount than other variables.\n",
    "    $$f(w) = \\lVert Xw + w_0 - y\\rVert^2 + \\frac{\\lambda_1}{2}\\lVert w\\rVert^2 + \\frac{\\lambda_2}{2}w_0^2$$  "
   ]
  },
  {
   "cell_type": "markdown",
   "metadata": {
    "slideshow": {
     "slide_type": "slide"
    }
   },
   "source": [
    "### Some properties of L2-regularization\n",
    "\n",
    "1. Solution $w$ is unique. Again, it has to do with the smoothness of the function. \n",
    "    - We are not going into mathematical details. If interested see [slide 20](https://www.cs.ubc.ca/~schmidtm/Courses/340-F19/L17.pdf).\n",
    "2. **Almost always improves the validation error.** \n",
    "3. No collinearity issues.\n",
    "4. Less sensitive to changes in $X$.\n",
    "5. Gradient descent (optimization algorithm) converges faster (bigger $\\lambda$ means fewer iterations).\n",
    "6. Worst case: just set $\\lambda$ small and get the same performance"
   ]
  },
  {
   "cell_type": "markdown",
   "metadata": {
    "slideshow": {
     "slide_type": "slide"
    }
   },
   "source": [
    "### Summary: L2-regularization \n",
    "\n",
    "- Change the loss function by adding a continuous L2-penalty on the model complexity. \n",
    "- Best parameter $\\lambda$ almost already leads to improved validation error.\n",
    "    - L2-regularized least squares is also called \"ridge regression\". \n",
    "    - Can be solved as a linear system like least squares.\n",
    "- Some benefits of L2 regularization  \n",
    "    - Solution is unique.\n",
    "    - Less sensitive to data.\n",
    "    - Fast. "
   ]
  },
  {
   "cell_type": "markdown",
   "metadata": {
    "slideshow": {
     "slide_type": "slide"
    },
    "tags": []
   },
   "source": [
    "### L2-regularization\n",
    "\n",
    "```{admonition} Exercise 7.2 True/False (Recap)\n",
    "1. Introducing L2 regularization to the model means making it less sensitive to changes in $X$.\n",
    "2. Introducing L2 regularization to the model can results in worse performance on the training set. \n",
    "3. L2 regularization shrinks the weights but all $w_j$s tend to be non-zero.\n",
    "```"
   ]
  },
  {
   "cell_type": "markdown",
   "metadata": {
    "slideshow": {
     "slide_type": "slide"
    }
   },
   "source": [
    "## L1 regularization"
   ]
  },
  {
   "cell_type": "markdown",
   "metadata": {},
   "source": [
    "- An alternative to `Ridge` (L2-regularization for least squares) is `Lasso`.\n",
    "- Instead of L0- or L2-norm, regularize with L1-norm. \n",
    "\n",
    "$$f(w) = \\frac{1}{2}\\sum_i^n(w^TX_i - y_i)^2 + \\frac{\\lambda}{2}\\sum_j^d \\lvert w_j \\lvert\\text{ or }$$ \n",
    "$$f(w) = \\frac{1}{2}\\lVert Xw - y\\rVert_2^2 + \\frac{\\lambda}{2} \\lVert w\\rVert_1$$\n",
    "\n",
    "\n",
    "- $\\lambda \\rightarrow$ regularization strength\n",
    "- $\\lVert w\\rVert_1 \\rightarrow$  L1-norm of $w$  \n",
    "- Objective balances getting low error vs. having small values for $w_j$\n"
   ]
  },
  {
   "cell_type": "markdown",
   "metadata": {
    "slideshow": {
     "slide_type": "slide"
    }
   },
   "source": [
    "### Similarities with L2-regularization\n",
    "\n",
    "- L1-regularization \n",
    "$$f(w) = \\frac{1}{2}\\lVert Xw - y\\rVert_2^2 + \\frac{\\lambda}{2} \\lVert w\\rVert_1$$\n",
    "\n",
    "- L2-regularization \n",
    "$$f(w) = \\frac{1}{2}\\lVert Xw - y\\rVert_2^2 + \\frac{\\lambda}{2} \\lVert w\\rVert_2^2$$\n",
    "\n",
    "- Both shrink weights.\n",
    "- Both result in lower validation error. "
   ]
  },
  {
   "cell_type": "markdown",
   "metadata": {
    "slideshow": {
     "slide_type": "slide"
    }
   },
   "source": [
    "### Terminology and notation: Ridge and Lasso\n",
    "\n",
    "- Linear regression model that uses L2 regularization is called **Ridge** or Tikhonov regularization.\n",
    "    - [`scikit-learn` Ridge](https://scikit-learn.org/stable/modules/generated/sklearn.linear_model.Ridge.html?highlight=ridge#sklearn.linear_model.Ridge)\n",
    "- Linear regression model that uses L1 regularization is called **Lasso**. \n",
    "    - [`scikit-learn` Lasso](https://scikit-learn.org/stable/modules/generated/sklearn.linear_model.Lasso.html?highlight=lasso)\n",
    "    > class sklearn.linear_model.Lasso(alpha=1.0, fit_intercept=True, normalize=False, precompute=False, copy_X=True, max_iter=1000, tol=0.0001, warm_start=False, positive=False, random_state=None, selection='cyclic')\n",
    "\n"
   ]
  },
  {
   "cell_type": "markdown",
   "metadata": {
    "slideshow": {
     "slide_type": "slide"
    }
   },
   "source": [
    "### L1-regularization \n",
    "\n",
    "- The consequence of using L1-norm is that some features are exactly zero, which means that the features are entirely ignored by the model. \n",
    "- This can be considered as a form of feature selection!! \n",
    "- L1-regularization simultaneously regularizes and selects features.\n",
    "- Very fast alternative to search and score methods"
   ]
  },
  {
   "cell_type": "markdown",
   "metadata": {
    "slideshow": {
     "slide_type": "slide"
    }
   },
   "source": [
    "Let's apply `Lasso` on the California housing data. "
   ]
  },
  {
   "cell_type": "code",
   "execution_count": 18,
   "metadata": {},
   "outputs": [
    {
     "name": "stdout",
     "output_type": "stream",
     "text": [
      "Training set score: 0.00\n",
      "Test set score: -0.00\n",
      "Number of features used: 0\n"
     ]
    }
   ],
   "source": [
    "from sklearn.linear_model import Lasso\n",
    "\n",
    "lasso = Lasso().fit(X_train, y_train)\n",
    "print(\"Training set score: {:.2f}\".format(lasso.score(X_train, y_train)))\n",
    "print(\"Test set score: {:.2f}\".format(lasso.score(X_test, y_test)))\n",
    "print(\"Number of features used:\", np.sum(lasso.coef_ != 0))"
   ]
  },
  {
   "cell_type": "markdown",
   "metadata": {
    "slideshow": {
     "slide_type": "-"
    }
   },
   "source": [
    "- That's strange. It's not using any features -- like dummy model. It's underfitting. \n",
    "- Similar to `Ridge` it also has a regularization hyperparameter `alpha`. \n",
    "- Let's decrease it to reduce underfitting. "
   ]
  },
  {
   "cell_type": "code",
   "execution_count": 19,
   "metadata": {
    "slideshow": {
     "slide_type": "slide"
    }
   },
   "outputs": [
    {
     "name": "stdout",
     "output_type": "stream",
     "text": [
      "Training set score: 0.63\n",
      "Test set score: 0.61\n",
      "Number of features used: 44\n"
     ]
    }
   ],
   "source": [
    "r = Ridge().fit(X_train, y_train)\n",
    "print(\"Training set score: {:.2f}\".format(r.score(X_train, y_train)))\n",
    "print(\"Test set score: {:.2f}\".format(r.score(X_test, y_test)))\n",
    "print(\"Number of features used:\", np.sum(r.coef_ != 0))"
   ]
  },
  {
   "cell_type": "code",
   "execution_count": 20,
   "metadata": {},
   "outputs": [
    {
     "name": "stdout",
     "output_type": "stream",
     "text": [
      "Training set score: 0.64\n",
      "Test set score: 0.62\n",
      "Number of features used: 19\n"
     ]
    }
   ],
   "source": [
    "lasso = Lasso(alpha=0.0001, max_iter=100000).fit(X_train, y_train)\n",
    "print(\"Training set score: {:.2f}\".format(lasso.score(X_train, y_train)))\n",
    "print(\"Test set score: {:.2f}\".format(lasso.score(X_test, y_test)))\n",
    "print(\"Number of features used:\", np.sum(lasso.coef_ != 0))"
   ]
  },
  {
   "cell_type": "markdown",
   "metadata": {},
   "source": [
    "- The scores are a bit better than `Ridge` with only 19/44 features!! \n",
    "- If `alpha` is too low, we reduce the effect of overfitting and the results are similar to linear regression. "
   ]
  },
  {
   "cell_type": "markdown",
   "metadata": {
    "slideshow": {
     "slide_type": "slide"
    }
   },
   "source": [
    "Let's plot coefficients of `Lasso`. "
   ]
  },
  {
   "cell_type": "code",
   "execution_count": 21,
   "metadata": {},
   "outputs": [],
   "source": [
    "lasso0001 = Lasso(alpha=0.0001, max_iter=100000).fit(X_train, y_train)\n",
    "lasso001 = Lasso(alpha=0.001).fit(X_train, y_train)\n",
    "lasso = Lasso(alpha=1).fit(X_train, y_train)"
   ]
  },
  {
   "cell_type": "code",
   "execution_count": 22,
   "metadata": {},
   "outputs": [
    {
     "data": {
      "image/png": "[encoded data removed]",
      "text/plain": [
       "<Figure size 720x576 with 1 Axes>"
      ]
     },
     "metadata": {
      "needs_background": "light"
     },
     "output_type": "display_data"
    }
   ],
   "source": [
    "plt.figure(figsize=(10, 8))\n",
    "plt.plot(lasso0001.coef_, \"^\", markersize=10, label=\"Lasso alpha=0.0001\")\n",
    "plt.plot(lasso001.coef_, \"^\", markersize=10, label=\"Lasso alpha=0.001\")\n",
    "plt.plot(lasso.coef_, \"^\", markersize=10, label=\"Lasso alpha=1\")\n",
    "plt.xlabel(\"Coefficient index\")\n",
    "plt.ylabel(\"Coefficient magnitude\")\n",
    "plt.hlines(0, 0, len(lr.coef_))\n",
    "plt.ylim(-25, 25)\n",
    "plt.legend();"
   ]
  },
  {
   "cell_type": "markdown",
   "metadata": {},
   "source": [
    "- For `alpha = 1` most of the coefficients are zero. \n",
    "- With smaller values of `alpha` we get an unregularized model. "
   ]
  },
  {
   "cell_type": "markdown",
   "metadata": {
    "slideshow": {
     "slide_type": "slide"
    }
   },
   "source": [
    "### Terminology and notation: Sparsity \n",
    "\n",
    "- We say a linear function is sparse if most of the coefficients are zero. \n",
    "- Example: Here only 2 out of 8 coefficients are non-zero and so it is a sparse function. \n",
    "$$0x_1 + 0.45 x_2 + 0  x_3 + 0x_4 + 1.2x_5 + 0x_6 + 0x_7 + 0x_8$$\n",
    "- L0- and L1-regularization encourage sparsity. "
   ]
  },
  {
   "cell_type": "markdown",
   "metadata": {
    "slideshow": {
     "slide_type": "slide"
    }
   },
   "source": [
    "### Example: L0 vs. L1 vs. L2\n",
    "\n",
    "Consider problem where 3 vectors can get minimum training error:\n",
    "\n",
    "$$w^1 = \\begin{bmatrix}100 \\\\0.02\\end{bmatrix},  w^2 = \\begin{bmatrix}100 \\\\0\\end{bmatrix}, w^3 = \\begin{bmatrix}99.99 \\\\0.02\\end{bmatrix}$$ \n",
    "\n",
    "- Without regularization, we could choose any of these 3.\n",
    "- They all have same error, so regularization will \"break tie\".\n",
    "- Which one would you choose with each of L0, L1, L2 regularization?"
   ]
  },
  {
   "cell_type": "markdown",
   "metadata": {
    "slideshow": {
     "slide_type": "slide"
    }
   },
   "source": [
    "### Which one would you choose with L0 regularization? \n",
    "\n",
    "$$w^1 = \\begin{bmatrix}100 \\\\-0.02\\end{bmatrix},  w^2 = \\begin{bmatrix}100 \\\\0\\end{bmatrix}, w^3 = \\begin{bmatrix}99.99 \\\\0.02\\end{bmatrix}$$ \n",
    "\n",
    "- With L0 regularization, you would choose $w^2$\n",
    "    - $\\lVert w^1\\rVert_0 = 2$\n",
    "    - $\\lVert w^2\\rVert_0 = 1$\n",
    "    - $\\lVert w^3\\rVert_0 = 2$"
   ]
  },
  {
   "cell_type": "markdown",
   "metadata": {
    "slideshow": {
     "slide_type": "slide"
    }
   },
   "source": [
    "### Which one would you choose with L1 regularization? \n",
    "\n",
    "$$w^1 = \\begin{bmatrix}100 \\\\0.02\\end{bmatrix},  w^2 = \\begin{bmatrix}100 \\\\0\\end{bmatrix}, w^3 = \\begin{bmatrix}99.99 \\\\0.02\\end{bmatrix}$$ \n",
    "\n",
    "- With L1 regularization, you would choose $w^2$. \n",
    "    - $\\lVert w^1\\rVert_1 = 100.02$\n",
    "    - $\\lVert w^2\\rVert_1 = 100$\n",
    "    - $\\lVert w^3\\rVert_1 = 100.01$\n",
    "- L1-regularization focuses on decreasing all $w_j$ until they are 0. "
   ]
  },
  {
   "cell_type": "markdown",
   "metadata": {
    "slideshow": {
     "slide_type": "slide"
    }
   },
   "source": [
    "### Which one would you choose with L2 regularization? \n",
    "\n",
    "$$w^1 = \\begin{bmatrix}100 \\\\0.02\\end{bmatrix},  w^2 = \\begin{bmatrix}100 \\\\0\\end{bmatrix}, w^3 = \\begin{bmatrix}99.99 \\\\0.02\\end{bmatrix}$$ \n",
    "\n",
    "- With L1 regularization, you would choose $w^3$. \n",
    "    - $\\lVert w^1\\rVert_2^2 = (100)^2 + (0.02)^2 = 10000.0004$\n",
    "    - $\\lVert w^2\\rVert_2^2 = (100)^2 = 10000$\n",
    "    - $\\lVert w^3\\rVert_2^2 = (99.99)^2 + (0.02)^2 = 9998.0005$\n",
    "    \n",
    "- L2-regularization focuses on decreasing largest $w_j$ smaller    "
   ]
  },
  {
   "cell_type": "markdown",
   "metadata": {
    "slideshow": {
     "slide_type": "slide"
    }
   },
   "source": [
    "### Some properties of L1 regularization\n",
    "\n",
    "1. Almost always improves the validation error. \n",
    "2. Can learn with exponential number of irrelevant features.\n",
    "3. Less sensitive to changes in $X$.\n",
    "4. The solution is not unique. (If interested in more explanation on this, see slide 43 in [this slide deck](https://www.cs.ubc.ca/~schmidtm/Courses/340-F19/L18.pdf).)"
   ]
  },
  {
   "cell_type": "markdown",
   "metadata": {
    "slideshow": {
     "slide_type": "slide"
    }
   },
   "source": [
    "### Feature selection using L1 regularization \n",
    "\n",
    "- Feature selection methods we have seen so far: \n",
    "    - RFE\n",
    "    - Search and score with L0-regularization (e.g., forward search)\n",
    "- An effective way of feature selection: L1-regularization "
   ]
  },
  {
   "cell_type": "code",
   "execution_count": 23,
   "metadata": {
    "slideshow": {
     "slide_type": "slide"
    }
   },
   "outputs": [
    {
     "data": {
      "text/plain": [
       "(20640, 8)"
      ]
     },
     "execution_count": 23,
     "metadata": {},
     "output_type": "execute_result"
    }
   ],
   "source": [
    "from sklearn.ensemble import RandomForestRegressor\n",
    "from sklearn.feature_selection import SelectFromModel\n",
    "from sklearn.linear_model import Lasso, LassoCV\n",
    "\n",
    "housing = fetch_california_housing(as_frame=True)\n",
    "X = housing[\"data\"]\n",
    "y = housing[\"target\"]\n",
    "X_train, X_test, y_train, y_test = train_test_split(X, y, random_state=0)\n",
    "pipe_l1_rf = make_pipeline(\n",
    "    StandardScaler(),\n",
    "    SelectFromModel(Lasso(alpha=0.01, max_iter=100000)),\n",
    "    RandomForestRegressor(),\n",
    ")\n",
    "\n",
    "X.shape"
   ]
  },
  {
   "cell_type": "code",
   "execution_count": 24,
   "metadata": {
    "slideshow": {
     "slide_type": "slide"
    }
   },
   "outputs": [
    {
     "data": {
      "text/plain": [
       "0.972911174947398"
      ]
     },
     "execution_count": 24,
     "metadata": {},
     "output_type": "execute_result"
    }
   ],
   "source": [
    "pipe_l1_rf.fit(X_train, y_train)\n",
    "pipe_l1_rf.score(X_train, y_train)"
   ]
  },
  {
   "cell_type": "code",
   "execution_count": 25,
   "metadata": {},
   "outputs": [
    {
     "name": "stdout",
     "output_type": "stream",
     "text": [
      "Training set score: 0.97\n",
      "Test set score: 0.79\n"
     ]
    }
   ],
   "source": [
    "print(\"Training set score: {:.2f}\".format(pipe_l1_rf.score(X_train, y_train)))\n",
    "print(\"Test set score: {:.2f}\".format(pipe_l1_rf.score(X_test, y_test)))"
   ]
  },
  {
   "cell_type": "code",
   "execution_count": 26,
   "metadata": {},
   "outputs": [
    {
     "name": "stdout",
     "output_type": "stream",
     "text": [
      "Number of features used: 7\n"
     ]
    }
   ],
   "source": [
    "print(\n",
    "    \"Number of features used:\",\n",
    "    np.sum(pipe_l1_rf.named_steps[\"selectfrommodel\"].estimator_.coef_ != 0),\n",
    ")"
   ]
  },
  {
   "cell_type": "markdown",
   "metadata": {
    "slideshow": {
     "slide_type": "skip"
    }
   },
   "source": [
    "<br><br><br><br>"
   ]
  },
  {
   "cell_type": "markdown",
   "metadata": {
    "slideshow": {
     "slide_type": "slide"
    }
   },
   "source": [
    "## Using regularized models "
   ]
  },
  {
   "cell_type": "markdown",
   "metadata": {
    "slideshow": {
     "slide_type": "slide"
    }
   },
   "source": [
    "### Regularized logistic regression\n",
    "\n",
    "- Regularization is not limited to least squares. \n",
    "- We can add L1 and L2 penalty terms in other loss functions as well. \n",
    "- Let's look at logistic regression with L1- and L2-regularization."
   ]
  },
  {
   "cell_type": "code",
   "execution_count": 27,
   "metadata": {
    "slideshow": {
     "slide_type": "slide"
    }
   },
   "outputs": [],
   "source": [
    "from sklearn.datasets import load_breast_cancer\n",
    "\n",
    "breast_cancer = load_breast_cancer()\n",
    "# print(breast_cancer.keys())\n",
    "# print(breast_cancer.DESCR)"
   ]
  },
  {
   "cell_type": "code",
   "execution_count": 28,
   "metadata": {
    "slideshow": {
     "slide_type": "-"
    }
   },
   "outputs": [],
   "source": [
    "breast_cancer_df = pd.DataFrame(breast_cancer.data, columns=breast_cancer.feature_names)\n",
    "breast_cancer_df[\"target\"] = breast_cancer.target\n",
    "train_df, test_df = train_test_split(breast_cancer_df, test_size=0.2, random_state=2)\n",
    "\n",
    "X_train, y_train = train_df.drop(columns=[\"target\"]), train_df[\"target\"]\n",
    "X_test, y_test = test_df.drop(columns=[\"target\"]), test_df[\"target\"]"
   ]
  },
  {
   "cell_type": "code",
   "execution_count": 29,
   "metadata": {
    "slideshow": {
     "slide_type": "-"
    }
   },
   "outputs": [
    {
     "data": {
      "text/html": [
       "<div>\n",
       "<style scoped>\n",
       "    .dataframe tbody tr th:only-of-type {\n",
       "        vertical-align: middle;\n",
       "    }\n",
       "\n",
       "    .dataframe tbody tr th {\n",
       "        vertical-align: top;\n",
       "    }\n",
       "\n",
       "    .dataframe thead th {\n",
       "        text-align: right;\n",
       "    }\n",
       "</style>\n",
       "<table border=\"1\" class=\"dataframe\">\n",
       "  <thead>\n",
       "    <tr style=\"text-align: right;\">\n",
       "      <th></th>\n",
       "      <th>mean radius</th>\n",
       "      <th>mean texture</th>\n",
       "      <th>mean perimeter</th>\n",
       "      <th>mean area</th>\n",
       "      <th>mean smoothness</th>\n",
       "      <th>mean compactness</th>\n",
       "      <th>mean concavity</th>\n",
       "      <th>mean concave points</th>\n",
       "      <th>mean symmetry</th>\n",
       "      <th>mean fractal dimension</th>\n",
       "      <th>...</th>\n",
       "      <th>worst radius</th>\n",
       "      <th>worst texture</th>\n",
       "      <th>worst perimeter</th>\n",
       "      <th>worst area</th>\n",
       "      <th>worst smoothness</th>\n",
       "      <th>worst compactness</th>\n",
       "      <th>worst concavity</th>\n",
       "      <th>worst concave points</th>\n",
       "      <th>worst symmetry</th>\n",
       "      <th>worst fractal dimension</th>\n",
       "    </tr>\n",
       "  </thead>\n",
       "  <tbody>\n",
       "    <tr>\n",
       "      <th>560</th>\n",
       "      <td>14.05</td>\n",
       "      <td>27.15</td>\n",
       "      <td>91.38</td>\n",
       "      <td>600.4</td>\n",
       "      <td>0.09929</td>\n",
       "      <td>0.11260</td>\n",
       "      <td>0.04462</td>\n",
       "      <td>0.04304</td>\n",
       "      <td>0.1537</td>\n",
       "      <td>0.06171</td>\n",
       "      <td>...</td>\n",
       "      <td>15.30</td>\n",
       "      <td>33.17</td>\n",
       "      <td>100.20</td>\n",
       "      <td>706.7</td>\n",
       "      <td>0.1241</td>\n",
       "      <td>0.22640</td>\n",
       "      <td>0.1326</td>\n",
       "      <td>0.10480</td>\n",
       "      <td>0.2250</td>\n",
       "      <td>0.08321</td>\n",
       "    </tr>\n",
       "    <tr>\n",
       "      <th>428</th>\n",
       "      <td>11.13</td>\n",
       "      <td>16.62</td>\n",
       "      <td>70.47</td>\n",
       "      <td>381.1</td>\n",
       "      <td>0.08151</td>\n",
       "      <td>0.03834</td>\n",
       "      <td>0.01369</td>\n",
       "      <td>0.01370</td>\n",
       "      <td>0.1511</td>\n",
       "      <td>0.06148</td>\n",
       "      <td>...</td>\n",
       "      <td>11.68</td>\n",
       "      <td>20.29</td>\n",
       "      <td>74.35</td>\n",
       "      <td>421.1</td>\n",
       "      <td>0.1030</td>\n",
       "      <td>0.06219</td>\n",
       "      <td>0.0458</td>\n",
       "      <td>0.04044</td>\n",
       "      <td>0.2383</td>\n",
       "      <td>0.07083</td>\n",
       "    </tr>\n",
       "    <tr>\n",
       "      <th>198</th>\n",
       "      <td>19.18</td>\n",
       "      <td>22.49</td>\n",
       "      <td>127.50</td>\n",
       "      <td>1148.0</td>\n",
       "      <td>0.08523</td>\n",
       "      <td>0.14280</td>\n",
       "      <td>0.11140</td>\n",
       "      <td>0.06772</td>\n",
       "      <td>0.1767</td>\n",
       "      <td>0.05529</td>\n",
       "      <td>...</td>\n",
       "      <td>23.36</td>\n",
       "      <td>32.06</td>\n",
       "      <td>166.40</td>\n",
       "      <td>1688.0</td>\n",
       "      <td>0.1322</td>\n",
       "      <td>0.56010</td>\n",
       "      <td>0.3865</td>\n",
       "      <td>0.17080</td>\n",
       "      <td>0.3193</td>\n",
       "      <td>0.09221</td>\n",
       "    </tr>\n",
       "    <tr>\n",
       "      <th>203</th>\n",
       "      <td>13.81</td>\n",
       "      <td>23.75</td>\n",
       "      <td>91.56</td>\n",
       "      <td>597.8</td>\n",
       "      <td>0.13230</td>\n",
       "      <td>0.17680</td>\n",
       "      <td>0.15580</td>\n",
       "      <td>0.09176</td>\n",
       "      <td>0.2251</td>\n",
       "      <td>0.07421</td>\n",
       "      <td>...</td>\n",
       "      <td>19.20</td>\n",
       "      <td>41.85</td>\n",
       "      <td>128.50</td>\n",
       "      <td>1153.0</td>\n",
       "      <td>0.2226</td>\n",
       "      <td>0.52090</td>\n",
       "      <td>0.4646</td>\n",
       "      <td>0.20130</td>\n",
       "      <td>0.4432</td>\n",
       "      <td>0.10860</td>\n",
       "    </tr>\n",
       "    <tr>\n",
       "      <th>41</th>\n",
       "      <td>10.95</td>\n",
       "      <td>21.35</td>\n",
       "      <td>71.90</td>\n",
       "      <td>371.1</td>\n",
       "      <td>0.12270</td>\n",
       "      <td>0.12180</td>\n",
       "      <td>0.10440</td>\n",
       "      <td>0.05669</td>\n",
       "      <td>0.1895</td>\n",
       "      <td>0.06870</td>\n",
       "      <td>...</td>\n",
       "      <td>12.84</td>\n",
       "      <td>35.34</td>\n",
       "      <td>87.22</td>\n",
       "      <td>514.0</td>\n",
       "      <td>0.1909</td>\n",
       "      <td>0.26980</td>\n",
       "      <td>0.4023</td>\n",
       "      <td>0.14240</td>\n",
       "      <td>0.2964</td>\n",
       "      <td>0.09606</td>\n",
       "    </tr>\n",
       "  </tbody>\n",
       "</table>\n",
       "<p>5 rows × 30 columns</p>\n",
       "</div>"
      ],
      "text/plain": [
       "     mean radius  mean texture  mean perimeter  mean area  mean smoothness  \\\n",
       "560        14.05         27.15           91.38      600.4          0.09929   \n",
       "428        11.13         16.62           70.47      381.1          0.08151   \n",
       "198        19.18         22.49          127.50     1148.0          0.08523   \n",
       "203        13.81         23.75           91.56      597.8          0.13230   \n",
       "41         10.95         21.35           71.90      371.1          0.12270   \n",
       "\n",
       "     mean compactness  mean concavity  mean concave points  mean symmetry  \\\n",
       "560           0.11260         0.04462              0.04304         0.1537   \n",
       "428           0.03834         0.01369              0.01370         0.1511   \n",
       "198           0.14280         0.11140              0.06772         0.1767   \n",
       "203           0.17680         0.15580              0.09176         0.2251   \n",
       "41            0.12180         0.10440              0.05669         0.1895   \n",
       "\n",
       "     mean fractal dimension  ...  worst radius  worst texture  \\\n",
       "560                 0.06171  ...         15.30          33.17   \n",
       "428                 0.06148  ...         11.68          20.29   \n",
       "198                 0.05529  ...         23.36          32.06   \n",
       "203                 0.07421  ...         19.20          41.85   \n",
       "41                  0.06870  ...         12.84          35.34   \n",
       "\n",
       "     worst perimeter  worst area  worst smoothness  worst compactness  \\\n",
       "560           100.20       706.7            0.1241            0.22640   \n",
       "428            74.35       421.1            0.1030            0.06219   \n",
       "198           166.40      1688.0            0.1322            0.56010   \n",
       "203           128.50      1153.0            0.2226            0.52090   \n",
       "41             87.22       514.0            0.1909            0.26980   \n",
       "\n",
       "     worst concavity  worst concave points  worst symmetry  \\\n",
       "560           0.1326               0.10480          0.2250   \n",
       "428           0.0458               0.04044          0.2383   \n",
       "198           0.3865               0.17080          0.3193   \n",
       "203           0.4646               0.20130          0.4432   \n",
       "41            0.4023               0.14240          0.2964   \n",
       "\n",
       "     worst fractal dimension  \n",
       "560                  0.08321  \n",
       "428                  0.07083  \n",
       "198                  0.09221  \n",
       "203                  0.10860  \n",
       "41                   0.09606  \n",
       "\n",
       "[5 rows x 30 columns]"
      ]
     },
     "execution_count": 29,
     "metadata": {},
     "output_type": "execute_result"
    }
   ],
   "source": [
    "X_train.head()"
   ]
  },
  {
   "cell_type": "code",
   "execution_count": 30,
   "metadata": {},
   "outputs": [
    {
     "data": {
      "text/plain": [
       "1    0.632967\n",
       "0    0.367033\n",
       "Name: target, dtype: float64"
      ]
     },
     "execution_count": 30,
     "metadata": {},
     "output_type": "execute_result"
    }
   ],
   "source": [
    "y_train.value_counts(normalize=True)"
   ]
  },
  {
   "cell_type": "code",
   "execution_count": 31,
   "metadata": {
    "slideshow": {
     "slide_type": "slide"
    }
   },
   "outputs": [],
   "source": [
    "from sklearn.metrics import f1_score, make_scorer, recall_score\n",
    "\n",
    "custom_scorer = make_scorer(\n",
    "    f1_score, pos_label=0\n",
    ")  # note the syntax to change the positive label for f1 score\n",
    "scoring_metric = custom_scorer\n",
    "\n",
    "results_classification = {}"
   ]
  },
  {
   "cell_type": "markdown",
   "metadata": {
    "slideshow": {
     "slide_type": "slide"
    }
   },
   "source": [
    "Let's try `DummyClassifier`"
   ]
  },
  {
   "cell_type": "code",
   "execution_count": 32,
   "metadata": {
    "slideshow": {
     "slide_type": "-"
    }
   },
   "outputs": [
    {
     "data": {
      "text/html": [
       "<div>\n",
       "<style scoped>\n",
       "    .dataframe tbody tr th:only-of-type {\n",
       "        vertical-align: middle;\n",
       "    }\n",
       "\n",
       "    .dataframe tbody tr th {\n",
       "        vertical-align: top;\n",
       "    }\n",
       "\n",
       "    .dataframe thead th {\n",
       "        text-align: right;\n",
       "    }\n",
       "</style>\n",
       "<table border=\"1\" class=\"dataframe\">\n",
       "  <thead>\n",
       "    <tr style=\"text-align: right;\">\n",
       "      <th></th>\n",
       "      <th>dummy</th>\n",
       "    </tr>\n",
       "  </thead>\n",
       "  <tbody>\n",
       "    <tr>\n",
       "      <th>fit_time</th>\n",
       "      <td>0.001 (+/- 0.000)</td>\n",
       "    </tr>\n",
       "    <tr>\n",
       "      <th>score_time</th>\n",
       "      <td>0.002 (+/- 0.001)</td>\n",
       "    </tr>\n",
       "    <tr>\n",
       "      <th>test_score</th>\n",
       "      <td>0.000 (+/- 0.000)</td>\n",
       "    </tr>\n",
       "    <tr>\n",
       "      <th>train_score</th>\n",
       "      <td>0.000 (+/- 0.000)</td>\n",
       "    </tr>\n",
       "  </tbody>\n",
       "</table>\n",
       "</div>"
      ],
      "text/plain": [
       "                         dummy\n",
       "fit_time     0.001 (+/- 0.000)\n",
       "score_time   0.002 (+/- 0.001)\n",
       "test_score   0.000 (+/- 0.000)\n",
       "train_score  0.000 (+/- 0.000)"
      ]
     },
     "execution_count": 32,
     "metadata": {},
     "output_type": "execute_result"
    }
   ],
   "source": [
    "dummy = DummyClassifier()\n",
    "results_classification[\"dummy\"] = mean_std_cross_val_scores(\n",
    "    dummy,\n",
    "    X_train,\n",
    "    y_train,\n",
    "    return_train_score=True,\n",
    "    scoring=scoring_metric,\n",
    ")\n",
    "pd.DataFrame(results_classification)"
   ]
  },
  {
   "cell_type": "markdown",
   "metadata": {
    "slideshow": {
     "slide_type": "slide"
    }
   },
   "source": [
    "- In `sklearn`, by default logistic regression uses L2 regularization. \n",
    "- The `C` hyperparameter decides the strength of regularization. \n",
    "- Unfortunately, interpretation of `C` is inverse of `lambda`. "
   ]
  },
  {
   "cell_type": "markdown",
   "metadata": {},
   "source": [
    "> From the document:\n",
    "C : float, default=1.0\n",
    "Inverse of regularization strength; must be a positive float. Like in support vector machines, smaller values specify stronger regularization.\n",
    "\n",
    "penalty{‘l1’, ‘l2’, ‘elasticnet’, ‘none’}, default=’l2’\n",
    "Specify the norm of the penalty:\n",
    "\n",
    "- 'none': no penalty is added;\n",
    "\n",
    "- 'l2': add a L2 penalty term and it is the default choice;\n",
    "\n",
    "- 'l1': add a L1 penalty term;\n",
    "\n",
    "- 'elasticnet': both L1 and L2 penalty terms are added."
   ]
  },
  {
   "cell_type": "code",
   "execution_count": 34,
   "metadata": {},
   "outputs": [],
   "source": [
    "pipe_lgr_l2 = make_pipeline(StandardScaler(), LogisticRegression())\n",
    "results_classification[\"Logistic Regression L2\"] = mean_std_cross_val_scores(\n",
    "    pipe_lgr_l2, X_train, y_train, return_train_score=True, scoring=scoring_metric\n",
    ")"
   ]
  },
  {
   "cell_type": "code",
   "execution_count": 35,
   "metadata": {},
   "outputs": [
    {
     "data": {
      "text/html": [
       "<div>\n",
       "<style scoped>\n",
       "    .dataframe tbody tr th:only-of-type {\n",
       "        vertical-align: middle;\n",
       "    }\n",
       "\n",
       "    .dataframe tbody tr th {\n",
       "        vertical-align: top;\n",
       "    }\n",
       "\n",
       "    .dataframe thead th {\n",
       "        text-align: right;\n",
       "    }\n",
       "</style>\n",
       "<table border=\"1\" class=\"dataframe\">\n",
       "  <thead>\n",
       "    <tr style=\"text-align: right;\">\n",
       "      <th></th>\n",
       "      <th>dummy</th>\n",
       "      <th>Logistic Regression L2</th>\n",
       "    </tr>\n",
       "  </thead>\n",
       "  <tbody>\n",
       "    <tr>\n",
       "      <th>fit_time</th>\n",
       "      <td>0.001 (+/- 0.000)</td>\n",
       "      <td>0.016 (+/- 0.005)</td>\n",
       "    </tr>\n",
       "    <tr>\n",
       "      <th>score_time</th>\n",
       "      <td>0.002 (+/- 0.001)</td>\n",
       "      <td>0.003 (+/- 0.001)</td>\n",
       "    </tr>\n",
       "    <tr>\n",
       "      <th>test_score</th>\n",
       "      <td>0.000 (+/- 0.000)</td>\n",
       "      <td>0.970 (+/- 0.011)</td>\n",
       "    </tr>\n",
       "    <tr>\n",
       "      <th>train_score</th>\n",
       "      <td>0.000 (+/- 0.000)</td>\n",
       "      <td>0.985 (+/- 0.005)</td>\n",
       "    </tr>\n",
       "  </tbody>\n",
       "</table>\n",
       "</div>"
      ],
      "text/plain": [
       "                         dummy Logistic Regression L2\n",
       "fit_time     0.001 (+/- 0.000)      0.016 (+/- 0.005)\n",
       "score_time   0.002 (+/- 0.001)      0.003 (+/- 0.001)\n",
       "test_score   0.000 (+/- 0.000)      0.970 (+/- 0.011)\n",
       "train_score  0.000 (+/- 0.000)      0.985 (+/- 0.005)"
      ]
     },
     "execution_count": 35,
     "metadata": {},
     "output_type": "execute_result"
    }
   ],
   "source": [
    "pd.DataFrame(results_classification)"
   ]
  },
  {
   "cell_type": "markdown",
   "metadata": {
    "slideshow": {
     "slide_type": "slide"
    }
   },
   "source": [
    "Weights are small but all of them are non-zero. "
   ]
  },
  {
   "cell_type": "code",
   "execution_count": 36,
   "metadata": {
    "slideshow": {
     "slide_type": "-"
    }
   },
   "outputs": [
    {
     "data": {
      "text/html": [
       "<div>\n",
       "<style scoped>\n",
       "    .dataframe tbody tr th:only-of-type {\n",
       "        vertical-align: middle;\n",
       "    }\n",
       "\n",
       "    .dataframe tbody tr th {\n",
       "        vertical-align: top;\n",
       "    }\n",
       "\n",
       "    .dataframe thead th {\n",
       "        text-align: right;\n",
       "    }\n",
       "</style>\n",
       "<table border=\"1\" class=\"dataframe\">\n",
       "  <thead>\n",
       "    <tr style=\"text-align: right;\">\n",
       "      <th></th>\n",
       "      <th>l2_coefs</th>\n",
       "    </tr>\n",
       "  </thead>\n",
       "  <tbody>\n",
       "    <tr>\n",
       "      <th>mean radius</th>\n",
       "      <td>-0.539854</td>\n",
       "    </tr>\n",
       "    <tr>\n",
       "      <th>mean texture</th>\n",
       "      <td>-0.252141</td>\n",
       "    </tr>\n",
       "    <tr>\n",
       "      <th>mean perimeter</th>\n",
       "      <td>-0.494560</td>\n",
       "    </tr>\n",
       "    <tr>\n",
       "      <th>mean area</th>\n",
       "      <td>-0.610451</td>\n",
       "    </tr>\n",
       "    <tr>\n",
       "      <th>mean smoothness</th>\n",
       "      <td>-0.174066</td>\n",
       "    </tr>\n",
       "    <tr>\n",
       "      <th>mean compactness</th>\n",
       "      <td>0.577983</td>\n",
       "    </tr>\n",
       "    <tr>\n",
       "      <th>mean concavity</th>\n",
       "      <td>-0.658777</td>\n",
       "    </tr>\n",
       "    <tr>\n",
       "      <th>mean concave points</th>\n",
       "      <td>-0.980244</td>\n",
       "    </tr>\n",
       "    <tr>\n",
       "      <th>mean symmetry</th>\n",
       "      <td>0.119974</td>\n",
       "    </tr>\n",
       "    <tr>\n",
       "      <th>mean fractal dimension</th>\n",
       "      <td>0.406479</td>\n",
       "    </tr>\n",
       "    <tr>\n",
       "      <th>radius error</th>\n",
       "      <td>-1.247956</td>\n",
       "    </tr>\n",
       "    <tr>\n",
       "      <th>texture error</th>\n",
       "      <td>-0.103258</td>\n",
       "    </tr>\n",
       "    <tr>\n",
       "      <th>perimeter error</th>\n",
       "      <td>-0.731201</td>\n",
       "    </tr>\n",
       "    <tr>\n",
       "      <th>area error</th>\n",
       "      <td>-0.931584</td>\n",
       "    </tr>\n",
       "    <tr>\n",
       "      <th>smoothness error</th>\n",
       "      <td>-0.230991</td>\n",
       "    </tr>\n",
       "    <tr>\n",
       "      <th>compactness error</th>\n",
       "      <td>0.614317</td>\n",
       "    </tr>\n",
       "    <tr>\n",
       "      <th>concavity error</th>\n",
       "      <td>-0.032318</td>\n",
       "    </tr>\n",
       "    <tr>\n",
       "      <th>concave points error</th>\n",
       "      <td>-0.206376</td>\n",
       "    </tr>\n",
       "    <tr>\n",
       "      <th>symmetry error</th>\n",
       "      <td>0.272883</td>\n",
       "    </tr>\n",
       "    <tr>\n",
       "      <th>fractal dimension error</th>\n",
       "      <td>0.739561</td>\n",
       "    </tr>\n",
       "    <tr>\n",
       "      <th>worst radius</th>\n",
       "      <td>-1.040150</td>\n",
       "    </tr>\n",
       "    <tr>\n",
       "      <th>worst texture</th>\n",
       "      <td>-1.096207</td>\n",
       "    </tr>\n",
       "    <tr>\n",
       "      <th>worst perimeter</th>\n",
       "      <td>-0.885489</td>\n",
       "    </tr>\n",
       "    <tr>\n",
       "      <th>worst area</th>\n",
       "      <td>-1.026863</td>\n",
       "    </tr>\n",
       "    <tr>\n",
       "      <th>worst smoothness</th>\n",
       "      <td>-0.927290</td>\n",
       "    </tr>\n",
       "    <tr>\n",
       "      <th>worst compactness</th>\n",
       "      <td>-0.075403</td>\n",
       "    </tr>\n",
       "    <tr>\n",
       "      <th>worst concavity</th>\n",
       "      <td>-0.766568</td>\n",
       "    </tr>\n",
       "    <tr>\n",
       "      <th>worst concave points</th>\n",
       "      <td>-0.732966</td>\n",
       "    </tr>\n",
       "    <tr>\n",
       "      <th>worst symmetry</th>\n",
       "      <td>-0.669925</td>\n",
       "    </tr>\n",
       "    <tr>\n",
       "      <th>worst fractal dimension</th>\n",
       "      <td>-0.520939</td>\n",
       "    </tr>\n",
       "  </tbody>\n",
       "</table>\n",
       "</div>"
      ],
      "text/plain": [
       "                         l2_coefs\n",
       "mean radius             -0.539854\n",
       "mean texture            -0.252141\n",
       "mean perimeter          -0.494560\n",
       "mean area               -0.610451\n",
       "mean smoothness         -0.174066\n",
       "mean compactness         0.577983\n",
       "mean concavity          -0.658777\n",
       "mean concave points     -0.980244\n",
       "mean symmetry            0.119974\n",
       "mean fractal dimension   0.406479\n",
       "radius error            -1.247956\n",
       "texture error           -0.103258\n",
       "perimeter error         -0.731201\n",
       "area error              -0.931584\n",
       "smoothness error        -0.230991\n",
       "compactness error        0.614317\n",
       "concavity error         -0.032318\n",
       "concave points error    -0.206376\n",
       "symmetry error           0.272883\n",
       "fractal dimension error  0.739561\n",
       "worst radius            -1.040150\n",
       "worst texture           -1.096207\n",
       "worst perimeter         -0.885489\n",
       "worst area              -1.026863\n",
       "worst smoothness        -0.927290\n",
       "worst compactness       -0.075403\n",
       "worst concavity         -0.766568\n",
       "worst concave points    -0.732966\n",
       "worst symmetry          -0.669925\n",
       "worst fractal dimension -0.520939"
      ]
     },
     "execution_count": 36,
     "metadata": {},
     "output_type": "execute_result"
    }
   ],
   "source": [
    "pipe_lgr_l2.fit(X_train, y_train)\n",
    "l2_coefs = pipe_lgr_l2.named_steps[\"logisticregression\"].coef_.flatten()\n",
    "df = pd.DataFrame(l2_coefs, index=X_train.columns, columns=[\"l2_coefs\"])\n",
    "df"
   ]
  },
  {
   "cell_type": "markdown",
   "metadata": {
    "slideshow": {
     "slide_type": "slide"
    }
   },
   "source": [
    "- Let's try logistic regression with L1 regularization.\n",
    "- Note that we are using a different solver (optimizer) here because not all solvers support L1-regularization. "
   ]
  },
  {
   "cell_type": "code",
   "execution_count": 37,
   "metadata": {
    "slideshow": {
     "slide_type": "-"
    }
   },
   "outputs": [],
   "source": [
    "pipe_lgr_l1 = make_pipeline(\n",
    "    StandardScaler(), LogisticRegression(solver=\"liblinear\", penalty=\"l1\")\n",
    ")\n",
    "results_classification[\"Logistic Regression L1\"] = mean_std_cross_val_scores(\n",
    "    pipe_lgr_l1, X_train, y_train, return_train_score=True, scoring=scoring_metric\n",
    ")"
   ]
  },
  {
   "cell_type": "code",
   "execution_count": 38,
   "metadata": {},
   "outputs": [
    {
     "data": {
      "text/html": [
       "<div>\n",
       "<style scoped>\n",
       "    .dataframe tbody tr th:only-of-type {\n",
       "        vertical-align: middle;\n",
       "    }\n",
       "\n",
       "    .dataframe tbody tr th {\n",
       "        vertical-align: top;\n",
       "    }\n",
       "\n",
       "    .dataframe thead th {\n",
       "        text-align: right;\n",
       "    }\n",
       "</style>\n",
       "<table border=\"1\" class=\"dataframe\">\n",
       "  <thead>\n",
       "    <tr style=\"text-align: right;\">\n",
       "      <th></th>\n",
       "      <th>dummy</th>\n",
       "      <th>Logistic Regression L2</th>\n",
       "      <th>Logistic Regression L1</th>\n",
       "    </tr>\n",
       "  </thead>\n",
       "  <tbody>\n",
       "    <tr>\n",
       "      <th>fit_time</th>\n",
       "      <td>0.001 (+/- 0.000)</td>\n",
       "      <td>0.016 (+/- 0.005)</td>\n",
       "      <td>0.010 (+/- 0.004)</td>\n",
       "    </tr>\n",
       "    <tr>\n",
       "      <th>score_time</th>\n",
       "      <td>0.002 (+/- 0.001)</td>\n",
       "      <td>0.003 (+/- 0.001)</td>\n",
       "      <td>0.004 (+/- 0.002)</td>\n",
       "    </tr>\n",
       "    <tr>\n",
       "      <th>test_score</th>\n",
       "      <td>0.000 (+/- 0.000)</td>\n",
       "      <td>0.970 (+/- 0.011)</td>\n",
       "      <td>0.967 (+/- 0.007)</td>\n",
       "    </tr>\n",
       "    <tr>\n",
       "      <th>train_score</th>\n",
       "      <td>0.000 (+/- 0.000)</td>\n",
       "      <td>0.985 (+/- 0.005)</td>\n",
       "      <td>0.985 (+/- 0.005)</td>\n",
       "    </tr>\n",
       "  </tbody>\n",
       "</table>\n",
       "</div>"
      ],
      "text/plain": [
       "                         dummy Logistic Regression L2 Logistic Regression L1\n",
       "fit_time     0.001 (+/- 0.000)      0.016 (+/- 0.005)      0.010 (+/- 0.004)\n",
       "score_time   0.002 (+/- 0.001)      0.003 (+/- 0.001)      0.004 (+/- 0.002)\n",
       "test_score   0.000 (+/- 0.000)      0.970 (+/- 0.011)      0.967 (+/- 0.007)\n",
       "train_score  0.000 (+/- 0.000)      0.985 (+/- 0.005)      0.985 (+/- 0.005)"
      ]
     },
     "execution_count": 38,
     "metadata": {},
     "output_type": "execute_result"
    }
   ],
   "source": [
    "pd.DataFrame(results_classification)"
   ]
  },
  {
   "cell_type": "markdown",
   "metadata": {},
   "source": [
    "- The scores are more or less the same."
   ]
  },
  {
   "cell_type": "markdown",
   "metadata": {
    "slideshow": {
     "slide_type": "slide"
    }
   },
   "source": [
    "- But L1 regularization is carrying out feature selection; Many coefficients are 0. \n",
    "- Similar scores with less features! More interpretable model! "
   ]
  },
  {
   "cell_type": "code",
   "execution_count": 39,
   "metadata": {},
   "outputs": [
    {
     "data": {
      "text/html": [
       "<div>\n",
       "<style scoped>\n",
       "    .dataframe tbody tr th:only-of-type {\n",
       "        vertical-align: middle;\n",
       "    }\n",
       "\n",
       "    .dataframe tbody tr th {\n",
       "        vertical-align: top;\n",
       "    }\n",
       "\n",
       "    .dataframe thead th {\n",
       "        text-align: right;\n",
       "    }\n",
       "</style>\n",
       "<table border=\"1\" class=\"dataframe\">\n",
       "  <thead>\n",
       "    <tr style=\"text-align: right;\">\n",
       "      <th></th>\n",
       "      <th>l2_coefs</th>\n",
       "      <th>l1_coef</th>\n",
       "    </tr>\n",
       "  </thead>\n",
       "  <tbody>\n",
       "    <tr>\n",
       "      <th>mean radius</th>\n",
       "      <td>-0.539854</td>\n",
       "      <td>0.000000</td>\n",
       "    </tr>\n",
       "    <tr>\n",
       "      <th>mean texture</th>\n",
       "      <td>-0.252141</td>\n",
       "      <td>0.000000</td>\n",
       "    </tr>\n",
       "    <tr>\n",
       "      <th>mean perimeter</th>\n",
       "      <td>-0.494560</td>\n",
       "      <td>0.000000</td>\n",
       "    </tr>\n",
       "    <tr>\n",
       "      <th>mean area</th>\n",
       "      <td>-0.610451</td>\n",
       "      <td>0.000000</td>\n",
       "    </tr>\n",
       "    <tr>\n",
       "      <th>mean smoothness</th>\n",
       "      <td>-0.174066</td>\n",
       "      <td>0.000000</td>\n",
       "    </tr>\n",
       "    <tr>\n",
       "      <th>mean compactness</th>\n",
       "      <td>0.577983</td>\n",
       "      <td>0.000000</td>\n",
       "    </tr>\n",
       "    <tr>\n",
       "      <th>mean concavity</th>\n",
       "      <td>-0.658777</td>\n",
       "      <td>0.000000</td>\n",
       "    </tr>\n",
       "    <tr>\n",
       "      <th>mean concave points</th>\n",
       "      <td>-0.980244</td>\n",
       "      <td>-1.353195</td>\n",
       "    </tr>\n",
       "    <tr>\n",
       "      <th>mean symmetry</th>\n",
       "      <td>0.119974</td>\n",
       "      <td>0.000000</td>\n",
       "    </tr>\n",
       "    <tr>\n",
       "      <th>mean fractal dimension</th>\n",
       "      <td>0.406479</td>\n",
       "      <td>0.277025</td>\n",
       "    </tr>\n",
       "    <tr>\n",
       "      <th>radius error</th>\n",
       "      <td>-1.247956</td>\n",
       "      <td>-1.992346</td>\n",
       "    </tr>\n",
       "    <tr>\n",
       "      <th>texture error</th>\n",
       "      <td>-0.103258</td>\n",
       "      <td>0.000000</td>\n",
       "    </tr>\n",
       "    <tr>\n",
       "      <th>perimeter error</th>\n",
       "      <td>-0.731201</td>\n",
       "      <td>0.000000</td>\n",
       "    </tr>\n",
       "    <tr>\n",
       "      <th>area error</th>\n",
       "      <td>-0.931584</td>\n",
       "      <td>0.000000</td>\n",
       "    </tr>\n",
       "    <tr>\n",
       "      <th>smoothness error</th>\n",
       "      <td>-0.230991</td>\n",
       "      <td>-0.126155</td>\n",
       "    </tr>\n",
       "    <tr>\n",
       "      <th>compactness error</th>\n",
       "      <td>0.614317</td>\n",
       "      <td>0.537310</td>\n",
       "    </tr>\n",
       "    <tr>\n",
       "      <th>concavity error</th>\n",
       "      <td>-0.032318</td>\n",
       "      <td>0.000000</td>\n",
       "    </tr>\n",
       "    <tr>\n",
       "      <th>concave points error</th>\n",
       "      <td>-0.206376</td>\n",
       "      <td>0.000000</td>\n",
       "    </tr>\n",
       "    <tr>\n",
       "      <th>symmetry error</th>\n",
       "      <td>0.272883</td>\n",
       "      <td>0.000000</td>\n",
       "    </tr>\n",
       "    <tr>\n",
       "      <th>fractal dimension error</th>\n",
       "      <td>0.739561</td>\n",
       "      <td>0.221720</td>\n",
       "    </tr>\n",
       "    <tr>\n",
       "      <th>worst radius</th>\n",
       "      <td>-1.040150</td>\n",
       "      <td>-1.444837</td>\n",
       "    </tr>\n",
       "    <tr>\n",
       "      <th>worst texture</th>\n",
       "      <td>-1.096207</td>\n",
       "      <td>-1.372576</td>\n",
       "    </tr>\n",
       "    <tr>\n",
       "      <th>worst perimeter</th>\n",
       "      <td>-0.885489</td>\n",
       "      <td>-0.301753</td>\n",
       "    </tr>\n",
       "    <tr>\n",
       "      <th>worst area</th>\n",
       "      <td>-1.026863</td>\n",
       "      <td>-3.666985</td>\n",
       "    </tr>\n",
       "    <tr>\n",
       "      <th>worst smoothness</th>\n",
       "      <td>-0.927290</td>\n",
       "      <td>-0.982700</td>\n",
       "    </tr>\n",
       "    <tr>\n",
       "      <th>worst compactness</th>\n",
       "      <td>-0.075403</td>\n",
       "      <td>0.000000</td>\n",
       "    </tr>\n",
       "    <tr>\n",
       "      <th>worst concavity</th>\n",
       "      <td>-0.766568</td>\n",
       "      <td>-1.016999</td>\n",
       "    </tr>\n",
       "    <tr>\n",
       "      <th>worst concave points</th>\n",
       "      <td>-0.732966</td>\n",
       "      <td>-0.656757</td>\n",
       "    </tr>\n",
       "    <tr>\n",
       "      <th>worst symmetry</th>\n",
       "      <td>-0.669925</td>\n",
       "      <td>-0.299893</td>\n",
       "    </tr>\n",
       "    <tr>\n",
       "      <th>worst fractal dimension</th>\n",
       "      <td>-0.520939</td>\n",
       "      <td>0.000000</td>\n",
       "    </tr>\n",
       "  </tbody>\n",
       "</table>\n",
       "</div>"
      ],
      "text/plain": [
       "                         l2_coefs   l1_coef\n",
       "mean radius             -0.539854  0.000000\n",
       "mean texture            -0.252141  0.000000\n",
       "mean perimeter          -0.494560  0.000000\n",
       "mean area               -0.610451  0.000000\n",
       "mean smoothness         -0.174066  0.000000\n",
       "mean compactness         0.577983  0.000000\n",
       "mean concavity          -0.658777  0.000000\n",
       "mean concave points     -0.980244 -1.353195\n",
       "mean symmetry            0.119974  0.000000\n",
       "mean fractal dimension   0.406479  0.277025\n",
       "radius error            -1.247956 -1.992346\n",
       "texture error           -0.103258  0.000000\n",
       "perimeter error         -0.731201  0.000000\n",
       "area error              -0.931584  0.000000\n",
       "smoothness error        -0.230991 -0.126155\n",
       "compactness error        0.614317  0.537310\n",
       "concavity error         -0.032318  0.000000\n",
       "concave points error    -0.206376  0.000000\n",
       "symmetry error           0.272883  0.000000\n",
       "fractal dimension error  0.739561  0.221720\n",
       "worst radius            -1.040150 -1.444837\n",
       "worst texture           -1.096207 -1.372576\n",
       "worst perimeter         -0.885489 -0.301753\n",
       "worst area              -1.026863 -3.666985\n",
       "worst smoothness        -0.927290 -0.982700\n",
       "worst compactness       -0.075403  0.000000\n",
       "worst concavity         -0.766568 -1.016999\n",
       "worst concave points    -0.732966 -0.656757\n",
       "worst symmetry          -0.669925 -0.299893\n",
       "worst fractal dimension -0.520939  0.000000"
      ]
     },
     "execution_count": 39,
     "metadata": {},
     "output_type": "execute_result"
    }
   ],
   "source": [
    "pipe_lgr_l1.fit(X_train, y_train)\n",
    "l1_coefs = pipe_lgr_l1.named_steps[\"logisticregression\"].coef_.flatten()\n",
    "df[\"l1_coef\"] = l1_coefs\n",
    "df"
   ]
  },
  {
   "cell_type": "markdown",
   "metadata": {
    "slideshow": {
     "slide_type": "slide"
    }
   },
   "source": [
    "We can also carry out feature selection using L1 regularization and pass selected features to another model. "
   ]
  },
  {
   "cell_type": "code",
   "execution_count": 40,
   "metadata": {},
   "outputs": [],
   "source": [
    "from lightgbm.sklearn import LGBMClassifier\n",
    "\n",
    "pipe_lgr_lgbm = make_pipeline(\n",
    "    StandardScaler(),\n",
    "    SelectFromModel(LogisticRegression(solver=\"liblinear\", penalty=\"l1\")),\n",
    "    LGBMClassifier(),\n",
    ")"
   ]
  },
  {
   "cell_type": "code",
   "execution_count": 41,
   "metadata": {
    "slideshow": {
     "slide_type": "slide"
    }
   },
   "outputs": [
    {
     "data": {
      "text/html": [
       "<div>\n",
       "<style scoped>\n",
       "    .dataframe tbody tr th:only-of-type {\n",
       "        vertical-align: middle;\n",
       "    }\n",
       "\n",
       "    .dataframe tbody tr th {\n",
       "        vertical-align: top;\n",
       "    }\n",
       "\n",
       "    .dataframe thead th {\n",
       "        text-align: right;\n",
       "    }\n",
       "</style>\n",
       "<table border=\"1\" class=\"dataframe\">\n",
       "  <thead>\n",
       "    <tr style=\"text-align: right;\">\n",
       "      <th></th>\n",
       "      <th>dummy</th>\n",
       "      <th>Logistic Regression L2</th>\n",
       "      <th>Logistic Regression L1</th>\n",
       "      <th>L1 + LGBM</th>\n",
       "    </tr>\n",
       "  </thead>\n",
       "  <tbody>\n",
       "    <tr>\n",
       "      <th>fit_time</th>\n",
       "      <td>0.001 (+/- 0.000)</td>\n",
       "      <td>0.016 (+/- 0.005)</td>\n",
       "      <td>0.010 (+/- 0.004)</td>\n",
       "      <td>0.160 (+/- 0.214)</td>\n",
       "    </tr>\n",
       "    <tr>\n",
       "      <th>score_time</th>\n",
       "      <td>0.002 (+/- 0.001)</td>\n",
       "      <td>0.003 (+/- 0.001)</td>\n",
       "      <td>0.004 (+/- 0.002)</td>\n",
       "      <td>0.004 (+/- 0.000)</td>\n",
       "    </tr>\n",
       "    <tr>\n",
       "      <th>test_score</th>\n",
       "      <td>0.000 (+/- 0.000)</td>\n",
       "      <td>0.970 (+/- 0.011)</td>\n",
       "      <td>0.967 (+/- 0.007)</td>\n",
       "      <td>0.961 (+/- 0.037)</td>\n",
       "    </tr>\n",
       "    <tr>\n",
       "      <th>train_score</th>\n",
       "      <td>0.000 (+/- 0.000)</td>\n",
       "      <td>0.985 (+/- 0.005)</td>\n",
       "      <td>0.985 (+/- 0.005)</td>\n",
       "      <td>1.000 (+/- 0.000)</td>\n",
       "    </tr>\n",
       "  </tbody>\n",
       "</table>\n",
       "</div>"
      ],
      "text/plain": [
       "                         dummy Logistic Regression L2 Logistic Regression L1  \\\n",
       "fit_time     0.001 (+/- 0.000)      0.016 (+/- 0.005)      0.010 (+/- 0.004)   \n",
       "score_time   0.002 (+/- 0.001)      0.003 (+/- 0.001)      0.004 (+/- 0.002)   \n",
       "test_score   0.000 (+/- 0.000)      0.970 (+/- 0.011)      0.967 (+/- 0.007)   \n",
       "train_score  0.000 (+/- 0.000)      0.985 (+/- 0.005)      0.985 (+/- 0.005)   \n",
       "\n",
       "                     L1 + LGBM  \n",
       "fit_time     0.160 (+/- 0.214)  \n",
       "score_time   0.004 (+/- 0.000)  \n",
       "test_score   0.961 (+/- 0.037)  \n",
       "train_score  1.000 (+/- 0.000)  "
      ]
     },
     "execution_count": 41,
     "metadata": {},
     "output_type": "execute_result"
    }
   ],
   "source": [
    "results_classification[\"L1 + LGBM\"] = mean_std_cross_val_scores(\n",
    "    pipe_lgr_lgbm,\n",
    "    X_train,\n",
    "    y_train,\n",
    "    return_train_score=True,\n",
    "    scoring=scoring_metric,\n",
    ")\n",
    "pd.DataFrame(results_classification)"
   ]
  },
  {
   "cell_type": "markdown",
   "metadata": {},
   "source": [
    "- The score went down a bit this case. But this might help in some other cases.\n",
    "- The resulting model is using L1 selected features only. "
   ]
  },
  {
   "cell_type": "markdown",
   "metadata": {
    "slideshow": {
     "slide_type": "slide"
    }
   },
   "source": [
    "### How to use regularization with `scikit-learn`: some examples\n",
    "\n",
    "- Regression\n",
    "    - Least squares with L2-regularization: [Ridge](https://scikit-learn.org/stable/modules/generated/sklearn.linear_model.Ridge.html)\n",
    "    - Least squares with L1-regularization: [Lasso](https://scikit-learn.org/stable/modules/generated/sklearn.linear_model.Lasso.html)\n",
    "    - Least squares with L1- and L2-regularization: [ElasticNet](https://scikit-learn.org/stable/modules/generated/sklearn.linear_model.ElasticNet.html)\n",
    "    - [SVR](https://scikit-learn.org/stable/modules/generated/sklearn.svm.SVR.html?highlight=svr#sklearn.svm.SVR) ($\\epsilon$-insensitive loss function)\n",
    "        - `epsilon = 0` gives us `KernelRidge` model (least squares with RBF)\n",
    "- Classification \n",
    "    - [SVC](https://scikit-learn.org/stable/modules/generated/sklearn.svm.SVC.html) (supports L2-regularization)\n",
    "    - [LogisticRegression](https://scikit-learn.org/stable/modules/generated/sklearn.linear_model.LogisticRegression.html#sklearn.linear_model.LogisticRegression) (support L1 and L2 with different solvers)\n",
    "    > penalty{‘l1’, ‘l2’, ‘elasticnet’, ‘none’}, default=’l2’ Used to specify the norm used in the penalization. The ‘newton-cg’, ‘sag’ and ‘lbfgs’ solvers support only l2 penalties. ‘elasticnet’ is only supported by the ‘saga’ solver. If ‘none’ (not supported by the liblinear solver), no regularization is applied.\n",
    "\n"
   ]
  },
  {
   "cell_type": "markdown",
   "metadata": {},
   "source": [
    "<br><br>"
   ]
  },
  {
   "cell_type": "markdown",
   "metadata": {},
   "source": [
    "## Regularization: scaling and collinearity "
   ]
  },
  {
   "cell_type": "markdown",
   "metadata": {
    "slideshow": {
     "slide_type": "slide"
    }
   },
   "source": [
    "### Regularization and scaling \n",
    "\n",
    "- It doesn't matter for decision trees or naive Bayes.\n",
    "    - They only look at one feature at a time.\n",
    "- It doesn't matter for least squares:\n",
    "    - $w_j*(100 mL)$ gives the same model as $w_j*(0.1 L)$ with a different $w_j$\n",
    "- It matters for $k$-nearest neighbours:\n",
    "    - Distance will be affected more by large features than small features.\n",
    "- **It matters for regularized least squares**:\n",
    "    - Penalizing $w_j^2$ means different things if features $j$ are on different scales\n",
    "    - Penalizing $w_j$ means different things if features $j$ are on different scales\n",
    "    "
   ]
  },
  {
   "cell_type": "markdown",
   "metadata": {
    "slideshow": {
     "slide_type": "slide"
    }
   },
   "source": [
    "### Collinearity and regularization \n",
    "\n",
    "- If you have colinear features, the weights would go crazy with regular linear regression. \n",
    "- With L2 regularization: The weight will be equally distributed among all collinear features because the solution is unique. \n",
    "    - Example: suppose we have three identical features with a total weight of 1 \n",
    "    - The weight will be distributed as 1/3, 1/3, 1/3 among the features. \n",
    "- With L1 regularization: The weight will not be equally distributed; the solution is not unique. \n",
    "    - Example: suppose we have three identical features with a total weight of 1 \n",
    "    - The weight could be distributed in many different ways \n",
    "    - For example, 1/2, 1/4, 1/4 or 1.0, 0, 0 or 1/2, 1/2, 0 and so on ..."
   ]
  },
  {
   "cell_type": "markdown",
   "metadata": {
    "slideshow": {
     "slide_type": "slide"
    }
   },
   "source": [
    "### Elastic nets\n",
    "\n",
    "- Combine good properties from both worlds\n",
    "\n",
    "$$f(w) = \\frac{1}{2}\\lVert Xw - y\\rVert_2^2 + \\lambda(\\alpha\\lVert w\\rVert_1 + (1-\\alpha)\\lVert w\\rVert_2^2 )  $$\n",
    "\n",
    "- $\\lambda$ control the strength of regularization \n",
    "- $\\alpha$ controls the amount of sparsity and smoothness\n",
    "- L1 promotes sparsity and the L2 promotes smoothness.\n",
    "- The functional is strictly convex: the solution is unique.\n",
    "- No collinearity problem \n",
    "    - A whole group of correlated variables is selected rather than just one variable in the group."
   ]
  },
  {
   "cell_type": "markdown",
   "metadata": {
    "slideshow": {
     "slide_type": "-"
    }
   },
   "source": [
    "You can use elastic nets using sklearn's [ElasticNet](https://scikit-learn.org/stable/modules/generated/sklearn.linear_model.ElasticNet.html). "
   ]
  },
  {
   "cell_type": "markdown",
   "metadata": {
    "slideshow": {
     "slide_type": "slide"
    }
   },
   "source": [
    "## Summary: L* regularization \n",
    "\n",
    "- L0-regularization (AIC, BIC, Mallow’s Cp, Adjusted R2, ANOVA)\n",
    "   - Adds penalty on the number of non-zeros to select features.\n",
    "\n",
    "$$f(w) = \\frac{1}{2}\\lVert Xw - y\\rVert_2^2 + \\lambda\\lVert w\\rVert_0$$    \n",
    "\n",
    "\n",
    "- L2-regularization (ridge regression):\n",
    "    - Adding penalty on the L2-norm of $w$ to decrease overfitting:\n",
    "$$f(w) = \\frac{1}{2}\\lVert Xw - y\\rVert_2^2 + \\frac{\\lambda}{2} \\lVert w\\rVert_2^2$$    \n",
    "\n",
    "- L1-regularization (lasso regression):\n",
    "    - Adding penalty on the L1-norm decreases overfitting and selects features:\n",
    "$$f(w) = \\frac{1}{2}\\lVert Xw - y\\rVert_2^2 + \\frac{\\lambda}{2} \\lVert w\\rVert_1$$            "
   ]
  },
  {
   "cell_type": "markdown",
   "metadata": {
    "slideshow": {
     "slide_type": "slide"
    }
   },
   "source": [
    "- Interpretations of coefficients of linear models should always be taken with a grain of salt\n",
    "    - Regularizing a model might change the sign of the coefficients. \n",
    "- Un-regularized linear regression: not affected by scaling\n",
    "- L1 or L2-regularized linear regression: both affected by scaling (and it's usually a good idea)"
   ]
  },
  {
   "cell_type": "markdown",
   "metadata": {
    "slideshow": {
     "slide_type": "skip"
    }
   },
   "source": [
    "<br><br><br><br>"
   ]
  },
  {
   "cell_type": "markdown",
   "metadata": {
    "slideshow": {
     "slide_type": "slide"
    }
   },
   "source": [
    "## Final comments"
   ]
  },
  {
   "cell_type": "markdown",
   "metadata": {
    "slideshow": {
     "slide_type": "slide"
    }
   },
   "source": [
    "![](img/ml-workflow.png)"
   ]
  },
  {
   "cell_type": "markdown",
   "metadata": {
    "slideshow": {
     "slide_type": "slide"
    }
   },
   "source": [
    "If you're curious about deployment, here are [notes](https://github.com/UBC-CS/cpsc330/blob/master/lectures/22_deployment-conclusion.ipynb) on this topic. "
   ]
  },
  {
   "cell_type": "markdown",
   "metadata": {
    "slideshow": {
     "slide_type": "slide"
    }
   },
   "source": [
    "### Some key takeaways\n",
    "\n",
    "Some useful guidelines:\n",
    "\n",
    "- Do train-test split right away and only once\n",
    "- Don't look at the test set until the end\n",
    "- Don't call `fit` on test/validation data\n",
    "- Use pipelines\n",
    "- Use baselines\n",
    "- Do not be overconfident about your models. They do not tell us how the world works. "
   ]
  },
  {
   "cell_type": "markdown",
   "metadata": {
    "slideshow": {
     "slide_type": "slide"
    }
   },
   "source": [
    "### Recipe to approach a supervised learning problem with tabular data \n",
    "\n",
    "1. Have a long conversation with the stakeholder(s) who will be using your pipeline.\n",
    "2. Have a long conversation with the person(s) who collected the data.\n",
    "3. Think about the ethical implications - are you sure you want to do this project? If so, should ethics guide your approach?\n",
    "4. Random train-test split with fixed random seed; do not touch the test data until Step 16.\n",
    "5. Exploratory data analysis, outlier detection.\n",
    "6. Choose a scoring metric -> higher values should make you & your stakeholders happier.\n",
    "7. Fit a baseline model, e.g. `DummyClassifier` or `DummyRegressor`.\n",
    "8. Create a preprocessing pipeline. May involve feature engineering. (This is usually a time-consuming step!)\n",
    "9. Try a linear model, e.g. `LogisticRegression` or `Ridge`; tune hyperparameters with CV.\n",
    "10. Try other sensible model(s), e.g. LightGBM; tune hyperparameters with CV.\n",
    "11. For each model, look at sub-scores from the folds of cross-validation to get a sense of \"error bars\" on the scores.\n",
    "12. Pick a model that you like. Best CV score is a reasonable metric, though you may choose to favour simpler models.\n",
    "13. Look at feature importances.\n",
    "14. (optional) Perform some more diagnostics like confusion matrix for classification, or \"predicted vs. true\" scatterplots for regression.\n",
    "15. (optional) Try to calibrate the uncertainty/confidence outputted by your model.\n",
    "16. Test set evaluation.\n",
    "17. Question everything again: validity of results, bias/fairness of trained model, etc.\n",
    "18. Discuss your results with stakeholders.\n",
    "19. (optional) Retrain on all your data.\n",
    "20. Deployment & integration.\n",
    "21. Profit?\n",
    "\n",
    "PS: the order of steps is approximate, and some steps may need to be repeated during prototyping, experimentation, and as needed over time."
   ]
  },
  {
   "cell_type": "code",
   "execution_count": null,
   "metadata": {},
   "outputs": [],
   "source": []
  }
 ],
 "metadata": {
  "celltoolbar": "Slideshow",
  "kernelspec": {
   "display_name": "Python 3",
   "language": "python",
   "name": "python3"
  },
  "language_info": {
   "codemirror_mode": {
    "name": "ipython",
    "version": 3
   },
   "file_extension": ".py",
   "mimetype": "text/x-python",
   "name": "python",
   "nbconvert_exporter": "python",
   "pygments_lexer": "ipython3",
   "version": "3.9.5"
  }
 },
 "nbformat": 4,
 "nbformat_minor": 4
}
